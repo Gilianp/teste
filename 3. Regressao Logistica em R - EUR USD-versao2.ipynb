{
 "cells": [
  {
   "cell_type": "markdown",
   "metadata": {},
   "source": [
    "### Regressao Logistica em R\n",
    "\n",
    "#### Motivaçao:\n",
    " - O conceito do Z-Score\n",
    " - O que nao te contam nos livros\n",
    " - Construindo mais variaveis para o modelo\n",
    " - Treinamento e avaliaçao do Modelo\n",
    " - Area Under the Curve (AUC) ROC e o Gini\n",
    " - Resultados:\n",
    "     - \"Retorno de 2009 à 2019:  51.32 %%\"\n",
    "     - \"Retorno juros simples por ano:  4.67%\"\n",
    " - Consideraçoes finais"
   ]
  },
  {
   "cell_type": "markdown",
   "metadata": {},
   "source": [
    "_____________________________________________"
   ]
  },
  {
   "cell_type": "markdown",
   "metadata": {},
   "source": [
    "### Bibliotecas"
   ]
  },
  {
   "cell_type": "code",
   "execution_count": 1,
   "metadata": {},
   "outputs": [
    {
     "name": "stderr",
     "output_type": "stream",
     "text": [
      "Warning message:\n",
      "\"package 'rattle' was built under R version 3.6.2\"Rattle: A free graphical interface for data science with R.\n",
      "Version 5.3.0 Copyright (c) 2006-2018 Togaware Pty Ltd.\n",
      "Type 'rattle()' to shake, rattle, and roll your data.\n",
      "Loading required package: lattice\n",
      "Loading required package: ggplot2\n",
      "Loading required package: gplots\n",
      "\n",
      "Attaching package: 'gplots'\n",
      "\n",
      "The following object is masked from 'package:stats':\n",
      "\n",
      "    lowess\n",
      "\n",
      "Warning message:\n",
      "\"package 'party' was built under R version 3.6.2\"Loading required package: grid\n",
      "Loading required package: mvtnorm\n",
      "Loading required package: modeltools\n",
      "Loading required package: stats4\n",
      "Loading required package: strucchange\n",
      "Warning message:\n",
      "\"package 'strucchange' was built under R version 3.6.2\"Loading required package: zoo\n",
      "\n",
      "Attaching package: 'zoo'\n",
      "\n",
      "The following objects are masked from 'package:base':\n",
      "\n",
      "    as.Date, as.Date.numeric\n",
      "\n",
      "Loading required package: sandwich\n",
      "Warning message:\n",
      "\"package 'mlbench' was built under R version 3.6.2\"Loading required package: xts\n",
      "Registered S3 method overwritten by 'xts':\n",
      "  method     from\n",
      "  as.zoo.xts zoo \n",
      "Loading required package: TTR\n",
      "Registered S3 method overwritten by 'quantmod':\n",
      "  method            from\n",
      "  as.zoo.data.frame zoo \n",
      "Version 0.4-0 included new data defaults. See ?getSymbols.\n",
      "\n",
      "Attaching package: 'data.table'\n",
      "\n",
      "The following objects are masked from 'package:xts':\n",
      "\n",
      "    first, last\n",
      "\n",
      "Registered S3 method overwritten by 'rvest':\n",
      "  method            from\n",
      "  read_xml.response xml2\n",
      "-- Attaching packages --------------------------------------- tidyverse 1.2.1 --\n",
      "v tibble  2.1.1       v purrr   0.3.2  \n",
      "v tidyr   0.8.3       v dplyr   0.8.0.1\n",
      "v readr   1.3.1       v stringr 1.4.0  \n",
      "v tibble  2.1.1       v forcats 0.4.0  \n",
      "-- Conflicts ------------------------------------------ tidyverse_conflicts() --\n",
      "x dplyr::between()    masks data.table::between()\n",
      "x stringr::boundary() masks strucchange::boundary()\n",
      "x dplyr::filter()     masks stats::filter()\n",
      "x dplyr::first()      masks data.table::first(), xts::first()\n",
      "x dplyr::lag()        masks stats::lag()\n",
      "x dplyr::last()       masks data.table::last(), xts::last()\n",
      "x purrr::lift()       masks caret::lift()\n",
      "x purrr::transpose()  masks data.table::transpose()\n"
     ]
    }
   ],
   "source": [
    "library(stats)\n",
    "library(rattle)\n",
    "library(caret)\n",
    "library(ROCR)\n",
    "library(party)\n",
    "library(mlbench)\n",
    "library(quantmod)\n",
    "library(e1071)\n",
    "library(data.table)\n",
    "library(tidyverse)"
   ]
  },
  {
   "cell_type": "markdown",
   "metadata": {},
   "source": [
    "_____________________________________________"
   ]
  },
  {
   "cell_type": "markdown",
   "metadata": {},
   "source": [
    "### Carregando a base de dados"
   ]
  },
  {
   "cell_type": "code",
   "execution_count": 2,
   "metadata": {},
   "outputs": [],
   "source": [
    "# Muda o diretorio de trabalho\n",
    "\n",
    "setwd('C:/Users/engle/OM Na Pratica/Finanças Quantitativas/Bases de Dados')"
   ]
  },
  {
   "cell_type": "code",
   "execution_count": 3,
   "metadata": {},
   "outputs": [],
   "source": [
    "# Importando arquivos do tipo CSV - funcao fread\n",
    "\n",
    "#Carregando o Dataset e ajustando a data\n",
    "EURUSD <- fread(\"EURUSD_D1_Reg_Log.csv\", header = TRUE, sep = \";\")\n",
    "\n",
    "EURUSD <- data.frame(EURUSD)\n",
    "\n",
    "names(EURUSD)[1] <- \"DATE\"\n",
    "\n",
    "EURUSD$DATE <- as.POSIXct(strptime(EURUSD$DATE, format= \"%d/%m/%Y\"))"
   ]
  },
  {
   "cell_type": "code",
   "execution_count": 4,
   "metadata": {},
   "outputs": [
    {
     "data": {
      "text/html": [
       "<table>\n",
       "<thead><tr><th scope=col>DATE</th><th scope=col>Open</th><th scope=col>High</th><th scope=col>Low</th><th scope=col>Close</th></tr></thead>\n",
       "<tbody>\n",
       "\t<tr><td>2003-05-05</td><td>1.12728   </td><td>1.14506   </td><td>1.12723   </td><td>1.14338   </td></tr>\n",
       "\t<tr><td>2003-05-06</td><td>1.14297   </td><td>1.14438   </td><td>1.13265   </td><td>1.13647   </td></tr>\n",
       "\t<tr><td>2003-05-07</td><td>1.13605   </td><td>1.15077   </td><td>1.13006   </td><td>1.14996   </td></tr>\n",
       "\t<tr><td>2003-05-08</td><td>1.14932   </td><td>1.15366   </td><td>1.14346   </td><td>1.14877   </td></tr>\n",
       "\t<tr><td>2003-05-11</td><td>1.14888   </td><td>1.16229   </td><td>1.14888   </td><td>1.15427   </td></tr>\n",
       "\t<tr><td>2003-05-12</td><td>1.15357   </td><td>1.15739   </td><td>1.14620   </td><td>1.15120   </td></tr>\n",
       "</tbody>\n",
       "</table>\n"
      ],
      "text/latex": [
       "\\begin{tabular}{r|lllll}\n",
       " DATE & Open & High & Low & Close\\\\\n",
       "\\hline\n",
       "\t 2003-05-05 & 1.12728    & 1.14506    & 1.12723    & 1.14338   \\\\\n",
       "\t 2003-05-06 & 1.14297    & 1.14438    & 1.13265    & 1.13647   \\\\\n",
       "\t 2003-05-07 & 1.13605    & 1.15077    & 1.13006    & 1.14996   \\\\\n",
       "\t 2003-05-08 & 1.14932    & 1.15366    & 1.14346    & 1.14877   \\\\\n",
       "\t 2003-05-11 & 1.14888    & 1.16229    & 1.14888    & 1.15427   \\\\\n",
       "\t 2003-05-12 & 1.15357    & 1.15739    & 1.14620    & 1.15120   \\\\\n",
       "\\end{tabular}\n"
      ],
      "text/markdown": [
       "\n",
       "| DATE | Open | High | Low | Close |\n",
       "|---|---|---|---|---|\n",
       "| 2003-05-05 | 1.12728    | 1.14506    | 1.12723    | 1.14338    |\n",
       "| 2003-05-06 | 1.14297    | 1.14438    | 1.13265    | 1.13647    |\n",
       "| 2003-05-07 | 1.13605    | 1.15077    | 1.13006    | 1.14996    |\n",
       "| 2003-05-08 | 1.14932    | 1.15366    | 1.14346    | 1.14877    |\n",
       "| 2003-05-11 | 1.14888    | 1.16229    | 1.14888    | 1.15427    |\n",
       "| 2003-05-12 | 1.15357    | 1.15739    | 1.14620    | 1.15120    |\n",
       "\n"
      ],
      "text/plain": [
       "  DATE       Open    High    Low     Close  \n",
       "1 2003-05-05 1.12728 1.14506 1.12723 1.14338\n",
       "2 2003-05-06 1.14297 1.14438 1.13265 1.13647\n",
       "3 2003-05-07 1.13605 1.15077 1.13006 1.14996\n",
       "4 2003-05-08 1.14932 1.15366 1.14346 1.14877\n",
       "5 2003-05-11 1.14888 1.16229 1.14888 1.15427\n",
       "6 2003-05-12 1.15357 1.15739 1.14620 1.15120"
      ]
     },
     "metadata": {},
     "output_type": "display_data"
    },
    {
     "data": {
      "text/html": [
       "<table>\n",
       "<thead><tr><th></th><th scope=col>DATE</th><th scope=col>Open</th><th scope=col>High</th><th scope=col>Low</th><th scope=col>Close</th></tr></thead>\n",
       "<tbody>\n",
       "\t<tr><th scope=row>4323</th><td>2019-11-28</td><td>1.09987   </td><td>1.10179   </td><td>1.09986   </td><td>1.10067   </td></tr>\n",
       "\t<tr><th scope=row>4324</th><td>2019-11-29</td><td>1.10059   </td><td>1.10282   </td><td>1.09811   </td><td>1.10150   </td></tr>\n",
       "\t<tr><th scope=row>4325</th><td>2019-12-02</td><td>1.10229   </td><td>1.10907   </td><td>1.10029   </td><td>1.10784   </td></tr>\n",
       "\t<tr><th scope=row>4326</th><td>2019-12-03</td><td>1.10782   </td><td>1.10934   </td><td>1.10660   </td><td>1.10809   </td></tr>\n",
       "\t<tr><th scope=row>4327</th><td>2019-12-04</td><td>1.10809   </td><td>1.11161   </td><td>1.10666   </td><td>1.10775   </td></tr>\n",
       "\t<tr><th scope=row>4328</th><td>2019-12-05</td><td>1.10772   </td><td>1.10772   </td><td>1.11078   </td><td>1.10977   </td></tr>\n",
       "</tbody>\n",
       "</table>\n"
      ],
      "text/latex": [
       "\\begin{tabular}{r|lllll}\n",
       "  & DATE & Open & High & Low & Close\\\\\n",
       "\\hline\n",
       "\t4323 & 2019-11-28 & 1.09987    & 1.10179    & 1.09986    & 1.10067   \\\\\n",
       "\t4324 & 2019-11-29 & 1.10059    & 1.10282    & 1.09811    & 1.10150   \\\\\n",
       "\t4325 & 2019-12-02 & 1.10229    & 1.10907    & 1.10029    & 1.10784   \\\\\n",
       "\t4326 & 2019-12-03 & 1.10782    & 1.10934    & 1.10660    & 1.10809   \\\\\n",
       "\t4327 & 2019-12-04 & 1.10809    & 1.11161    & 1.10666    & 1.10775   \\\\\n",
       "\t4328 & 2019-12-05 & 1.10772    & 1.10772    & 1.11078    & 1.10977   \\\\\n",
       "\\end{tabular}\n"
      ],
      "text/markdown": [
       "\n",
       "| <!--/--> | DATE | Open | High | Low | Close |\n",
       "|---|---|---|---|---|---|\n",
       "| 4323 | 2019-11-28 | 1.09987    | 1.10179    | 1.09986    | 1.10067    |\n",
       "| 4324 | 2019-11-29 | 1.10059    | 1.10282    | 1.09811    | 1.10150    |\n",
       "| 4325 | 2019-12-02 | 1.10229    | 1.10907    | 1.10029    | 1.10784    |\n",
       "| 4326 | 2019-12-03 | 1.10782    | 1.10934    | 1.10660    | 1.10809    |\n",
       "| 4327 | 2019-12-04 | 1.10809    | 1.11161    | 1.10666    | 1.10775    |\n",
       "| 4328 | 2019-12-05 | 1.10772    | 1.10772    | 1.11078    | 1.10977    |\n",
       "\n"
      ],
      "text/plain": [
       "     DATE       Open    High    Low     Close  \n",
       "4323 2019-11-28 1.09987 1.10179 1.09986 1.10067\n",
       "4324 2019-11-29 1.10059 1.10282 1.09811 1.10150\n",
       "4325 2019-12-02 1.10229 1.10907 1.10029 1.10784\n",
       "4326 2019-12-03 1.10782 1.10934 1.10660 1.10809\n",
       "4327 2019-12-04 1.10809 1.11161 1.10666 1.10775\n",
       "4328 2019-12-05 1.10772 1.10772 1.11078 1.10977"
      ]
     },
     "metadata": {},
     "output_type": "display_data"
    }
   ],
   "source": [
    "head(EURUSD)\n",
    "tail(EURUSD)"
   ]
  },
  {
   "cell_type": "markdown",
   "metadata": {},
   "source": [
    "_____________________________________________"
   ]
  },
  {
   "cell_type": "markdown",
   "metadata": {},
   "source": [
    "### O Z-Score"
   ]
  },
  {
   "attachments": {
    "image.png": {
     "image/png": "[encoded data removed]"
    }
   },
   "cell_type": "markdown",
   "metadata": {},
   "source": [
    "![image.png](attachment:image.png)"
   ]
  },
  {
   "attachments": {
    "image.png": {
     "image/png": "[encoded data removed]"
    }
   },
   "cell_type": "markdown",
   "metadata": {},
   "source": [
    "![image.png](attachment:image.png)"
   ]
  },
  {
   "cell_type": "code",
   "execution_count": 5,
   "metadata": {},
   "outputs": [
    {
     "data": {
      "text/html": [
       "<table>\n",
       "<thead><tr><th></th><th scope=col>DATE</th><th scope=col>Open</th><th scope=col>High</th><th scope=col>Low</th><th scope=col>Close</th><th scope=col>Close_lead</th><th scope=col>Close_lag</th><th scope=col>Return</th><th scope=col>Alvo1</th><th scope=col>Alvo1_Bin</th></tr></thead>\n",
       "<tbody>\n",
       "\t<tr><th scope=row>2</th><td>2003-05-06</td><td>1.14297   </td><td>1.14438   </td><td>1.13265   </td><td>1.13647   </td><td>1.14996   </td><td>1.14338   </td><td>-0.6043485</td><td> 1.1870089</td><td>1         </td></tr>\n",
       "\t<tr><th scope=row>3</th><td>2003-05-07</td><td>1.13605   </td><td>1.15077   </td><td>1.13006   </td><td>1.14996   </td><td>1.14877   </td><td>1.13647   </td><td> 1.1870089</td><td>-0.1034819</td><td>0         </td></tr>\n",
       "\t<tr><th scope=row>4</th><td>2003-05-08</td><td>1.14932   </td><td>1.15366   </td><td>1.14346   </td><td>1.14877   </td><td>1.15427   </td><td>1.14996   </td><td>-0.1034819</td><td> 0.4787729</td><td>1         </td></tr>\n",
       "\t<tr><th scope=row>5</th><td>2003-05-11</td><td>1.14888   </td><td>1.16229   </td><td>1.14888   </td><td>1.15427   </td><td>1.15120   </td><td>1.14877   </td><td> 0.4787729</td><td>-0.2659690</td><td>0         </td></tr>\n",
       "\t<tr><th scope=row>6</th><td>2003-05-12</td><td>1.15357   </td><td>1.15739   </td><td>1.14620   </td><td>1.15120   </td><td>1.14940   </td><td>1.15427   </td><td>-0.2659690</td><td>-0.1563586</td><td>0         </td></tr>\n",
       "\t<tr><th scope=row>7</th><td>2003-05-13</td><td>1.15120   </td><td>1.15370   </td><td>1.14667   </td><td>1.14940   </td><td>1.13847   </td><td>1.15120   </td><td>-0.1563586</td><td>-0.9509309</td><td>0         </td></tr>\n",
       "</tbody>\n",
       "</table>\n"
      ],
      "text/latex": [
       "\\begin{tabular}{r|llllllllll}\n",
       "  & DATE & Open & High & Low & Close & Close\\_lead & Close\\_lag & Return & Alvo1 & Alvo1\\_Bin\\\\\n",
       "\\hline\n",
       "\t2 & 2003-05-06 & 1.14297    & 1.14438    & 1.13265    & 1.13647    & 1.14996    & 1.14338    & -0.6043485 &  1.1870089 & 1         \\\\\n",
       "\t3 & 2003-05-07 & 1.13605    & 1.15077    & 1.13006    & 1.14996    & 1.14877    & 1.13647    &  1.1870089 & -0.1034819 & 0         \\\\\n",
       "\t4 & 2003-05-08 & 1.14932    & 1.15366    & 1.14346    & 1.14877    & 1.15427    & 1.14996    & -0.1034819 &  0.4787729 & 1         \\\\\n",
       "\t5 & 2003-05-11 & 1.14888    & 1.16229    & 1.14888    & 1.15427    & 1.15120    & 1.14877    &  0.4787729 & -0.2659690 & 0         \\\\\n",
       "\t6 & 2003-05-12 & 1.15357    & 1.15739    & 1.14620    & 1.15120    & 1.14940    & 1.15427    & -0.2659690 & -0.1563586 & 0         \\\\\n",
       "\t7 & 2003-05-13 & 1.15120    & 1.15370    & 1.14667    & 1.14940    & 1.13847    & 1.15120    & -0.1563586 & -0.9509309 & 0         \\\\\n",
       "\\end{tabular}\n"
      ],
      "text/markdown": [
       "\n",
       "| <!--/--> | DATE | Open | High | Low | Close | Close_lead | Close_lag | Return | Alvo1 | Alvo1_Bin |\n",
       "|---|---|---|---|---|---|---|---|---|---|---|\n",
       "| 2 | 2003-05-06 | 1.14297    | 1.14438    | 1.13265    | 1.13647    | 1.14996    | 1.14338    | -0.6043485 |  1.1870089 | 1          |\n",
       "| 3 | 2003-05-07 | 1.13605    | 1.15077    | 1.13006    | 1.14996    | 1.14877    | 1.13647    |  1.1870089 | -0.1034819 | 0          |\n",
       "| 4 | 2003-05-08 | 1.14932    | 1.15366    | 1.14346    | 1.14877    | 1.15427    | 1.14996    | -0.1034819 |  0.4787729 | 1          |\n",
       "| 5 | 2003-05-11 | 1.14888    | 1.16229    | 1.14888    | 1.15427    | 1.15120    | 1.14877    |  0.4787729 | -0.2659690 | 0          |\n",
       "| 6 | 2003-05-12 | 1.15357    | 1.15739    | 1.14620    | 1.15120    | 1.14940    | 1.15427    | -0.2659690 | -0.1563586 | 0          |\n",
       "| 7 | 2003-05-13 | 1.15120    | 1.15370    | 1.14667    | 1.14940    | 1.13847    | 1.15120    | -0.1563586 | -0.9509309 | 0          |\n",
       "\n"
      ],
      "text/plain": [
       "  DATE       Open    High    Low     Close   Close_lead Close_lag Return    \n",
       "2 2003-05-06 1.14297 1.14438 1.13265 1.13647 1.14996    1.14338   -0.6043485\n",
       "3 2003-05-07 1.13605 1.15077 1.13006 1.14996 1.14877    1.13647    1.1870089\n",
       "4 2003-05-08 1.14932 1.15366 1.14346 1.14877 1.15427    1.14996   -0.1034819\n",
       "5 2003-05-11 1.14888 1.16229 1.14888 1.15427 1.15120    1.14877    0.4787729\n",
       "6 2003-05-12 1.15357 1.15739 1.14620 1.15120 1.14940    1.15427   -0.2659690\n",
       "7 2003-05-13 1.15120 1.15370 1.14667 1.14940 1.13847    1.15120   -0.1563586\n",
       "  Alvo1      Alvo1_Bin\n",
       "2  1.1870089 1        \n",
       "3 -0.1034819 0        \n",
       "4  0.4787729 1        \n",
       "5 -0.2659690 0        \n",
       "6 -0.1563586 0        \n",
       "7 -0.9509309 0        "
      ]
     },
     "metadata": {},
     "output_type": "display_data"
    }
   ],
   "source": [
    "# Calculando os retornos e o alvo\n",
    "\n",
    "# Calculando os retornos e o alvo\n",
    "EURUSD <- mutate(EURUSD, Close_lead = lead(Close))\n",
    "EURUSD <- mutate(EURUSD, Close_lag = lag(Close)) # vai criar um NA na primeira linha\n",
    "\n",
    "EURUSD <- na.omit(EURUSD)\n",
    "\n",
    "EURUSD$Return <- (EURUSD$Close/EURUSD$Close_lag-1)*100\n",
    "EURUSD$Alvo1 <- (EURUSD$Close_lead/EURUSD$Close-1)*100\n",
    "EURUSD$Alvo1_Bin <- ifelse(EURUSD$Alvo1 > 0, 1,0)\n",
    "\n",
    "\n",
    "\n",
    "head(EURUSD)"
   ]
  },
  {
   "cell_type": "code",
   "execution_count": 6,
   "metadata": {},
   "outputs": [],
   "source": [
    "# Calculando o Z-Score\n",
    "\n",
    "#install.packages(\"caTools\")\n",
    "library(caTools)"
   ]
  },
  {
   "cell_type": "code",
   "execution_count": 7,
   "metadata": {},
   "outputs": [
    {
     "data": {
      "text/html": [
       "<table>\n",
       "<thead><tr><th></th><th scope=col>DATE</th><th scope=col>Open</th><th scope=col>High</th><th scope=col>Low</th><th scope=col>Close</th><th scope=col>Close_lead</th><th scope=col>Close_lag</th><th scope=col>Return</th><th scope=col>Alvo1</th><th scope=col>Alvo1_Bin</th><th scope=col>MA_Return</th><th scope=col>SD_Return</th><th scope=col>ZScore</th></tr></thead>\n",
       "<tbody>\n",
       "\t<tr><th scope=row>2</th><td>2003-05-06</td><td>1.14297   </td><td>1.14438   </td><td>1.13265   </td><td>1.13647   </td><td>1.14996   </td><td>1.14338   </td><td>-0.6043485</td><td> 1.1870089</td><td>1         </td><td>NA        </td><td>NA        </td><td>NA        </td></tr>\n",
       "\t<tr><th scope=row>3</th><td>2003-05-07</td><td>1.13605   </td><td>1.15077   </td><td>1.13006   </td><td>1.14996   </td><td>1.14877   </td><td>1.13647   </td><td> 1.1870089</td><td>-0.1034819</td><td>0         </td><td>NA        </td><td>NA        </td><td>NA        </td></tr>\n",
       "\t<tr><th scope=row>4</th><td>2003-05-08</td><td>1.14932   </td><td>1.15366   </td><td>1.14346   </td><td>1.14877   </td><td>1.15427   </td><td>1.14996   </td><td>-0.1034819</td><td> 0.4787729</td><td>1         </td><td>NA        </td><td>NA        </td><td>NA        </td></tr>\n",
       "\t<tr><th scope=row>5</th><td>2003-05-11</td><td>1.14888   </td><td>1.16229   </td><td>1.14888   </td><td>1.15427   </td><td>1.15120   </td><td>1.14877   </td><td> 0.4787729</td><td>-0.2659690</td><td>0         </td><td>NA        </td><td>NA        </td><td>NA        </td></tr>\n",
       "\t<tr><th scope=row>6</th><td>2003-05-12</td><td>1.15357   </td><td>1.15739   </td><td>1.14620   </td><td>1.15120   </td><td>1.14940   </td><td>1.15427   </td><td>-0.2659690</td><td>-0.1563586</td><td>0         </td><td>NA        </td><td>NA        </td><td>NA        </td></tr>\n",
       "\t<tr><th scope=row>7</th><td>2003-05-13</td><td>1.15120   </td><td>1.15370   </td><td>1.14667   </td><td>1.14940   </td><td>1.13847   </td><td>1.15120   </td><td>-0.1563586</td><td>-0.9509309</td><td>0         </td><td>NA        </td><td>NA        </td><td>NA        </td></tr>\n",
       "</tbody>\n",
       "</table>\n"
      ],
      "text/latex": [
       "\\begin{tabular}{r|lllllllllllll}\n",
       "  & DATE & Open & High & Low & Close & Close\\_lead & Close\\_lag & Return & Alvo1 & Alvo1\\_Bin & MA\\_Return & SD\\_Return & ZScore\\\\\n",
       "\\hline\n",
       "\t2 & 2003-05-06 & 1.14297    & 1.14438    & 1.13265    & 1.13647    & 1.14996    & 1.14338    & -0.6043485 &  1.1870089 & 1          & NA         & NA         & NA        \\\\\n",
       "\t3 & 2003-05-07 & 1.13605    & 1.15077    & 1.13006    & 1.14996    & 1.14877    & 1.13647    &  1.1870089 & -0.1034819 & 0          & NA         & NA         & NA        \\\\\n",
       "\t4 & 2003-05-08 & 1.14932    & 1.15366    & 1.14346    & 1.14877    & 1.15427    & 1.14996    & -0.1034819 &  0.4787729 & 1          & NA         & NA         & NA        \\\\\n",
       "\t5 & 2003-05-11 & 1.14888    & 1.16229    & 1.14888    & 1.15427    & 1.15120    & 1.14877    &  0.4787729 & -0.2659690 & 0          & NA         & NA         & NA        \\\\\n",
       "\t6 & 2003-05-12 & 1.15357    & 1.15739    & 1.14620    & 1.15120    & 1.14940    & 1.15427    & -0.2659690 & -0.1563586 & 0          & NA         & NA         & NA        \\\\\n",
       "\t7 & 2003-05-13 & 1.15120    & 1.15370    & 1.14667    & 1.14940    & 1.13847    & 1.15120    & -0.1563586 & -0.9509309 & 0          & NA         & NA         & NA        \\\\\n",
       "\\end{tabular}\n"
      ],
      "text/markdown": [
       "\n",
       "| <!--/--> | DATE | Open | High | Low | Close | Close_lead | Close_lag | Return | Alvo1 | Alvo1_Bin | MA_Return | SD_Return | ZScore |\n",
       "|---|---|---|---|---|---|---|---|---|---|---|---|---|---|\n",
       "| 2 | 2003-05-06 | 1.14297    | 1.14438    | 1.13265    | 1.13647    | 1.14996    | 1.14338    | -0.6043485 |  1.1870089 | 1          | NA         | NA         | NA         |\n",
       "| 3 | 2003-05-07 | 1.13605    | 1.15077    | 1.13006    | 1.14996    | 1.14877    | 1.13647    |  1.1870089 | -0.1034819 | 0          | NA         | NA         | NA         |\n",
       "| 4 | 2003-05-08 | 1.14932    | 1.15366    | 1.14346    | 1.14877    | 1.15427    | 1.14996    | -0.1034819 |  0.4787729 | 1          | NA         | NA         | NA         |\n",
       "| 5 | 2003-05-11 | 1.14888    | 1.16229    | 1.14888    | 1.15427    | 1.15120    | 1.14877    |  0.4787729 | -0.2659690 | 0          | NA         | NA         | NA         |\n",
       "| 6 | 2003-05-12 | 1.15357    | 1.15739    | 1.14620    | 1.15120    | 1.14940    | 1.15427    | -0.2659690 | -0.1563586 | 0          | NA         | NA         | NA         |\n",
       "| 7 | 2003-05-13 | 1.15120    | 1.15370    | 1.14667    | 1.14940    | 1.13847    | 1.15120    | -0.1563586 | -0.9509309 | 0          | NA         | NA         | NA         |\n",
       "\n"
      ],
      "text/plain": [
       "  DATE       Open    High    Low     Close   Close_lead Close_lag Return    \n",
       "2 2003-05-06 1.14297 1.14438 1.13265 1.13647 1.14996    1.14338   -0.6043485\n",
       "3 2003-05-07 1.13605 1.15077 1.13006 1.14996 1.14877    1.13647    1.1870089\n",
       "4 2003-05-08 1.14932 1.15366 1.14346 1.14877 1.15427    1.14996   -0.1034819\n",
       "5 2003-05-11 1.14888 1.16229 1.14888 1.15427 1.15120    1.14877    0.4787729\n",
       "6 2003-05-12 1.15357 1.15739 1.14620 1.15120 1.14940    1.15427   -0.2659690\n",
       "7 2003-05-13 1.15120 1.15370 1.14667 1.14940 1.13847    1.15120   -0.1563586\n",
       "  Alvo1      Alvo1_Bin MA_Return SD_Return ZScore\n",
       "2  1.1870089 1         NA        NA        NA    \n",
       "3 -0.1034819 0         NA        NA        NA    \n",
       "4  0.4787729 1         NA        NA        NA    \n",
       "5 -0.2659690 0         NA        NA        NA    \n",
       "6 -0.1563586 0         NA        NA        NA    \n",
       "7 -0.9509309 0         NA        NA        NA    "
      ]
     },
     "metadata": {},
     "output_type": "display_data"
    }
   ],
   "source": [
    "# Calculando a média movel dos retornos e o desvio padrao\n",
    "\n",
    "periodo_mm <- 15\n",
    "\n",
    "EURUSD$MA_Return <- c(rep(NA, periodo_mm-1),runmean(EURUSD$Return, periodo_mm, alg=c(\"C\"), endrule=c(\"trim\")))\n",
    "\n",
    "EURUSD$SD_Return <- c(rep(NA, periodo_mm-1),runsd(EURUSD$Return, periodo_mm, endrule=c(\"trim\")))\n",
    "\n",
    "EURUSD$ZScore <- (EURUSD$Return-EURUSD$MA_Return)/EURUSD$SD_Return\n",
    "\n",
    "head(EURUSD)\n",
    "\n",
    "write.csv(EURUSD,\"teste_media.csv\", row.names = FALSE)\n"
   ]
  },
  {
   "cell_type": "code",
   "execution_count": 8,
   "metadata": {
    "scrolled": false
   },
   "outputs": [
    {
     "data": {
      "image/png": "[encoded data removed]",
      "text/plain": [
       "Plot with title \"Histogram of EURUSD$ZScore\""
      ]
     },
     "metadata": {},
     "output_type": "display_data"
    }
   ],
   "source": [
    "hist(EURUSD$ZScore)"
   ]
  },
  {
   "cell_type": "code",
   "execution_count": 9,
   "metadata": {},
   "outputs": [
    {
     "data": {
      "text/html": [
       "<table>\n",
       "<thead><tr><th></th><th scope=col>DATE</th><th scope=col>Open</th><th scope=col>High</th><th scope=col>Low</th><th scope=col>Close</th><th scope=col>Close_lead</th><th scope=col>Close_lag</th><th scope=col>Return</th><th scope=col>Alvo1</th><th scope=col>Alvo1_Bin</th><th scope=col>MA_Return</th><th scope=col>SD_Return</th><th scope=col>ZScore</th><th scope=col>MA_Close</th><th scope=col>RSL</th></tr></thead>\n",
       "<tbody>\n",
       "\t<tr><th scope=row>4322</th><td>2019-11-27  </td><td>1.10194     </td><td>1.10246     </td><td>1.09922     </td><td>1.09989     </td><td>1.10067     </td><td>1.10194     </td><td>-0.18603554 </td><td> 0.07091618 </td><td>1           </td><td>-0.040261868</td><td>0.1831719   </td><td>-0.79582996 </td><td>1.103417    </td><td>-0.003196133</td></tr>\n",
       "\t<tr><th scope=row>4323</th><td>2019-11-28  </td><td>1.09987     </td><td>1.10179     </td><td>1.09986     </td><td>1.10067     </td><td>1.10150     </td><td>1.09989     </td><td> 0.07091618 </td><td> 0.07540861 </td><td>1           </td><td>-0.025834568</td><td>0.1828137   </td><td> 0.52923144 </td><td>1.103130    </td><td>-0.002230018</td></tr>\n",
       "\t<tr><th scope=row>4324</th><td>2019-11-29  </td><td>1.10059     </td><td>1.10282     </td><td>1.09811     </td><td>1.10150     </td><td>1.10784     </td><td>1.10067     </td><td> 0.07540861 </td><td> 0.57557876 </td><td>1           </td><td>-0.001440285</td><td>0.1688543   </td><td> 0.45511949 </td><td>1.103113    </td><td>-0.001461924</td></tr>\n",
       "\t<tr><th scope=row>4325</th><td>2019-12-02  </td><td>1.10229     </td><td>1.10907     </td><td>1.10029     </td><td>1.10784     </td><td>1.10809     </td><td>1.10150     </td><td> 0.57557876 </td><td> 0.02256644 </td><td>1           </td><td> 0.028036773</td><td>0.2237496   </td><td> 2.44711922 </td><td>1.103420    </td><td> 0.004005728</td></tr>\n",
       "\t<tr><th scope=row>4326</th><td>2019-12-03  </td><td>1.10782     </td><td>1.10934     </td><td>1.10660     </td><td>1.10809     </td><td>1.10775     </td><td>1.10784     </td><td> 0.02256644 </td><td>-0.03068343 </td><td>0           </td><td> 0.043741928</td><td>0.2136621   </td><td>-0.09910741 </td><td>1.103901    </td><td> 0.003795027</td></tr>\n",
       "\t<tr><th scope=row>4327</th><td>2019-12-04  </td><td>1.10809     </td><td>1.11161     </td><td>1.10666     </td><td>1.10775     </td><td>1.10977     </td><td>1.10809     </td><td>-0.03068343 </td><td> 0.18235161 </td><td>1           </td><td> 0.043815882</td><td>0.2136342   </td><td>-0.34872365 </td><td>1.104382    </td><td> 0.003049669</td></tr>\n",
       "</tbody>\n",
       "</table>\n"
      ],
      "text/latex": [
       "\\begin{tabular}{r|lllllllllllllll}\n",
       "  & DATE & Open & High & Low & Close & Close\\_lead & Close\\_lag & Return & Alvo1 & Alvo1\\_Bin & MA\\_Return & SD\\_Return & ZScore & MA\\_Close & RSL\\\\\n",
       "\\hline\n",
       "\t4322 & 2019-11-27   & 1.10194      & 1.10246      & 1.09922      & 1.09989      & 1.10067      & 1.10194      & -0.18603554  &  0.07091618  & 1            & -0.040261868 & 0.1831719    & -0.79582996  & 1.103417     & -0.003196133\\\\\n",
       "\t4323 & 2019-11-28   & 1.09987      & 1.10179      & 1.09986      & 1.10067      & 1.10150      & 1.09989      &  0.07091618  &  0.07540861  & 1            & -0.025834568 & 0.1828137    &  0.52923144  & 1.103130     & -0.002230018\\\\\n",
       "\t4324 & 2019-11-29   & 1.10059      & 1.10282      & 1.09811      & 1.10150      & 1.10784      & 1.10067      &  0.07540861  &  0.57557876  & 1            & -0.001440285 & 0.1688543    &  0.45511949  & 1.103113     & -0.001461924\\\\\n",
       "\t4325 & 2019-12-02   & 1.10229      & 1.10907      & 1.10029      & 1.10784      & 1.10809      & 1.10150      &  0.57557876  &  0.02256644  & 1            &  0.028036773 & 0.2237496    &  2.44711922  & 1.103420     &  0.004005728\\\\\n",
       "\t4326 & 2019-12-03   & 1.10782      & 1.10934      & 1.10660      & 1.10809      & 1.10775      & 1.10784      &  0.02256644  & -0.03068343  & 0            &  0.043741928 & 0.2136621    & -0.09910741  & 1.103901     &  0.003795027\\\\\n",
       "\t4327 & 2019-12-04   & 1.10809      & 1.11161      & 1.10666      & 1.10775      & 1.10977      & 1.10809      & -0.03068343  &  0.18235161  & 1            &  0.043815882 & 0.2136342    & -0.34872365  & 1.104382     &  0.003049669\\\\\n",
       "\\end{tabular}\n"
      ],
      "text/markdown": [
       "\n",
       "| <!--/--> | DATE | Open | High | Low | Close | Close_lead | Close_lag | Return | Alvo1 | Alvo1_Bin | MA_Return | SD_Return | ZScore | MA_Close | RSL |\n",
       "|---|---|---|---|---|---|---|---|---|---|---|---|---|---|---|---|\n",
       "| 4322 | 2019-11-27   | 1.10194      | 1.10246      | 1.09922      | 1.09989      | 1.10067      | 1.10194      | -0.18603554  |  0.07091618  | 1            | -0.040261868 | 0.1831719    | -0.79582996  | 1.103417     | -0.003196133 |\n",
       "| 4323 | 2019-11-28   | 1.09987      | 1.10179      | 1.09986      | 1.10067      | 1.10150      | 1.09989      |  0.07091618  |  0.07540861  | 1            | -0.025834568 | 0.1828137    |  0.52923144  | 1.103130     | -0.002230018 |\n",
       "| 4324 | 2019-11-29   | 1.10059      | 1.10282      | 1.09811      | 1.10150      | 1.10784      | 1.10067      |  0.07540861  |  0.57557876  | 1            | -0.001440285 | 0.1688543    |  0.45511949  | 1.103113     | -0.001461924 |\n",
       "| 4325 | 2019-12-02   | 1.10229      | 1.10907      | 1.10029      | 1.10784      | 1.10809      | 1.10150      |  0.57557876  |  0.02256644  | 1            |  0.028036773 | 0.2237496    |  2.44711922  | 1.103420     |  0.004005728 |\n",
       "| 4326 | 2019-12-03   | 1.10782      | 1.10934      | 1.10660      | 1.10809      | 1.10775      | 1.10784      |  0.02256644  | -0.03068343  | 0            |  0.043741928 | 0.2136621    | -0.09910741  | 1.103901     |  0.003795027 |\n",
       "| 4327 | 2019-12-04   | 1.10809      | 1.11161      | 1.10666      | 1.10775      | 1.10977      | 1.10809      | -0.03068343  |  0.18235161  | 1            |  0.043815882 | 0.2136342    | -0.34872365  | 1.104382     |  0.003049669 |\n",
       "\n"
      ],
      "text/plain": [
       "     DATE       Open    High    Low     Close   Close_lead Close_lag\n",
       "4322 2019-11-27 1.10194 1.10246 1.09922 1.09989 1.10067    1.10194  \n",
       "4323 2019-11-28 1.09987 1.10179 1.09986 1.10067 1.10150    1.09989  \n",
       "4324 2019-11-29 1.10059 1.10282 1.09811 1.10150 1.10784    1.10067  \n",
       "4325 2019-12-02 1.10229 1.10907 1.10029 1.10784 1.10809    1.10150  \n",
       "4326 2019-12-03 1.10782 1.10934 1.10660 1.10809 1.10775    1.10784  \n",
       "4327 2019-12-04 1.10809 1.11161 1.10666 1.10775 1.10977    1.10809  \n",
       "     Return      Alvo1       Alvo1_Bin MA_Return    SD_Return ZScore     \n",
       "4322 -0.18603554  0.07091618 1         -0.040261868 0.1831719 -0.79582996\n",
       "4323  0.07091618  0.07540861 1         -0.025834568 0.1828137  0.52923144\n",
       "4324  0.07540861  0.57557876 1         -0.001440285 0.1688543  0.45511949\n",
       "4325  0.57557876  0.02256644 1          0.028036773 0.2237496  2.44711922\n",
       "4326  0.02256644 -0.03068343 0          0.043741928 0.2136621 -0.09910741\n",
       "4327 -0.03068343  0.18235161 1          0.043815882 0.2136342 -0.34872365\n",
       "     MA_Close RSL         \n",
       "4322 1.103417 -0.003196133\n",
       "4323 1.103130 -0.002230018\n",
       "4324 1.103113 -0.001461924\n",
       "4325 1.103420  0.004005728\n",
       "4326 1.103901  0.003795027\n",
       "4327 1.104382  0.003049669"
      ]
     },
     "metadata": {},
     "output_type": "display_data"
    }
   ],
   "source": [
    "# Calculando o RSL\n",
    "EURUSD$MA_Close <- c(rep(NA, periodo_mm-1),runmean(EURUSD$Close, periodo_mm, alg=c(\"C\"), endrule=c(\"trim\")))\n",
    "EURUSD$RSL <- (EURUSD$Close/EURUSD$MA_Close-1)\n",
    "\n",
    "EURUSD <- na.omit(EURUSD)\n",
    "\n",
    "tail(EURUSD)"
   ]
  },
  {
   "cell_type": "code",
   "execution_count": 10,
   "metadata": {},
   "outputs": [],
   "source": [
    "#Treinamento e teste - 2003-2008\n",
    "desenvolvimento <- EURUSD[1:1443,]\n"
   ]
  },
  {
   "cell_type": "code",
   "execution_count": 11,
   "metadata": {},
   "outputs": [
    {
     "data": {
      "text/plain": [
       "Length  Class   Mode \n",
       "     0   NULL   NULL "
      ]
     },
     "metadata": {},
     "output_type": "display_data"
    }
   ],
   "source": [
    "summary(desenvolvimento$ZScoreQ)"
   ]
  },
  {
   "cell_type": "code",
   "execution_count": 12,
   "metadata": {},
   "outputs": [
    {
     "data": {
      "text/html": [
       "<table>\n",
       "<thead><tr><th scope=col>ZScoreQ</th><th scope=col>Alvo1</th></tr></thead>\n",
       "<tbody>\n",
       "\t<tr><td>[-2.69,-1.62]   </td><td> -3.794387      </td></tr>\n",
       "\t<tr><td>(-1.62,-1.26]   </td><td> -5.341415      </td></tr>\n",
       "\t<tr><td>(-1.26,-1.02]   </td><td> -3.699640      </td></tr>\n",
       "\t<tr><td>(-1.02,-0.84]   </td><td>  5.860447      </td></tr>\n",
       "\t<tr><td>(-0.84,-0.677]  </td><td>  3.877997      </td></tr>\n",
       "\t<tr><td>(-0.677,-0.507] </td><td>  5.059998      </td></tr>\n",
       "\t<tr><td>(-0.507,-0.377] </td><td>  5.113554      </td></tr>\n",
       "\t<tr><td>(-0.377,-0.238] </td><td>  2.547562      </td></tr>\n",
       "\t<tr><td>(-0.238,-0.125] </td><td>  4.152480      </td></tr>\n",
       "\t<tr><td>(-0.125,-0.0113]</td><td>  5.551615      </td></tr>\n",
       "\t<tr><td>(-0.0113,0.12]  </td><td> -5.043117      </td></tr>\n",
       "\t<tr><td>(0.12,0.241]    </td><td>  5.299795      </td></tr>\n",
       "\t<tr><td>(0.241,0.35]    </td><td>  2.080115      </td></tr>\n",
       "\t<tr><td>(0.35,0.476]    </td><td>  6.889287      </td></tr>\n",
       "\t<tr><td>(0.476,0.623]   </td><td>-14.707951      </td></tr>\n",
       "\t<tr><td>(0.623,0.802]   </td><td>  2.443187      </td></tr>\n",
       "\t<tr><td>(0.802,1.01]    </td><td>  2.927584      </td></tr>\n",
       "\t<tr><td>(1.01,1.28]     </td><td>-10.871520      </td></tr>\n",
       "\t<tr><td>(1.28,1.62]     </td><td> -4.016123      </td></tr>\n",
       "\t<tr><td>(1.62,2.76]     </td><td>  5.554715      </td></tr>\n",
       "</tbody>\n",
       "</table>\n"
      ],
      "text/latex": [
       "\\begin{tabular}{r|ll}\n",
       " ZScoreQ & Alvo1\\\\\n",
       "\\hline\n",
       "\t {[}-2.69,-1.62{]}    &  -3.794387          \\\\\n",
       "\t (-1.62,-1.26{]}    &  -5.341415        \\\\\n",
       "\t (-1.26,-1.02{]}    &  -3.699640        \\\\\n",
       "\t (-1.02,-0.84{]}    &   5.860447        \\\\\n",
       "\t (-0.84,-0.677{]}   &   3.877997        \\\\\n",
       "\t (-0.677,-0.507{]}  &   5.059998        \\\\\n",
       "\t (-0.507,-0.377{]}  &   5.113554        \\\\\n",
       "\t (-0.377,-0.238{]}  &   2.547562        \\\\\n",
       "\t (-0.238,-0.125{]}  &   4.152480        \\\\\n",
       "\t (-0.125,-0.0113{]} &   5.551615        \\\\\n",
       "\t (-0.0113,0.12{]}   &  -5.043117        \\\\\n",
       "\t (0.12,0.241{]}     &   5.299795        \\\\\n",
       "\t (0.241,0.35{]}     &   2.080115        \\\\\n",
       "\t (0.35,0.476{]}     &   6.889287        \\\\\n",
       "\t (0.476,0.623{]}    & -14.707951        \\\\\n",
       "\t (0.623,0.802{]}    &   2.443187        \\\\\n",
       "\t (0.802,1.01{]}     &   2.927584        \\\\\n",
       "\t (1.01,1.28{]}      & -10.871520        \\\\\n",
       "\t (1.28,1.62{]}      &  -4.016123        \\\\\n",
       "\t (1.62,2.76{]}      &   5.554715        \\\\\n",
       "\\end{tabular}\n"
      ],
      "text/markdown": [
       "\n",
       "| ZScoreQ | Alvo1 |\n",
       "|---|---|\n",
       "| [-2.69,-1.62]    |  -3.794387       |\n",
       "| (-1.62,-1.26]    |  -5.341415       |\n",
       "| (-1.26,-1.02]    |  -3.699640       |\n",
       "| (-1.02,-0.84]    |   5.860447       |\n",
       "| (-0.84,-0.677]   |   3.877997       |\n",
       "| (-0.677,-0.507]  |   5.059998       |\n",
       "| (-0.507,-0.377]  |   5.113554       |\n",
       "| (-0.377,-0.238]  |   2.547562       |\n",
       "| (-0.238,-0.125]  |   4.152480       |\n",
       "| (-0.125,-0.0113] |   5.551615       |\n",
       "| (-0.0113,0.12]   |  -5.043117       |\n",
       "| (0.12,0.241]     |   5.299795       |\n",
       "| (0.241,0.35]     |   2.080115       |\n",
       "| (0.35,0.476]     |   6.889287       |\n",
       "| (0.476,0.623]    | -14.707951       |\n",
       "| (0.623,0.802]    |   2.443187       |\n",
       "| (0.802,1.01]     |   2.927584       |\n",
       "| (1.01,1.28]      | -10.871520       |\n",
       "| (1.28,1.62]      |  -4.016123       |\n",
       "| (1.62,2.76]      |   5.554715       |\n",
       "\n"
      ],
      "text/plain": [
       "   ZScoreQ          Alvo1     \n",
       "1  [-2.69,-1.62]     -3.794387\n",
       "2  (-1.62,-1.26]     -5.341415\n",
       "3  (-1.26,-1.02]     -3.699640\n",
       "4  (-1.02,-0.84]      5.860447\n",
       "5  (-0.84,-0.677]     3.877997\n",
       "6  (-0.677,-0.507]    5.059998\n",
       "7  (-0.507,-0.377]    5.113554\n",
       "8  (-0.377,-0.238]    2.547562\n",
       "9  (-0.238,-0.125]    4.152480\n",
       "10 (-0.125,-0.0113]   5.551615\n",
       "11 (-0.0113,0.12]    -5.043117\n",
       "12 (0.12,0.241]       5.299795\n",
       "13 (0.241,0.35]       2.080115\n",
       "14 (0.35,0.476]       6.889287\n",
       "15 (0.476,0.623]    -14.707951\n",
       "16 (0.623,0.802]      2.443187\n",
       "17 (0.802,1.01]       2.927584\n",
       "18 (1.01,1.28]      -10.871520\n",
       "19 (1.28,1.62]       -4.016123\n",
       "20 (1.62,2.76]        5.554715"
      ]
     },
     "metadata": {},
     "output_type": "display_data"
    }
   ],
   "source": [
    "# Serà que o Z-Score ajudar a encontrar regioes mais rentaveis?\n",
    "# O que nao te contam nos livros\n",
    "\n",
    "q <- quantile(desenvolvimento$ZScore, seq(0, 1, by = 0.05))\n",
    "\n",
    "desenvolvimento$ZScoreQ <- cut(desenvolvimento$ZScore, q, include.lowest = TRUE)\n",
    "\n",
    "Returns_ZScore <- aggregate(Alvo1 ~ ZScoreQ, data = desenvolvimento, FUN = sum)\n",
    "Returns_ZScore"
   ]
  },
  {
   "cell_type": "code",
   "execution_count": 13,
   "metadata": {},
   "outputs": [
    {
     "data": {
      "text/html": [
       "<table>\n",
       "<thead><tr><th scope=col>RSLQ</th><th scope=col>Alvo1</th></tr></thead>\n",
       "<tbody>\n",
       "\t<tr><td>[-0.0588,-0.0151]  </td><td>  2.9349837        </td></tr>\n",
       "\t<tr><td>(-0.0151,-0.00953] </td><td> -6.4518078        </td></tr>\n",
       "\t<tr><td>(-0.00953,-0.00538]</td><td>  8.0896218        </td></tr>\n",
       "\t<tr><td>(-0.00538,-0.00217]</td><td>  3.2550560        </td></tr>\n",
       "\t<tr><td>(-0.00217,0.00123] </td><td> -0.1884455        </td></tr>\n",
       "\t<tr><td>(0.00123,0.00421]  </td><td>  3.2709853        </td></tr>\n",
       "\t<tr><td>(0.00421,0.00775]  </td><td> -7.5591655        </td></tr>\n",
       "\t<tr><td>(0.00775,0.0113]   </td><td> 12.3384495        </td></tr>\n",
       "\t<tr><td>(0.0113,0.0157]    </td><td>  5.4099923        </td></tr>\n",
       "\t<tr><td>(0.0157,0.0338]    </td><td>-11.2154858        </td></tr>\n",
       "</tbody>\n",
       "</table>\n"
      ],
      "text/latex": [
       "\\begin{tabular}{r|ll}\n",
       " RSLQ & Alvo1\\\\\n",
       "\\hline\n",
       "\t {[}-0.0588,-0.0151{]}   &   2.9349837            \\\\\n",
       "\t (-0.0151,-0.00953{]}  &  -6.4518078          \\\\\n",
       "\t (-0.00953,-0.00538{]} &   8.0896218          \\\\\n",
       "\t (-0.00538,-0.00217{]} &   3.2550560          \\\\\n",
       "\t (-0.00217,0.00123{]}  &  -0.1884455          \\\\\n",
       "\t (0.00123,0.00421{]}   &   3.2709853          \\\\\n",
       "\t (0.00421,0.00775{]}   &  -7.5591655          \\\\\n",
       "\t (0.00775,0.0113{]}    &  12.3384495          \\\\\n",
       "\t (0.0113,0.0157{]}     &   5.4099923          \\\\\n",
       "\t (0.0157,0.0338{]}     & -11.2154858          \\\\\n",
       "\\end{tabular}\n"
      ],
      "text/markdown": [
       "\n",
       "| RSLQ | Alvo1 |\n",
       "|---|---|\n",
       "| [-0.0588,-0.0151]   |   2.9349837         |\n",
       "| (-0.0151,-0.00953]  |  -6.4518078         |\n",
       "| (-0.00953,-0.00538] |   8.0896218         |\n",
       "| (-0.00538,-0.00217] |   3.2550560         |\n",
       "| (-0.00217,0.00123]  |  -0.1884455         |\n",
       "| (0.00123,0.00421]   |   3.2709853         |\n",
       "| (0.00421,0.00775]   |  -7.5591655         |\n",
       "| (0.00775,0.0113]    |  12.3384495         |\n",
       "| (0.0113,0.0157]     |   5.4099923         |\n",
       "| (0.0157,0.0338]     | -11.2154858         |\n",
       "\n"
      ],
      "text/plain": [
       "   RSLQ                Alvo1      \n",
       "1  [-0.0588,-0.0151]     2.9349837\n",
       "2  (-0.0151,-0.00953]   -6.4518078\n",
       "3  (-0.00953,-0.00538]   8.0896218\n",
       "4  (-0.00538,-0.00217]   3.2550560\n",
       "5  (-0.00217,0.00123]   -0.1884455\n",
       "6  (0.00123,0.00421]     3.2709853\n",
       "7  (0.00421,0.00775]    -7.5591655\n",
       "8  (0.00775,0.0113]     12.3384495\n",
       "9  (0.0113,0.0157]       5.4099923\n",
       "10 (0.0157,0.0338]     -11.2154858"
      ]
     },
     "metadata": {},
     "output_type": "display_data"
    }
   ],
   "source": [
    "# Serà que o RSL ajudar a encontrar regioes mais rentaveis?\n",
    "\n",
    "q <- quantile(desenvolvimento$RSL, seq(0, 1, by = 0.1))\n",
    "desenvolvimento$RSLQ <- cut(desenvolvimento$RSL, q, include.lowest = TRUE)\n",
    "\n",
    "Returns_RSL <- aggregate(Alvo1 ~ RSLQ, data = desenvolvimento, FUN = sum)\n",
    "Returns_RSL"
   ]
  },
  {
   "cell_type": "markdown",
   "metadata": {},
   "source": [
    "_____________________________________________"
   ]
  },
  {
   "cell_type": "markdown",
   "metadata": {},
   "source": [
    "### Construindo mais variaveis para o modelo"
   ]
  },
  {
   "cell_type": "code",
   "execution_count": 14,
   "metadata": {},
   "outputs": [],
   "source": [
    "# Criando os indicadores técnicos\n",
    "\n",
    "EURUSD$RSI <- RSI(EURUSD$Close, 14, \"SMA\")\n",
    "EURUSD$RSI2 <- RSI(EURUSD$Close, 2, \"SMA\")\n",
    "EURUSD$CCI <- CCI(EURUSD$Close, 14)\n",
    "EURUSD$MACD <- MACD(EURUSD$Close, 12, 26, 9, \"SMA\") \n",
    "EURUSD$MACD <- EURUSD$MACD[,1] - EURUSD$MACD[,2] \n",
    "EURUSD$Bbands <- BBands(EURUSD$Close, 20, \"SMA\", 2)[,4]"
   ]
  },
  {
   "cell_type": "code",
   "execution_count": 15,
   "metadata": {},
   "outputs": [
    {
     "data": {
      "text/html": [
       "<ol class=list-inline>\n",
       "\t<li>'DATE'</li>\n",
       "\t<li>'Open'</li>\n",
       "\t<li>'High'</li>\n",
       "\t<li>'Low'</li>\n",
       "\t<li>'Close'</li>\n",
       "\t<li>'Close_lead'</li>\n",
       "\t<li>'Close_lag'</li>\n",
       "\t<li>'Return'</li>\n",
       "\t<li>'Alvo1'</li>\n",
       "\t<li>'Alvo1_Bin'</li>\n",
       "\t<li>'MA_Return'</li>\n",
       "\t<li>'SD_Return'</li>\n",
       "\t<li>'ZScore'</li>\n",
       "\t<li>'MA_Close'</li>\n",
       "\t<li>'RSL'</li>\n",
       "\t<li>'RSI'</li>\n",
       "\t<li>'RSI2'</li>\n",
       "\t<li>'CCI'</li>\n",
       "\t<li>'MACD'</li>\n",
       "\t<li>'Bbands'</li>\n",
       "\t<li>'ZScoreBin'</li>\n",
       "\t<li>'RSLBin'</li>\n",
       "\t<li>'RSIH'</li>\n",
       "\t<li>'RSIL'</li>\n",
       "\t<li>'RSI2H'</li>\n",
       "\t<li>'RSI2L'</li>\n",
       "\t<li>'CCIH'</li>\n",
       "\t<li>'CCIL'</li>\n",
       "\t<li>'MACDH'</li>\n",
       "\t<li>'MACDL'</li>\n",
       "</ol>\n"
      ],
      "text/latex": [
       "\\begin{enumerate*}\n",
       "\\item 'DATE'\n",
       "\\item 'Open'\n",
       "\\item 'High'\n",
       "\\item 'Low'\n",
       "\\item 'Close'\n",
       "\\item 'Close\\_lead'\n",
       "\\item 'Close\\_lag'\n",
       "\\item 'Return'\n",
       "\\item 'Alvo1'\n",
       "\\item 'Alvo1\\_Bin'\n",
       "\\item 'MA\\_Return'\n",
       "\\item 'SD\\_Return'\n",
       "\\item 'ZScore'\n",
       "\\item 'MA\\_Close'\n",
       "\\item 'RSL'\n",
       "\\item 'RSI'\n",
       "\\item 'RSI2'\n",
       "\\item 'CCI'\n",
       "\\item 'MACD'\n",
       "\\item 'Bbands'\n",
       "\\item 'ZScoreBin'\n",
       "\\item 'RSLBin'\n",
       "\\item 'RSIH'\n",
       "\\item 'RSIL'\n",
       "\\item 'RSI2H'\n",
       "\\item 'RSI2L'\n",
       "\\item 'CCIH'\n",
       "\\item 'CCIL'\n",
       "\\item 'MACDH'\n",
       "\\item 'MACDL'\n",
       "\\end{enumerate*}\n"
      ],
      "text/markdown": [
       "1. 'DATE'\n",
       "2. 'Open'\n",
       "3. 'High'\n",
       "4. 'Low'\n",
       "5. 'Close'\n",
       "6. 'Close_lead'\n",
       "7. 'Close_lag'\n",
       "8. 'Return'\n",
       "9. 'Alvo1'\n",
       "10. 'Alvo1_Bin'\n",
       "11. 'MA_Return'\n",
       "12. 'SD_Return'\n",
       "13. 'ZScore'\n",
       "14. 'MA_Close'\n",
       "15. 'RSL'\n",
       "16. 'RSI'\n",
       "17. 'RSI2'\n",
       "18. 'CCI'\n",
       "19. 'MACD'\n",
       "20. 'Bbands'\n",
       "21. 'ZScoreBin'\n",
       "22. 'RSLBin'\n",
       "23. 'RSIH'\n",
       "24. 'RSIL'\n",
       "25. 'RSI2H'\n",
       "26. 'RSI2L'\n",
       "27. 'CCIH'\n",
       "28. 'CCIL'\n",
       "29. 'MACDH'\n",
       "30. 'MACDL'\n",
       "\n",
       "\n"
      ],
      "text/plain": [
       " [1] \"DATE\"       \"Open\"       \"High\"       \"Low\"        \"Close\"     \n",
       " [6] \"Close_lead\" \"Close_lag\"  \"Return\"     \"Alvo1\"      \"Alvo1_Bin\" \n",
       "[11] \"MA_Return\"  \"SD_Return\"  \"ZScore\"     \"MA_Close\"   \"RSL\"       \n",
       "[16] \"RSI\"        \"RSI2\"       \"CCI\"        \"MACD\"       \"Bbands\"    \n",
       "[21] \"ZScoreBin\"  \"RSLBin\"     \"RSIH\"       \"RSIL\"       \"RSI2H\"     \n",
       "[26] \"RSI2L\"      \"CCIH\"       \"CCIL\"       \"MACDH\"      \"MACDL\"     "
      ]
     },
     "metadata": {},
     "output_type": "display_data"
    }
   ],
   "source": [
    "# Criando as variaveis\n",
    "\n",
    "EURUSD$ZScoreBin <- ifelse((EURUSD$ZScore <= -1.02 | (EURUSD$ZScore > 0.476 & EURUSD$ZScore <= 1.62))\n",
    "                           , 1, 0)\n",
    "EURUSD$RSLBin <- ifelse((\n",
    "                        (EURUSD$RSL > -0.00956 & EURUSD$RSL <= -0.00523)|\n",
    "                        (EURUSD$RSL > 0.00981 & EURUSD$RSL <= 0.0135)|\n",
    "                        (EURUSD$RSL > 0.00149 & EURUSD$RSL <= 0.00438)\n",
    "                        )\n",
    "                        , 1, 0)\n",
    "\n",
    "EURUSD$RSIH <- ifelse(EURUSD$RSI > 70, 1, 0)\n",
    "EURUSD$RSIL <- ifelse(EURUSD$RSI < 30, 1, 0)\n",
    "EURUSD$RSI2H <- ifelse(EURUSD$RSI2 > 70, 1, 0)\n",
    "EURUSD$RSI2L <- ifelse(EURUSD$RSI2 < 30, 1, 0)\n",
    "EURUSD$CCIH <- ifelse(EURUSD$CCI > 120, 1, 0)\n",
    "EURUSD$CCIL <- ifelse(EURUSD$CCI < -120, 1, 0)\n",
    "EURUSD$MACDH <- ifelse(EURUSD$MACD > 0.5, 1, 0)\n",
    "EURUSD$MACDL <- ifelse(EURUSD$MACD < -0.5, 1, 0)\n",
    "\n",
    "EURUSD <- na.omit(EURUSD)\n",
    "\n",
    "names(EURUSD)"
   ]
  },
  {
   "cell_type": "markdown",
   "metadata": {},
   "source": [
    "_____________________________________________"
   ]
  },
  {
   "cell_type": "markdown",
   "metadata": {},
   "source": [
    "### Treinamento do Modelo"
   ]
  },
  {
   "cell_type": "code",
   "execution_count": 16,
   "metadata": {},
   "outputs": [
    {
     "data": {
      "text/html": [
       "<table>\n",
       "<thead><tr><th></th><th scope=col>DATE</th><th scope=col>Open</th><th scope=col>High</th><th scope=col>Low</th><th scope=col>Close</th><th scope=col>Close_lead</th><th scope=col>Close_lag</th><th scope=col>Return</th><th scope=col>Alvo1</th><th scope=col>Alvo1_Bin</th><th scope=col>...</th><th scope=col>ZScoreBin</th><th scope=col>RSLBin</th><th scope=col>RSIH</th><th scope=col>RSIL</th><th scope=col>RSI2H</th><th scope=col>RSI2L</th><th scope=col>CCIH</th><th scope=col>CCIL</th><th scope=col>MACDH</th><th scope=col>MACDL</th></tr></thead>\n",
       "<tbody>\n",
       "\t<tr><th scope=row>1486</th><td>2009-01-13 </td><td>1.33614    </td><td>1.33730    </td><td>1.31402    </td><td>1.31800    </td><td>1.31905    </td><td>1.33600    </td><td>-1.34730539</td><td> 0.07966616</td><td>1          </td><td>...        </td><td>1          </td><td>0          </td><td>0          </td><td>1          </td><td>0          </td><td>1          </td><td>0          </td><td>1          </td><td>0          </td><td>1          </td></tr>\n",
       "\t<tr><th scope=row>1487</th><td>2009-01-14 </td><td>1.31810    </td><td>1.33370    </td><td>1.30940    </td><td>1.31905    </td><td>1.31135    </td><td>1.31800    </td><td> 0.07966616</td><td>-0.58375346</td><td>0          </td><td>...        </td><td>1          </td><td>0          </td><td>0          </td><td>1          </td><td>0          </td><td>1          </td><td>0          </td><td>1          </td><td>0          </td><td>1          </td></tr>\n",
       "\t<tr><th scope=row>1488</th><td>2009-01-15 </td><td>1.31880    </td><td>1.32340    </td><td>1.30247    </td><td>1.31135    </td><td>1.32640    </td><td>1.31905    </td><td>-0.58375346</td><td> 1.14767225</td><td>1          </td><td>...        </td><td>0          </td><td>0          </td><td>0          </td><td>1          </td><td>0          </td><td>1          </td><td>0          </td><td>1          </td><td>0          </td><td>1          </td></tr>\n",
       "\t<tr><th scope=row>1489</th><td>2009-01-16 </td><td>1.31125    </td><td>1.33425    </td><td>1.31110    </td><td>1.32640    </td><td>1.30670    </td><td>1.31135    </td><td> 1.14767225</td><td>-1.48522316</td><td>0          </td><td>...        </td><td>1          </td><td>0          </td><td>0          </td><td>0          </td><td>0          </td><td>0          </td><td>0          </td><td>0          </td><td>0          </td><td>1          </td></tr>\n",
       "\t<tr><th scope=row>1490</th><td>2009-01-19 </td><td>1.33352    </td><td>1.33845    </td><td>1.30655    </td><td>1.30670    </td><td>1.29037    </td><td>1.32640    </td><td>-1.48522316</td><td>-1.24971302</td><td>0          </td><td>...        </td><td>1          </td><td>0          </td><td>0          </td><td>1          </td><td>0          </td><td>0          </td><td>0          </td><td>0          </td><td>0          </td><td>1          </td></tr>\n",
       "\t<tr><th scope=row>1491</th><td>2009-01-20 </td><td>1.30660    </td><td>1.31035    </td><td>1.28560    </td><td>1.29037    </td><td>1.30215    </td><td>1.30670    </td><td>-1.24971302</td><td> 0.91291645</td><td>1          </td><td>...        </td><td>0          </td><td>0          </td><td>0          </td><td>1          </td><td>0          </td><td>1          </td><td>0          </td><td>1          </td><td>0          </td><td>1          </td></tr>\n",
       "</tbody>\n",
       "</table>\n"
      ],
      "text/latex": [
       "\\begin{tabular}{r|llllllllllllllllllllllllllllll}\n",
       "  & DATE & Open & High & Low & Close & Close\\_lead & Close\\_lag & Return & Alvo1 & Alvo1\\_Bin & ... & ZScoreBin & RSLBin & RSIH & RSIL & RSI2H & RSI2L & CCIH & CCIL & MACDH & MACDL\\\\\n",
       "\\hline\n",
       "\t1486 & 2009-01-13  & 1.33614     & 1.33730     & 1.31402     & 1.31800     & 1.31905     & 1.33600     & -1.34730539 &  0.07966616 & 1           & ...         & 1           & 0           & 0           & 1           & 0           & 1           & 0           & 1           & 0           & 1          \\\\\n",
       "\t1487 & 2009-01-14  & 1.31810     & 1.33370     & 1.30940     & 1.31905     & 1.31135     & 1.31800     &  0.07966616 & -0.58375346 & 0           & ...         & 1           & 0           & 0           & 1           & 0           & 1           & 0           & 1           & 0           & 1          \\\\\n",
       "\t1488 & 2009-01-15  & 1.31880     & 1.32340     & 1.30247     & 1.31135     & 1.32640     & 1.31905     & -0.58375346 &  1.14767225 & 1           & ...         & 0           & 0           & 0           & 1           & 0           & 1           & 0           & 1           & 0           & 1          \\\\\n",
       "\t1489 & 2009-01-16  & 1.31125     & 1.33425     & 1.31110     & 1.32640     & 1.30670     & 1.31135     &  1.14767225 & -1.48522316 & 0           & ...         & 1           & 0           & 0           & 0           & 0           & 0           & 0           & 0           & 0           & 1          \\\\\n",
       "\t1490 & 2009-01-19  & 1.33352     & 1.33845     & 1.30655     & 1.30670     & 1.29037     & 1.32640     & -1.48522316 & -1.24971302 & 0           & ...         & 1           & 0           & 0           & 1           & 0           & 0           & 0           & 0           & 0           & 1          \\\\\n",
       "\t1491 & 2009-01-20  & 1.30660     & 1.31035     & 1.28560     & 1.29037     & 1.30215     & 1.30670     & -1.24971302 &  0.91291645 & 1           & ...         & 0           & 0           & 0           & 1           & 0           & 1           & 0           & 1           & 0           & 1          \\\\\n",
       "\\end{tabular}\n"
      ],
      "text/markdown": [
       "\n",
       "| <!--/--> | DATE | Open | High | Low | Close | Close_lead | Close_lag | Return | Alvo1 | Alvo1_Bin | ... | ZScoreBin | RSLBin | RSIH | RSIL | RSI2H | RSI2L | CCIH | CCIL | MACDH | MACDL |\n",
       "|---|---|---|---|---|---|---|---|---|---|---|---|---|---|---|---|---|---|---|---|---|---|\n",
       "| 1486 | 2009-01-13  | 1.33614     | 1.33730     | 1.31402     | 1.31800     | 1.31905     | 1.33600     | -1.34730539 |  0.07966616 | 1           | ...         | 1           | 0           | 0           | 1           | 0           | 1           | 0           | 1           | 0           | 1           |\n",
       "| 1487 | 2009-01-14  | 1.31810     | 1.33370     | 1.30940     | 1.31905     | 1.31135     | 1.31800     |  0.07966616 | -0.58375346 | 0           | ...         | 1           | 0           | 0           | 1           | 0           | 1           | 0           | 1           | 0           | 1           |\n",
       "| 1488 | 2009-01-15  | 1.31880     | 1.32340     | 1.30247     | 1.31135     | 1.32640     | 1.31905     | -0.58375346 |  1.14767225 | 1           | ...         | 0           | 0           | 0           | 1           | 0           | 1           | 0           | 1           | 0           | 1           |\n",
       "| 1489 | 2009-01-16  | 1.31125     | 1.33425     | 1.31110     | 1.32640     | 1.30670     | 1.31135     |  1.14767225 | -1.48522316 | 0           | ...         | 1           | 0           | 0           | 0           | 0           | 0           | 0           | 0           | 0           | 1           |\n",
       "| 1490 | 2009-01-19  | 1.33352     | 1.33845     | 1.30655     | 1.30670     | 1.29037     | 1.32640     | -1.48522316 | -1.24971302 | 0           | ...         | 1           | 0           | 0           | 1           | 0           | 0           | 0           | 0           | 0           | 1           |\n",
       "| 1491 | 2009-01-20  | 1.30660     | 1.31035     | 1.28560     | 1.29037     | 1.30215     | 1.30670     | -1.24971302 |  0.91291645 | 1           | ...         | 0           | 0           | 0           | 1           | 0           | 1           | 0           | 1           | 0           | 1           |\n",
       "\n"
      ],
      "text/plain": [
       "     DATE       Open    High    Low     Close   Close_lead Close_lag\n",
       "1486 2009-01-13 1.33614 1.33730 1.31402 1.31800 1.31905    1.33600  \n",
       "1487 2009-01-14 1.31810 1.33370 1.30940 1.31905 1.31135    1.31800  \n",
       "1488 2009-01-15 1.31880 1.32340 1.30247 1.31135 1.32640    1.31905  \n",
       "1489 2009-01-16 1.31125 1.33425 1.31110 1.32640 1.30670    1.31135  \n",
       "1490 2009-01-19 1.33352 1.33845 1.30655 1.30670 1.29037    1.32640  \n",
       "1491 2009-01-20 1.30660 1.31035 1.28560 1.29037 1.30215    1.30670  \n",
       "     Return      Alvo1       Alvo1_Bin ... ZScoreBin RSLBin RSIH RSIL RSI2H\n",
       "1486 -1.34730539  0.07966616 1         ... 1         0      0    1    0    \n",
       "1487  0.07966616 -0.58375346 0         ... 1         0      0    1    0    \n",
       "1488 -0.58375346  1.14767225 1         ... 0         0      0    1    0    \n",
       "1489  1.14767225 -1.48522316 0         ... 1         0      0    0    0    \n",
       "1490 -1.48522316 -1.24971302 0         ... 1         0      0    1    0    \n",
       "1491 -1.24971302  0.91291645 1         ... 0         0      0    1    0    \n",
       "     RSI2L CCIH CCIL MACDH MACDL\n",
       "1486 1     0    1    0     1    \n",
       "1487 1     0    1    0     1    \n",
       "1488 1     0    1    0     1    \n",
       "1489 0     0    0    0     1    \n",
       "1490 0     0    0    0     1    \n",
       "1491 1     0    1    0     1    "
      ]
     },
     "metadata": {},
     "output_type": "display_data"
    }
   ],
   "source": [
    "#Treinamento e teste - 2003-2008\n",
    "desenvolvimento <- EURUSD[1:1443,]\n",
    "#desenvolvimento <- EURUSD[1:2211,]\n",
    "#Validacao - 2009-2019\n",
    "validacao <- EURUSD[1444:dim(EURUSD)[1],]\n",
    "#validacao <- EURUSD[2212:dim(EURUSD)[1],]\n",
    "\n",
    "tail(desenvolvimento)"
   ]
  },
  {
   "cell_type": "code",
   "execution_count": 17,
   "metadata": {},
   "outputs": [
    {
     "data": {
      "text/html": [
       "<ol class=list-inline>\n",
       "\t<li>1011</li>\n",
       "\t<li>30</li>\n",
       "</ol>\n"
      ],
      "text/latex": [
       "\\begin{enumerate*}\n",
       "\\item 1011\n",
       "\\item 30\n",
       "\\end{enumerate*}\n"
      ],
      "text/markdown": [
       "1. 1011\n",
       "2. 30\n",
       "\n",
       "\n"
      ],
      "text/plain": [
       "[1] 1011   30"
      ]
     },
     "metadata": {},
     "output_type": "display_data"
    },
    {
     "data": {
      "text/html": [
       "<ol class=list-inline>\n",
       "\t<li>432</li>\n",
       "\t<li>30</li>\n",
       "</ol>\n"
      ],
      "text/latex": [
       "\\begin{enumerate*}\n",
       "\\item 432\n",
       "\\item 30\n",
       "\\end{enumerate*}\n"
      ],
      "text/markdown": [
       "1. 432\n",
       "2. 30\n",
       "\n",
       "\n"
      ],
      "text/plain": [
       "[1] 432  30"
      ]
     },
     "metadata": {},
     "output_type": "display_data"
    }
   ],
   "source": [
    "set.seed(42)\n",
    "inTrain <- createDataPartition(y = desenvolvimento$Alvo1_Bin, p = 0.7, list=FALSE)\n",
    "training <- desenvolvimento[inTrain,]\n",
    "testing <- desenvolvimento[-inTrain,]\n",
    "dim(training); dim(testing)"
   ]
  },
  {
   "cell_type": "code",
   "execution_count": 18,
   "metadata": {},
   "outputs": [
    {
     "data": {
      "text/plain": [
       "\n",
       "Call:\n",
       "glm(formula = Alvo1_Bin ~ ZScoreBin + RSLBin + RSIH + RSIL + \n",
       "    RSI2H + RSI2L + Bbands + MACDH + MACDL + CCIH + CCIL, family = binomial(link = \"logit\"), \n",
       "    data = training)\n",
       "\n",
       "Deviance Residuals: \n",
       "    Min       1Q   Median       3Q      Max  \n",
       "-1.6626  -1.1530   0.8264   1.1341   1.6679  \n",
       "\n",
       "Coefficients:\n",
       "            Estimate Std. Error z value Pr(>|z|)    \n",
       "(Intercept)  0.47616    0.23900   1.992  0.04634 *  \n",
       "ZScoreBin   -0.53741    0.13257  -4.054 5.04e-05 ***\n",
       "RSLBin       0.41212    0.14610   2.821  0.00479 ** \n",
       "RSIH         0.01890    0.20561   0.092  0.92678    \n",
       "RSIL         0.19954    0.24683   0.808  0.41885    \n",
       "RSI2H       -0.41102    0.18324  -2.243  0.02489 *  \n",
       "RSI2L       -0.10136    0.18561  -0.546  0.58500    \n",
       "Bbands       0.02224    0.34396   0.065  0.94845    \n",
       "MACDH       -0.45128    0.23064  -1.957  0.05039 .  \n",
       "MACDL       -0.51375    0.22680  -2.265  0.02350 *  \n",
       "CCIH        -0.21988    0.23382  -0.940  0.34704    \n",
       "CCIL        -0.21757    0.25303  -0.860  0.38987    \n",
       "---\n",
       "Signif. codes:  0 '***' 0.001 '**' 0.01 '*' 0.05 '.' 0.1 ' ' 1\n",
       "\n",
       "(Dispersion parameter for binomial family taken to be 1)\n",
       "\n",
       "    Null deviance: 1401.1  on 1010  degrees of freedom\n",
       "Residual deviance: 1356.3  on  999  degrees of freedom\n",
       "AIC: 1380.3\n",
       "\n",
       "Number of Fisher Scoring iterations: 4\n"
      ]
     },
     "metadata": {},
     "output_type": "display_data"
    }
   ],
   "source": [
    "# Regressão Logística\n",
    "\n",
    "modelo1 <- glm(Alvo1_Bin ~ ZScoreBin + RSLBin + RSIH + RSIL + RSI2H + RSI2L + Bbands + MACDH + MACDL + CCIH + CCIL,\n",
    "                 data = training, family = binomial(link = 'logit'))  \n",
    "\n",
    "summary(modelo1)"
   ]
  },
  {
   "cell_type": "code",
   "execution_count": 19,
   "metadata": {},
   "outputs": [
    {
     "data": {
      "text/plain": [
       "\n",
       "Call:\n",
       "glm(formula = Alvo1_Bin ~ ZScoreBin + RSLBin + RSIL + RSI2H + \n",
       "    RSI2L + MACDH + MACDL, family = binomial(link = \"logit\"), \n",
       "    data = training)\n",
       "\n",
       "Deviance Residuals: \n",
       "    Min       1Q   Median       3Q      Max  \n",
       "-1.6463  -1.1457   0.8259   1.1382   1.6361  \n",
       "\n",
       "Coefficients:\n",
       "            Estimate Std. Error z value Pr(>|z|)    \n",
       "(Intercept)   0.4730     0.1622   2.917  0.00354 ** \n",
       "ZScoreBin    -0.5493     0.1316  -4.174 2.99e-05 ***\n",
       "RSLBin        0.4273     0.1452   2.943  0.00326 ** \n",
       "RSIL          0.1567     0.2318   0.676  0.49901    \n",
       "RSI2H        -0.4685     0.1707  -2.745  0.00606 ** \n",
       "RSI2L        -0.1554     0.1750  -0.888  0.37481    \n",
       "MACDH        -0.4270     0.2242  -1.905  0.05682 .  \n",
       "MACDL        -0.4896     0.2233  -2.192  0.02838 *  \n",
       "---\n",
       "Signif. codes:  0 '***' 0.001 '**' 0.01 '*' 0.05 '.' 0.1 ' ' 1\n",
       "\n",
       "(Dispersion parameter for binomial family taken to be 1)\n",
       "\n",
       "    Null deviance: 1401.1  on 1010  degrees of freedom\n",
       "Residual deviance: 1358.4  on 1003  degrees of freedom\n",
       "AIC: 1374.4\n",
       "\n",
       "Number of Fisher Scoring iterations: 4\n"
      ]
     },
     "metadata": {},
     "output_type": "display_data"
    }
   ],
   "source": [
    "# Deixando apenas as variaveis mais relevantes\n",
    "\n",
    "modelo1 <- glm(Alvo1_Bin ~ ZScoreBin + RSLBin + RSIL + RSI2H + RSI2L + MACDH + MACDL,\n",
    "                 data = training, family = binomial(link = 'logit'))  \n",
    "\n",
    "summary(modelo1)"
   ]
  },
  {
   "cell_type": "markdown",
   "metadata": {},
   "source": [
    "_____________________________________________"
   ]
  },
  {
   "cell_type": "markdown",
   "metadata": {},
   "source": [
    "### Avaliaçao do Modelo 1 - Teste"
   ]
  },
  {
   "cell_type": "code",
   "execution_count": 20,
   "metadata": {},
   "outputs": [
    {
     "data": {
      "text/plain": [
       "\n",
       "Call:  glm(formula = Alvo1_Bin ~ ZScoreBin + RSLBin + RSIL + RSI2H + \n",
       "    RSI2L + MACDH + MACDL, family = binomial(link = \"logit\"), \n",
       "    data = training)\n",
       "\n",
       "Coefficients:\n",
       "(Intercept)    ZScoreBin       RSLBin         RSIL        RSI2H        RSI2L  \n",
       "     0.4730      -0.5493       0.4273       0.1567      -0.4685      -0.1554  \n",
       "      MACDH        MACDL  \n",
       "    -0.4270      -0.4896  \n",
       "\n",
       "Degrees of Freedom: 1010 Total (i.e. Null);  1003 Residual\n",
       "Null Deviance:\t    1401 \n",
       "Residual Deviance: 1358 \tAIC: 1374"
      ]
     },
     "metadata": {},
     "output_type": "display_data"
    }
   ],
   "source": [
    "modelo1"
   ]
  },
  {
   "cell_type": "code",
   "execution_count": 21,
   "metadata": {},
   "outputs": [
    {
     "data": {
      "text/html": [
       "0.53"
      ],
      "text/latex": [
       "0.53"
      ],
      "text/markdown": [
       "0.53"
      ],
      "text/plain": [
       "[1] 0.53"
      ]
     },
     "metadata": {},
     "output_type": "display_data"
    },
    {
     "data": {
      "text/html": [
       "0.06"
      ],
      "text/latex": [
       "0.06"
      ],
      "text/markdown": [
       "0.06"
      ],
      "text/plain": [
       "[1] 0.06"
      ]
     },
     "metadata": {},
     "output_type": "display_data"
    },
    {
     "data": {
      "image/png": "[encoded data removed]",
      "text/plain": [
       "Plot with title \"Area Under the Curve\""
      ]
     },
     "metadata": {},
     "output_type": "display_data"
    }
   ],
   "source": [
    "# Plota a AUC\n",
    "\n",
    "probabilidades <- predict(modelo1, type = 'response', testing) \n",
    "modelo1_data <- prediction(probabilidades, testing$Alvo1_Bin)\n",
    "plot(performance(modelo1_data, \"tpr\", \"fpr\"), col = \"red\", main = \"Area Under the Curve\")\n",
    "abline(0,1, lty = 8, col = \"grey\")\n",
    "\n",
    "# AUC\n",
    "auc_rdock <- performance(modelo1_data, \"auc\")\n",
    "auc.area_rdock <- slot(auc_rdock, \"y.values\")[[1]]\n",
    "round(auc.area_rdock, 2)\n",
    "\n",
    "# Gini\n",
    "gini_fin_test <- 2*auc.area_rdock-1\n",
    "round(gini_fin_test, 2)"
   ]
  },
  {
   "cell_type": "code",
   "execution_count": 22,
   "metadata": {},
   "outputs": [
    {
     "data": {
      "text/plain": [
       "               \n",
       "classe           0  1\n",
       "  (0.262,0.396] 43 30\n",
       "  (0.396,0.481] 34 46\n",
       "  (0.481,0.501] 36 36\n",
       "  (0.501,0.579] 34 40\n",
       "  (0.579,0.606] 32 32\n",
       "  (0.606,0.616] 11 14"
      ]
     },
     "metadata": {},
     "output_type": "display_data"
    }
   ],
   "source": [
    "# Ordenação por classe de score\n",
    "\n",
    "classe <- cut(probabilidades, quantile(probabilidades, seq(0,1,0.15)))\n",
    "\n",
    "table(classe, testing$Alvo1_Bin)"
   ]
  },
  {
   "cell_type": "code",
   "execution_count": 23,
   "metadata": {},
   "outputs": [
    {
     "data": {
      "text/html": [
       "<dl class=dl-horizontal>\n",
       "\t<dt>(0.262,0.396]</dt>\n",
       "\t\t<dd>41.1</dd>\n",
       "\t<dt>(0.396,0.481]</dt>\n",
       "\t\t<dd>57.5</dd>\n",
       "\t<dt>(0.481,0.501]</dt>\n",
       "\t\t<dd>50</dd>\n",
       "\t<dt>(0.501,0.579]</dt>\n",
       "\t\t<dd>54.1</dd>\n",
       "\t<dt>(0.579,0.606]</dt>\n",
       "\t\t<dd>50</dd>\n",
       "\t<dt>(0.606,0.616]</dt>\n",
       "\t\t<dd>56</dd>\n",
       "</dl>\n"
      ],
      "text/latex": [
       "\\begin{description*}\n",
       "\\item[(0.262,0.396\\{{]}\\}] 41.1\n",
       "\\item[(0.396,0.481\\{{]}\\}] 57.5\n",
       "\\item[(0.481,0.501\\{{]}\\}] 50\n",
       "\\item[(0.501,0.579\\{{]}\\}] 54.1\n",
       "\\item[(0.579,0.606\\{{]}\\}] 50\n",
       "\\item[(0.606,0.616\\{{]}\\}] 56\n",
       "\\end{description*}\n"
      ],
      "text/markdown": [
       "(0.262,0.396]\n",
       ":   41.1(0.396,0.481]\n",
       ":   57.5(0.481,0.501]\n",
       ":   50(0.501,0.579]\n",
       ":   54.1(0.579,0.606]\n",
       ":   50(0.606,0.616]\n",
       ":   56\n",
       "\n"
      ],
      "text/plain": [
       "(0.262,0.396] (0.396,0.481] (0.481,0.501] (0.501,0.579] (0.579,0.606] \n",
       "         41.1          57.5          50.0          54.1          50.0 \n",
       "(0.606,0.616] \n",
       "         56.0 "
      ]
     },
     "metadata": {},
     "output_type": "display_data"
    }
   ],
   "source": [
    "# Taxa de Alta/Baixa\n",
    "\n",
    "round(table(classe, testing$Alvo1_Bin)[,2]/(table(classe, testing$Alvo1_Bin)[,1] + table(classe, testing$Alvo1_Bin)[,2]),3)*100"
   ]
  },
  {
   "cell_type": "code",
   "execution_count": 24,
   "metadata": {},
   "outputs": [],
   "source": [
    "corte_low <- 0.396\n",
    "corte_up <- 0.606"
   ]
  },
  {
   "cell_type": "markdown",
   "metadata": {},
   "source": [
    "_____________________________________________"
   ]
  },
  {
   "cell_type": "markdown",
   "metadata": {},
   "source": [
    "### Avaliaçao do Modelo 1 - Validaçao"
   ]
  },
  {
   "cell_type": "code",
   "execution_count": 25,
   "metadata": {},
   "outputs": [
    {
     "data": {
      "text/html": [
       "0.53"
      ],
      "text/latex": [
       "0.53"
      ],
      "text/markdown": [
       "0.53"
      ],
      "text/plain": [
       "[1] 0.53"
      ]
     },
     "metadata": {},
     "output_type": "display_data"
    },
    {
     "data": {
      "text/html": [
       "0.05"
      ],
      "text/latex": [
       "0.05"
      ],
      "text/markdown": [
       "0.05"
      ],
      "text/plain": [
       "[1] 0.05"
      ]
     },
     "metadata": {},
     "output_type": "display_data"
    },
    {
     "data": {
      "image/png": "[encoded data removed]",
      "text/plain": [
       "Plot with title \"Area Under the Curve\""
      ]
     },
     "metadata": {},
     "output_type": "display_data"
    }
   ],
   "source": [
    "#Plota a ROC\n",
    "probabilidades_val <- predict(modelo1,type = 'response',validacao) \n",
    "modelo1_data_val <- prediction(probabilidades_val, validacao$Alvo1_Bin)\n",
    "plot(performance(modelo1_data_val, \"tpr\", \"fpr\"), col = \"red\", main = \"Area Under the Curve\")\n",
    "abline(0,1, lty = 8, col = \"grey\")\n",
    "\n",
    "#AUC\n",
    "auc_rdock_val <- performance(modelo1_data_val, \"auc\")\n",
    "auc.area_rdock_val <- slot(auc_rdock_val, \"y.values\")[[1]]\n",
    "round(auc.area_rdock_val,2)\n",
    "\n",
    "#Gini\n",
    "gini_fin_test_val <- 2*auc.area_rdock_val-1\n",
    "round(gini_fin_test_val,2)"
   ]
  },
  {
   "cell_type": "markdown",
   "metadata": {},
   "source": [
    "_____________________________________________"
   ]
  },
  {
   "cell_type": "markdown",
   "metadata": {},
   "source": [
    "### Avaliaçao da Performance"
   ]
  },
  {
   "cell_type": "code",
   "execution_count": 26,
   "metadata": {
    "scrolled": false
   },
   "outputs": [
    {
     "data": {
      "image/png": "[encoded data removed]",
      "text/plain": [
       "Plot with title \"Base de Teste\""
      ]
     },
     "metadata": {},
     "output_type": "display_data"
    },
    {
     "data": {
      "image/png": "[encoded data removed]",
      "text/plain": [
       "Plot with title \"Base de Validaçao\""
      ]
     },
     "metadata": {},
     "output_type": "display_data"
    }
   ],
   "source": [
    "par(mfrow=c(1,1))\n",
    "\n",
    "# Custos operacionais\n",
    "custo_op <- 0.01 # Em percentual - No forex é realmente muito baixo.\n",
    "\n",
    "# Teste\n",
    "testing$predicao <- predict(modelo1, type='response',testing) \n",
    "\n",
    "retorno_BH <- ifelse(testing$Return > 0, testing$Return, testing$Return)\n",
    "retorno_BH_acumulado <- cumsum(retorno_BH)\n",
    "\n",
    "retorno_modelo1 <- ifelse(testing$predicao > corte_up, testing$Alvo1 - custo_op,\n",
    "                          ifelse(testing$predicao < corte_low, -1*testing$Alvo1 - custo_op,0))\n",
    "\n",
    "retorno_modelo1_acumulado <- cumsum(retorno_modelo1)\n",
    "\n",
    "\n",
    "plot(retorno_modelo1_acumulado, type = \"l\", col = \"black\", lwd = 2,\n",
    "     main = \"Base de Teste\",\n",
    "     xlab = \"2006 - 2008\",\n",
    "     ylab = \"Retorno em %\",\n",
    "     ylim = c(-20,80))\n",
    "lines(retorno_BH_acumulado,col = \"blue\", lwd = 2)\n",
    "\n",
    "legend(1, 75, legend = c(\"RegLog\",\"B&H\"),\n",
    "       col = c(\"black\",\"blue\"), lty = 1:1, cex = 0.8)\n",
    "\n",
    "\n",
    "# Validacao\n",
    "validacao$predicao <- predict(modelo1, type ='response', validacao) \n",
    "\n",
    "retorno_BH <- ifelse(validacao$Return > 0, validacao$Return, validacao$Return)\n",
    "retorno_BH_acumulado <- cumsum(retorno_BH)\n",
    "\n",
    "retorno_modelo1 <- ifelse(validacao$predicao > corte_up, validacao$Alvo1 - custo_op,\n",
    "                          ifelse(validacao$predicao < corte_low, -1*validacao$Alvo1 - custo_op,0))\n",
    "\n",
    "retorno_modelo1_acumulado <- cumsum(retorno_modelo1)\n",
    "\n",
    "# Grafico da Performance\n",
    "\n",
    "plot(retorno_modelo1_acumulado, type = \"l\", col = \"green\", lwd = 2,\n",
    "     main = \"Base de Validaçao\",\n",
    "     xlab = \"2009 - 2019\",\n",
    "     ylab = \"Retorno em %\",\n",
    "     ylim = c(-50,80))\n",
    "lines(retorno_BH_acumulado, col = \"blue\", lwd = 2)\n",
    "\n",
    "legend(1, 160, legend = c(\"RegLog\", \"B&H\"),\n",
    "       col = c(\"green\",\"blue\"), lty = 1:1, cex = 0.8)\n"
   ]
  },
  {
   "cell_type": "code",
   "execution_count": 27,
   "metadata": {},
   "outputs": [
    {
     "name": "stdout",
     "output_type": "stream",
     "text": [
      "[1] \"Retorno de 2009 à 2019:  51.32 %\"\n",
      "[1] \"Retorno juros simples por ano:  4.67 %\"\n"
     ]
    }
   ],
   "source": [
    "# Retorno acumulado em quase 11 anos\n",
    "\n",
    "print(paste(\"Retorno de 2009 à 2019: \" ,round(last(retorno_modelo1_acumulado),2), \"%\"))\n",
    "\n",
    "print(paste(\"Retorno juros simples por ano: \" ,round(last(retorno_modelo1_acumulado)/11,2), \"%\"))"
   ]
  },
  {
   "cell_type": "markdown",
   "metadata": {},
   "source": [
    "_____________________________________________"
   ]
  },
  {
   "cell_type": "markdown",
   "metadata": {},
   "source": [
    "### Consideraçoes Finais\n",
    "\n",
    " - A avaliaçao de performance nao è com juros compostos, apenas simples e sem aumento de capital\n",
    " - Ou seja, os retornos podem ser muito maiores\n",
    " - Os custos operacionais sao baixos no Forex, mas possuem impacto relevante em mercados como o do Brasil\n",
    " - Os Ginis sao medianos;\n",
    " - Porém, no mercado financeiro qualquer coisa que acerte mais que uma moeda te dà um alpha\n",
    " - Quais novas variàveis podemos pensar?\n",
    " - Tema para as proximas aulas"
   ]
  }
 ],
 "metadata": {
  "kernelspec": {
   "display_name": "R",
   "language": "R",
   "name": "ir"
  },
  "language_info": {
   "codemirror_mode": "r",
   "file_extension": ".r",
   "mimetype": "text/x-r-source",
   "name": "R",
   "pygments_lexer": "r",
   "version": "3.6.1"
  }
 },
 "nbformat": 4,
 "nbformat_minor": 2
}
