{
 "cells": [
  {
   "cell_type": "markdown",
   "metadata": {},
   "source": [
    "## 10. K-means no Dólar Futuro\n",
    " \n",
    "\n",
    "#### Etapas\n",
    "\n",
    "- Passo 0 - Assitir às aulas anteriores de K-means\n",
    "- Passo 1 - Carregar as bibliotecas\n",
    "- Passo 2 - Carregar a base de dados\n",
    "- Passo 3 - Tratamento dos dados\n",
    "- Passo 4 - Construçao dos alvos e variaveis\n",
    "- Passo 5 - Preparaçao da base para treinamento e teste\n",
    "- Passo 6 - Avaliaçao dos numeros de clusters necessàrios\n",
    "- Passo 7 - Avaliaçao dos Resultados\n",
    "- Passo 8 - Analise bivariada\n",
    "- Passo 9 - Retreinamento do K-means\n",
    "- Passo 10 - Re-avaliaçao dos Resultados\n",
    "\n",
    " \n",
    "\n",
    "________________________________________________________\n"
   ]
  },
  {
   "cell_type": "markdown",
   "metadata": {},
   "source": [
    "### Passo 1 - Carregar as bibliotecas"
   ]
  },
  {
   "cell_type": "code",
   "execution_count": 1,
   "metadata": {},
   "outputs": [],
   "source": [
    "# Carregando as bibliotecas\n",
    "\n",
    "import time\n",
    "import matplotlib.pyplot as plt\n",
    "from sklearn import datasets\n",
    "from sklearn.decomposition import PCA\n",
    "from sklearn.model_selection import train_test_split, GridSearchCV, StratifiedKFold\n",
    "from sklearn.preprocessing import StandardScaler\n",
    "from sklearn.metrics import classification_report, confusion_matrix, precision_score, accuracy_score, precision_recall_curve, auc, make_scorer, recall_score\n",
    "from sklearn.cluster import KMeans\n",
    "import statsmodels.api as sm\n",
    "import pandas as pd\n",
    "import numpy as np\n"
   ]
  },
  {
   "cell_type": "code",
   "execution_count": 2,
   "metadata": {},
   "outputs": [],
   "source": [
    "# Para remover os warnings\n",
    "import sys\n",
    "\n",
    "if not sys.warnoptions:\n",
    "    import warnings\n",
    "    warnings.simplefilter(\"ignore\")"
   ]
  },
  {
   "cell_type": "markdown",
   "metadata": {},
   "source": [
    "______________________________________________________"
   ]
  },
  {
   "cell_type": "markdown",
   "metadata": {},
   "source": [
    "### Passo 2 - Carregar a base de dados"
   ]
  },
  {
   "cell_type": "code",
   "execution_count": 3,
   "metadata": {},
   "outputs": [
    {
     "data": {
      "text/plain": [
       "3854"
      ]
     },
     "execution_count": 3,
     "metadata": {},
     "output_type": "execute_result"
    }
   ],
   "source": [
    "# Carregando a base de dados e fazendo os checks iniciais\n",
    "\n",
    "# Muda o diretorio de trabalho\n",
    "import os\n",
    "os.chdir(\"C:\\\\Users\\\\engle\\\\OM Na Pratica\\\\Finanças Quantitativas\\\\Bases de Dados\")\n",
    "\n",
    "df1 = pd.read_csv(\"WDOFUT.csv\", sep = \";\")\n",
    "\n",
    "df1.shape[0]"
   ]
  },
  {
   "cell_type": "code",
   "execution_count": 4,
   "metadata": {},
   "outputs": [
    {
     "data": {
      "text/html": [
       "<div>\n",
       "<style scoped>\n",
       "    .dataframe tbody tr th:only-of-type {\n",
       "        vertical-align: middle;\n",
       "    }\n",
       "\n",
       "    .dataframe tbody tr th {\n",
       "        vertical-align: top;\n",
       "    }\n",
       "\n",
       "    .dataframe thead th {\n",
       "        text-align: right;\n",
       "    }\n",
       "</style>\n",
       "<table border=\"1\" class=\"dataframe\">\n",
       "  <thead>\n",
       "    <tr style=\"text-align: right;\">\n",
       "      <th></th>\n",
       "      <th>Data</th>\n",
       "      <th>Abertura</th>\n",
       "      <th>Maxima</th>\n",
       "      <th>Minima</th>\n",
       "      <th>Fechamento</th>\n",
       "    </tr>\n",
       "  </thead>\n",
       "  <tbody>\n",
       "    <tr>\n",
       "      <th>0</th>\n",
       "      <td>17/05/2005</td>\n",
       "      <td>2487.0</td>\n",
       "      <td>2502.0</td>\n",
       "      <td>2487.0</td>\n",
       "      <td>2494.0</td>\n",
       "    </tr>\n",
       "    <tr>\n",
       "      <th>1</th>\n",
       "      <td>18/05/2005</td>\n",
       "      <td>2484.0</td>\n",
       "      <td>2484.0</td>\n",
       "      <td>2469.0</td>\n",
       "      <td>2470.0</td>\n",
       "    </tr>\n",
       "    <tr>\n",
       "      <th>2</th>\n",
       "      <td>19/05/2005</td>\n",
       "      <td>2455.0</td>\n",
       "      <td>2458.0</td>\n",
       "      <td>2450.0</td>\n",
       "      <td>2455.0</td>\n",
       "    </tr>\n",
       "    <tr>\n",
       "      <th>3</th>\n",
       "      <td>20/05/2005</td>\n",
       "      <td>2460.0</td>\n",
       "      <td>2463.0</td>\n",
       "      <td>2451.0</td>\n",
       "      <td>2451.0</td>\n",
       "    </tr>\n",
       "    <tr>\n",
       "      <th>4</th>\n",
       "      <td>23/05/2005</td>\n",
       "      <td>2443.0</td>\n",
       "      <td>2443.0</td>\n",
       "      <td>2432.0</td>\n",
       "      <td>2433.0</td>\n",
       "    </tr>\n",
       "  </tbody>\n",
       "</table>\n",
       "</div>"
      ],
      "text/plain": [
       "         Data  Abertura  Maxima  Minima  Fechamento\n",
       "0  17/05/2005    2487.0  2502.0  2487.0      2494.0\n",
       "1  18/05/2005    2484.0  2484.0  2469.0      2470.0\n",
       "2  19/05/2005    2455.0  2458.0  2450.0      2455.0\n",
       "3  20/05/2005    2460.0  2463.0  2451.0      2451.0\n",
       "4  23/05/2005    2443.0  2443.0  2432.0      2433.0"
      ]
     },
     "execution_count": 4,
     "metadata": {},
     "output_type": "execute_result"
    }
   ],
   "source": [
    "df1.head()"
   ]
  },
  {
   "cell_type": "markdown",
   "metadata": {},
   "source": [
    "______________________________________________________"
   ]
  },
  {
   "cell_type": "markdown",
   "metadata": {},
   "source": [
    "### Passo 3 - Tratamento dos dados"
   ]
  },
  {
   "cell_type": "code",
   "execution_count": 5,
   "metadata": {},
   "outputs": [],
   "source": [
    "# Ajustando a data - precisamos transforma-la nos indices do data frame\n",
    "\n",
    "df1[\"Data\"] = pd.to_datetime(df1[\"Data\"]).dt.normalize()\n",
    "\n",
    "df1 = df1.set_index(\"Data\")"
   ]
  },
  {
   "cell_type": "code",
   "execution_count": 6,
   "metadata": {},
   "outputs": [
    {
     "data": {
      "text/html": [
       "<div>\n",
       "<style scoped>\n",
       "    .dataframe tbody tr th:only-of-type {\n",
       "        vertical-align: middle;\n",
       "    }\n",
       "\n",
       "    .dataframe tbody tr th {\n",
       "        vertical-align: top;\n",
       "    }\n",
       "\n",
       "    .dataframe thead th {\n",
       "        text-align: right;\n",
       "    }\n",
       "</style>\n",
       "<table border=\"1\" class=\"dataframe\">\n",
       "  <thead>\n",
       "    <tr style=\"text-align: right;\">\n",
       "      <th></th>\n",
       "      <th>Abertura</th>\n",
       "      <th>Maxima</th>\n",
       "      <th>Minima</th>\n",
       "      <th>Fechamento</th>\n",
       "    </tr>\n",
       "    <tr>\n",
       "      <th>Data</th>\n",
       "      <th></th>\n",
       "      <th></th>\n",
       "      <th></th>\n",
       "      <th></th>\n",
       "    </tr>\n",
       "  </thead>\n",
       "  <tbody>\n",
       "    <tr>\n",
       "      <th>2005-05-17</th>\n",
       "      <td>2487.0</td>\n",
       "      <td>2502.0</td>\n",
       "      <td>2487.0</td>\n",
       "      <td>2494.0</td>\n",
       "    </tr>\n",
       "    <tr>\n",
       "      <th>2005-05-18</th>\n",
       "      <td>2484.0</td>\n",
       "      <td>2484.0</td>\n",
       "      <td>2469.0</td>\n",
       "      <td>2470.0</td>\n",
       "    </tr>\n",
       "    <tr>\n",
       "      <th>2005-05-19</th>\n",
       "      <td>2455.0</td>\n",
       "      <td>2458.0</td>\n",
       "      <td>2450.0</td>\n",
       "      <td>2455.0</td>\n",
       "    </tr>\n",
       "    <tr>\n",
       "      <th>2005-05-20</th>\n",
       "      <td>2460.0</td>\n",
       "      <td>2463.0</td>\n",
       "      <td>2451.0</td>\n",
       "      <td>2451.0</td>\n",
       "    </tr>\n",
       "    <tr>\n",
       "      <th>2005-05-23</th>\n",
       "      <td>2443.0</td>\n",
       "      <td>2443.0</td>\n",
       "      <td>2432.0</td>\n",
       "      <td>2433.0</td>\n",
       "    </tr>\n",
       "  </tbody>\n",
       "</table>\n",
       "</div>"
      ],
      "text/plain": [
       "            Abertura  Maxima  Minima  Fechamento\n",
       "Data                                            \n",
       "2005-05-17    2487.0  2502.0  2487.0      2494.0\n",
       "2005-05-18    2484.0  2484.0  2469.0      2470.0\n",
       "2005-05-19    2455.0  2458.0  2450.0      2455.0\n",
       "2005-05-20    2460.0  2463.0  2451.0      2451.0\n",
       "2005-05-23    2443.0  2443.0  2432.0      2433.0"
      ]
     },
     "execution_count": 6,
     "metadata": {},
     "output_type": "execute_result"
    }
   ],
   "source": [
    "df1.head()"
   ]
  },
  {
   "cell_type": "code",
   "execution_count": 7,
   "metadata": {},
   "outputs": [
    {
     "data": {
      "text/html": [
       "<div>\n",
       "<style scoped>\n",
       "    .dataframe tbody tr th:only-of-type {\n",
       "        vertical-align: middle;\n",
       "    }\n",
       "\n",
       "    .dataframe tbody tr th {\n",
       "        vertical-align: top;\n",
       "    }\n",
       "\n",
       "    .dataframe thead th {\n",
       "        text-align: right;\n",
       "    }\n",
       "</style>\n",
       "<table border=\"1\" class=\"dataframe\">\n",
       "  <thead>\n",
       "    <tr style=\"text-align: right;\">\n",
       "      <th></th>\n",
       "      <th>Abertura</th>\n",
       "      <th>Maxima</th>\n",
       "      <th>Minima</th>\n",
       "      <th>Fechamento</th>\n",
       "    </tr>\n",
       "  </thead>\n",
       "  <tbody>\n",
       "    <tr>\n",
       "      <th>count</th>\n",
       "      <td>3854.000000</td>\n",
       "      <td>3854.000000</td>\n",
       "      <td>3854.000000</td>\n",
       "      <td>3854.000000</td>\n",
       "    </tr>\n",
       "    <tr>\n",
       "      <th>mean</th>\n",
       "      <td>2695.424453</td>\n",
       "      <td>2714.421069</td>\n",
       "      <td>2677.683342</td>\n",
       "      <td>2695.850519</td>\n",
       "    </tr>\n",
       "    <tr>\n",
       "      <th>std</th>\n",
       "      <td>996.551114</td>\n",
       "      <td>1006.839596</td>\n",
       "      <td>986.645656</td>\n",
       "      <td>997.148535</td>\n",
       "    </tr>\n",
       "    <tr>\n",
       "      <th>min</th>\n",
       "      <td>1534.500000</td>\n",
       "      <td>1542.000000</td>\n",
       "      <td>1530.000000</td>\n",
       "      <td>1541.500000</td>\n",
       "    </tr>\n",
       "    <tr>\n",
       "      <th>25%</th>\n",
       "      <td>1910.000000</td>\n",
       "      <td>1921.375000</td>\n",
       "      <td>1896.250000</td>\n",
       "      <td>1909.125000</td>\n",
       "    </tr>\n",
       "    <tr>\n",
       "      <th>50%</th>\n",
       "      <td>2275.500000</td>\n",
       "      <td>2292.750000</td>\n",
       "      <td>2260.000000</td>\n",
       "      <td>2274.750000</td>\n",
       "    </tr>\n",
       "    <tr>\n",
       "      <th>75%</th>\n",
       "      <td>3312.125000</td>\n",
       "      <td>3333.000000</td>\n",
       "      <td>3292.750000</td>\n",
       "      <td>3313.750000</td>\n",
       "    </tr>\n",
       "    <tr>\n",
       "      <th>max</th>\n",
       "      <td>5927.500000</td>\n",
       "      <td>5977.500000</td>\n",
       "      <td>5823.500000</td>\n",
       "      <td>5894.500000</td>\n",
       "    </tr>\n",
       "  </tbody>\n",
       "</table>\n",
       "</div>"
      ],
      "text/plain": [
       "          Abertura       Maxima       Minima   Fechamento\n",
       "count  3854.000000  3854.000000  3854.000000  3854.000000\n",
       "mean   2695.424453  2714.421069  2677.683342  2695.850519\n",
       "std     996.551114  1006.839596   986.645656   997.148535\n",
       "min    1534.500000  1542.000000  1530.000000  1541.500000\n",
       "25%    1910.000000  1921.375000  1896.250000  1909.125000\n",
       "50%    2275.500000  2292.750000  2260.000000  2274.750000\n",
       "75%    3312.125000  3333.000000  3292.750000  3313.750000\n",
       "max    5927.500000  5977.500000  5823.500000  5894.500000"
      ]
     },
     "execution_count": 7,
     "metadata": {},
     "output_type": "execute_result"
    }
   ],
   "source": [
    "df1.describe()"
   ]
  },
  {
   "cell_type": "markdown",
   "metadata": {},
   "source": [
    "______________________________________________________"
   ]
  },
  {
   "cell_type": "markdown",
   "metadata": {},
   "source": [
    "### Passo 4 - Construçao dos alvos e variaveis"
   ]
  },
  {
   "cell_type": "code",
   "execution_count": 8,
   "metadata": {},
   "outputs": [],
   "source": [
    "# Construcao dos alvos - Vamos trabalhar com um horizonte mais longo, de 5 periodos?\n",
    "\n",
    "periodos = 1\n",
    "\n",
    "# lag de X periodos\n",
    "df1[\"Lag1\"] = df1[\"Fechamento\"].shift(-periodos)\n",
    "\n",
    "# Alvo 1 - Retorno\n",
    "df1[\"Retorno\"] = df1[\"Fechamento\"].pct_change(periodos)\n",
    "df1[\"Alvo1\"] = df1[\"Retorno\"].shift(-periodos)\n",
    "\n",
    "# Variaçao em Pontos do alvo\n",
    "df1[\"Pontos\"] = (df1[\"Fechamento\"] - df1[\"Fechamento\"].shift(1))\n",
    "df1[\"Pontos\"] = df1[\"Pontos\"].shift(-periodos)"
   ]
  },
  {
   "cell_type": "code",
   "execution_count": 9,
   "metadata": {},
   "outputs": [
    {
     "data": {
      "text/plain": [
       "count    3853.000000\n",
       "mean        0.000246\n",
       "std         0.011053\n",
       "min        -0.079897\n",
       "25%        -0.005851\n",
       "50%         0.000000\n",
       "75%         0.005831\n",
       "max         0.078145\n",
       "Name: Retorno, dtype: float64"
      ]
     },
     "execution_count": 9,
     "metadata": {},
     "output_type": "execute_result"
    }
   ],
   "source": [
    "df1[\"Retorno\"].describe()"
   ]
  },
  {
   "cell_type": "code",
   "execution_count": 10,
   "metadata": {},
   "outputs": [
    {
     "data": {
      "image/png": "[encoded data removed]",
      "text/plain": [
       "<Figure size 1296x360 with 1 Axes>"
      ]
     },
     "metadata": {
      "needs_background": "light"
     },
     "output_type": "display_data"
    }
   ],
   "source": [
    "plt.figure(figsize = (18,5))\n",
    "plt.hist(df1[\"Retorno\"], bins = 50\n",
    "        , alpha = 0.45\n",
    "        , histtype = \"stepfilled\"\n",
    "        , color = \"darkgreen\"\n",
    "        , edgecolor = \"none\"\n",
    "        , label = \"Retornos\");\n",
    "\n",
    "plt.legend()\n",
    "plt.title(\"Distribuiçao Retornos\");"
   ]
  },
  {
   "cell_type": "code",
   "execution_count": 11,
   "metadata": {},
   "outputs": [],
   "source": [
    "# Criacao do alvo\n",
    "df1[\"Alvo_Bin\"] = np.where(df1['Alvo1'] > df1[\"Retorno\"].describe()[6]/2 , 1\n",
    "                           , np.where(df1['Alvo1'] < df1[\"Retorno\"].describe()[4]/2, -1, 0))"
   ]
  },
  {
   "cell_type": "code",
   "execution_count": 12,
   "metadata": {},
   "outputs": [
    {
     "data": {
      "image/png": "[encoded data removed]",
      "text/plain": [
       "<Figure size 1296x360 with 1 Axes>"
      ]
     },
     "metadata": {
      "needs_background": "light"
     },
     "output_type": "display_data"
    }
   ],
   "source": [
    "plt.figure(figsize = (18,5))\n",
    "plt.hist(df1[\"Alvo_Bin\"], bins = 5\n",
    "        , alpha = 0.45\n",
    "        , histtype = \"stepfilled\"\n",
    "        , color = \"darkgreen\"\n",
    "        , edgecolor = \"none\"\n",
    "        , label = \"Retornos\");\n",
    "\n",
    "plt.legend()\n",
    "plt.title(\"Distribuiçao Retornos\");"
   ]
  },
  {
   "cell_type": "code",
   "execution_count": 13,
   "metadata": {},
   "outputs": [
    {
     "data": {
      "text/html": [
       "<div>\n",
       "<style scoped>\n",
       "    .dataframe tbody tr th:only-of-type {\n",
       "        vertical-align: middle;\n",
       "    }\n",
       "\n",
       "    .dataframe tbody tr th {\n",
       "        vertical-align: top;\n",
       "    }\n",
       "\n",
       "    .dataframe thead th {\n",
       "        text-align: right;\n",
       "    }\n",
       "</style>\n",
       "<table border=\"1\" class=\"dataframe\">\n",
       "  <thead>\n",
       "    <tr style=\"text-align: right;\">\n",
       "      <th></th>\n",
       "      <th>Abertura</th>\n",
       "      <th>Maxima</th>\n",
       "      <th>Minima</th>\n",
       "      <th>Fechamento</th>\n",
       "      <th>Lag1</th>\n",
       "      <th>Retorno</th>\n",
       "      <th>Alvo1</th>\n",
       "      <th>Pontos</th>\n",
       "      <th>Alvo_Bin</th>\n",
       "      <th>std5</th>\n",
       "      <th>...</th>\n",
       "      <th>a</th>\n",
       "      <th>m</th>\n",
       "      <th>f</th>\n",
       "      <th>T</th>\n",
       "      <th>cat</th>\n",
       "      <th>w</th>\n",
       "      <th>k</th>\n",
       "      <th>tau</th>\n",
       "      <th>M</th>\n",
       "      <th>g</th>\n",
       "    </tr>\n",
       "    <tr>\n",
       "      <th>Data</th>\n",
       "      <th></th>\n",
       "      <th></th>\n",
       "      <th></th>\n",
       "      <th></th>\n",
       "      <th></th>\n",
       "      <th></th>\n",
       "      <th></th>\n",
       "      <th></th>\n",
       "      <th></th>\n",
       "      <th></th>\n",
       "      <th></th>\n",
       "      <th></th>\n",
       "      <th></th>\n",
       "      <th></th>\n",
       "      <th></th>\n",
       "      <th></th>\n",
       "      <th></th>\n",
       "      <th></th>\n",
       "      <th></th>\n",
       "      <th></th>\n",
       "      <th></th>\n",
       "    </tr>\n",
       "  </thead>\n",
       "  <tbody>\n",
       "    <tr>\n",
       "      <th>2005-06-28</th>\n",
       "      <td>2369.0</td>\n",
       "      <td>2375.0</td>\n",
       "      <td>2369.0</td>\n",
       "      <td>2374.0</td>\n",
       "      <td>2360.0</td>\n",
       "      <td>-0.002940</td>\n",
       "      <td>-0.005897</td>\n",
       "      <td>-14.0</td>\n",
       "      <td>-1</td>\n",
       "      <td>0.007640</td>\n",
       "      <td>...</td>\n",
       "      <td>0.000274</td>\n",
       "      <td>-0.004085</td>\n",
       "      <td>-1.119103e-06</td>\n",
       "      <td>-3.144358e-09</td>\n",
       "      <td>-0.000229</td>\n",
       "      <td>-1.119103e-06</td>\n",
       "      <td>0.000005</td>\n",
       "      <td>2.562563e-10</td>\n",
       "      <td>-0.000005</td>\n",
       "      <td>NaN</td>\n",
       "    </tr>\n",
       "    <tr>\n",
       "      <th>2005-06-29</th>\n",
       "      <td>2365.0</td>\n",
       "      <td>2365.0</td>\n",
       "      <td>2350.0</td>\n",
       "      <td>2360.0</td>\n",
       "      <td>2350.5</td>\n",
       "      <td>-0.005897</td>\n",
       "      <td>-0.004025</td>\n",
       "      <td>-9.5</td>\n",
       "      <td>-1</td>\n",
       "      <td>0.007206</td>\n",
       "      <td>...</td>\n",
       "      <td>-0.000768</td>\n",
       "      <td>-0.014596</td>\n",
       "      <td>1.121397e-05</td>\n",
       "      <td>-3.225396e-08</td>\n",
       "      <td>-0.001740</td>\n",
       "      <td>1.121395e-05</td>\n",
       "      <td>0.000127</td>\n",
       "      <td>-1.950994e-08</td>\n",
       "      <td>0.000031</td>\n",
       "      <td>NaN</td>\n",
       "    </tr>\n",
       "    <tr>\n",
       "      <th>2005-06-30</th>\n",
       "      <td>2346.0</td>\n",
       "      <td>2356.0</td>\n",
       "      <td>2346.0</td>\n",
       "      <td>2350.5</td>\n",
       "      <td>2371.0</td>\n",
       "      <td>-0.004025</td>\n",
       "      <td>0.008722</td>\n",
       "      <td>20.5</td>\n",
       "      <td>1</td>\n",
       "      <td>0.003145</td>\n",
       "      <td>...</td>\n",
       "      <td>-0.001223</td>\n",
       "      <td>-0.027390</td>\n",
       "      <td>3.350148e-05</td>\n",
       "      <td>-8.966265e-08</td>\n",
       "      <td>-0.004673</td>\n",
       "      <td>3.350111e-05</td>\n",
       "      <td>0.000640</td>\n",
       "      <td>-1.565469e-07</td>\n",
       "      <td>0.000070</td>\n",
       "      <td>NaN</td>\n",
       "    </tr>\n",
       "    <tr>\n",
       "      <th>2005-01-07</th>\n",
       "      <td>2357.0</td>\n",
       "      <td>2382.0</td>\n",
       "      <td>2357.0</td>\n",
       "      <td>2371.0</td>\n",
       "      <td>2392.0</td>\n",
       "      <td>0.008722</td>\n",
       "      <td>0.008857</td>\n",
       "      <td>21.0</td>\n",
       "      <td>1</td>\n",
       "      <td>0.005860</td>\n",
       "      <td>...</td>\n",
       "      <td>0.000912</td>\n",
       "      <td>-0.007907</td>\n",
       "      <td>-7.211111e-06</td>\n",
       "      <td>-6.002671e-08</td>\n",
       "      <td>-0.003326</td>\n",
       "      <td>-7.211071e-06</td>\n",
       "      <td>0.000131</td>\n",
       "      <td>2.398154e-08</td>\n",
       "      <td>-0.000031</td>\n",
       "      <td>NaN</td>\n",
       "    </tr>\n",
       "    <tr>\n",
       "      <th>2005-04-07</th>\n",
       "      <td>2400.0</td>\n",
       "      <td>2403.0</td>\n",
       "      <td>2392.0</td>\n",
       "      <td>2392.0</td>\n",
       "      <td>2404.0</td>\n",
       "      <td>0.008857</td>\n",
       "      <td>0.005017</td>\n",
       "      <td>12.0</td>\n",
       "      <td>1</td>\n",
       "      <td>0.007240</td>\n",
       "      <td>...</td>\n",
       "      <td>0.000756</td>\n",
       "      <td>0.004716</td>\n",
       "      <td>3.563098e-06</td>\n",
       "      <td>1.502823e-08</td>\n",
       "      <td>-0.000828</td>\n",
       "      <td>3.563097e-06</td>\n",
       "      <td>-0.000020</td>\n",
       "      <td>-2.950982e-09</td>\n",
       "      <td>0.000012</td>\n",
       "      <td>0.000022</td>\n",
       "    </tr>\n",
       "    <tr>\n",
       "      <th>2005-05-07</th>\n",
       "      <td>2400.0</td>\n",
       "      <td>2404.0</td>\n",
       "      <td>2384.0</td>\n",
       "      <td>2404.0</td>\n",
       "      <td>2415.0</td>\n",
       "      <td>0.005017</td>\n",
       "      <td>0.004576</td>\n",
       "      <td>11.0</td>\n",
       "      <td>1</td>\n",
       "      <td>0.007045</td>\n",
       "      <td>...</td>\n",
       "      <td>0.000070</td>\n",
       "      <td>0.012673</td>\n",
       "      <td>8.885036e-07</td>\n",
       "      <td>1.604573e-08</td>\n",
       "      <td>0.001531</td>\n",
       "      <td>8.885026e-07</td>\n",
       "      <td>0.000097</td>\n",
       "      <td>1.360462e-09</td>\n",
       "      <td>0.000020</td>\n",
       "      <td>0.000161</td>\n",
       "    </tr>\n",
       "    <tr>\n",
       "      <th>2005-06-07</th>\n",
       "      <td>2406.0</td>\n",
       "      <td>2422.0</td>\n",
       "      <td>2406.0</td>\n",
       "      <td>2415.0</td>\n",
       "      <td>2396.0</td>\n",
       "      <td>0.004576</td>\n",
       "      <td>-0.007867</td>\n",
       "      <td>-19.0</td>\n",
       "      <td>-1</td>\n",
       "      <td>0.005236</td>\n",
       "      <td>...</td>\n",
       "      <td>0.000839</td>\n",
       "      <td>0.023146</td>\n",
       "      <td>1.942769e-05</td>\n",
       "      <td>5.077316e-08</td>\n",
       "      <td>0.003714</td>\n",
       "      <td>1.942756e-05</td>\n",
       "      <td>0.000430</td>\n",
       "      <td>7.215345e-08</td>\n",
       "      <td>0.000048</td>\n",
       "      <td>0.000536</td>\n",
       "    </tr>\n",
       "    <tr>\n",
       "      <th>2005-07-07</th>\n",
       "      <td>2426.0</td>\n",
       "      <td>2427.0</td>\n",
       "      <td>2396.0</td>\n",
       "      <td>2396.0</td>\n",
       "      <td>2388.0</td>\n",
       "      <td>-0.007867</td>\n",
       "      <td>-0.003339</td>\n",
       "      <td>-8.0</td>\n",
       "      <td>-1</td>\n",
       "      <td>0.006855</td>\n",
       "      <td>...</td>\n",
       "      <td>0.000358</td>\n",
       "      <td>0.019304</td>\n",
       "      <td>6.911906e-06</td>\n",
       "      <td>5.698978e-09</td>\n",
       "      <td>0.005434</td>\n",
       "      <td>6.911804e-06</td>\n",
       "      <td>0.000524</td>\n",
       "      <td>3.756012e-08</td>\n",
       "      <td>-0.000015</td>\n",
       "      <td>0.000373</td>\n",
       "    </tr>\n",
       "    <tr>\n",
       "      <th>2005-08-07</th>\n",
       "      <td>2406.0</td>\n",
       "      <td>2406.0</td>\n",
       "      <td>2379.0</td>\n",
       "      <td>2388.0</td>\n",
       "      <td>2359.0</td>\n",
       "      <td>-0.003339</td>\n",
       "      <td>-0.012144</td>\n",
       "      <td>-29.0</td>\n",
       "      <td>-1</td>\n",
       "      <td>0.006839</td>\n",
       "      <td>...</td>\n",
       "      <td>-0.001262</td>\n",
       "      <td>0.007243</td>\n",
       "      <td>-9.138882e-06</td>\n",
       "      <td>2.107069e-08</td>\n",
       "      <td>0.002116</td>\n",
       "      <td>-9.138861e-06</td>\n",
       "      <td>0.000077</td>\n",
       "      <td>-1.934141e-08</td>\n",
       "      <td>-0.000017</td>\n",
       "      <td>0.000052</td>\n",
       "    </tr>\n",
       "    <tr>\n",
       "      <th>2005-11-07</th>\n",
       "      <td>2388.0</td>\n",
       "      <td>2388.0</td>\n",
       "      <td>2359.0</td>\n",
       "      <td>2359.0</td>\n",
       "      <td>2355.0</td>\n",
       "      <td>-0.012144</td>\n",
       "      <td>-0.001696</td>\n",
       "      <td>-4.0</td>\n",
       "      <td>0</td>\n",
       "      <td>0.007563</td>\n",
       "      <td>...</td>\n",
       "      <td>-0.001345</td>\n",
       "      <td>-0.013758</td>\n",
       "      <td>1.850387e-05</td>\n",
       "      <td>-1.213581e-07</td>\n",
       "      <td>-0.000323</td>\n",
       "      <td>1.850387e-05</td>\n",
       "      <td>0.000022</td>\n",
       "      <td>-5.972912e-09</td>\n",
       "      <td>0.000058</td>\n",
       "      <td>0.000189</td>\n",
       "    </tr>\n",
       "  </tbody>\n",
       "</table>\n",
       "<p>10 rows × 34 columns</p>\n",
       "</div>"
      ],
      "text/plain": [
       "            Abertura  Maxima  Minima  Fechamento    Lag1   Retorno     Alvo1  \\\n",
       "Data                                                                           \n",
       "2005-06-28    2369.0  2375.0  2369.0      2374.0  2360.0 -0.002940 -0.005897   \n",
       "2005-06-29    2365.0  2365.0  2350.0      2360.0  2350.5 -0.005897 -0.004025   \n",
       "2005-06-30    2346.0  2356.0  2346.0      2350.5  2371.0 -0.004025  0.008722   \n",
       "2005-01-07    2357.0  2382.0  2357.0      2371.0  2392.0  0.008722  0.008857   \n",
       "2005-04-07    2400.0  2403.0  2392.0      2392.0  2404.0  0.008857  0.005017   \n",
       "2005-05-07    2400.0  2404.0  2384.0      2404.0  2415.0  0.005017  0.004576   \n",
       "2005-06-07    2406.0  2422.0  2406.0      2415.0  2396.0  0.004576 -0.007867   \n",
       "2005-07-07    2426.0  2427.0  2396.0      2396.0  2388.0 -0.007867 -0.003339   \n",
       "2005-08-07    2406.0  2406.0  2379.0      2388.0  2359.0 -0.003339 -0.012144   \n",
       "2005-11-07    2388.0  2388.0  2359.0      2359.0  2355.0 -0.012144 -0.001696   \n",
       "\n",
       "            Pontos  Alvo_Bin      std5  ...         a         m             f  \\\n",
       "Data                                    ...                                     \n",
       "2005-06-28   -14.0        -1  0.007640  ...  0.000274 -0.004085 -1.119103e-06   \n",
       "2005-06-29    -9.5        -1  0.007206  ... -0.000768 -0.014596  1.121397e-05   \n",
       "2005-06-30    20.5         1  0.003145  ... -0.001223 -0.027390  3.350148e-05   \n",
       "2005-01-07    21.0         1  0.005860  ...  0.000912 -0.007907 -7.211111e-06   \n",
       "2005-04-07    12.0         1  0.007240  ...  0.000756  0.004716  3.563098e-06   \n",
       "2005-05-07    11.0         1  0.007045  ...  0.000070  0.012673  8.885036e-07   \n",
       "2005-06-07   -19.0        -1  0.005236  ...  0.000839  0.023146  1.942769e-05   \n",
       "2005-07-07    -8.0        -1  0.006855  ...  0.000358  0.019304  6.911906e-06   \n",
       "2005-08-07   -29.0        -1  0.006839  ... -0.001262  0.007243 -9.138882e-06   \n",
       "2005-11-07    -4.0         0  0.007563  ... -0.001345 -0.013758  1.850387e-05   \n",
       "\n",
       "                       T       cat             w         k           tau  \\\n",
       "Data                                                                       \n",
       "2005-06-28 -3.144358e-09 -0.000229 -1.119103e-06  0.000005  2.562563e-10   \n",
       "2005-06-29 -3.225396e-08 -0.001740  1.121395e-05  0.000127 -1.950994e-08   \n",
       "2005-06-30 -8.966265e-08 -0.004673  3.350111e-05  0.000640 -1.565469e-07   \n",
       "2005-01-07 -6.002671e-08 -0.003326 -7.211071e-06  0.000131  2.398154e-08   \n",
       "2005-04-07  1.502823e-08 -0.000828  3.563097e-06 -0.000020 -2.950982e-09   \n",
       "2005-05-07  1.604573e-08  0.001531  8.885026e-07  0.000097  1.360462e-09   \n",
       "2005-06-07  5.077316e-08  0.003714  1.942756e-05  0.000430  7.215345e-08   \n",
       "2005-07-07  5.698978e-09  0.005434  6.911804e-06  0.000524  3.756012e-08   \n",
       "2005-08-07  2.107069e-08  0.002116 -9.138861e-06  0.000077 -1.934141e-08   \n",
       "2005-11-07 -1.213581e-07 -0.000323  1.850387e-05  0.000022 -5.972912e-09   \n",
       "\n",
       "                   M         g  \n",
       "Data                            \n",
       "2005-06-28 -0.000005       NaN  \n",
       "2005-06-29  0.000031       NaN  \n",
       "2005-06-30  0.000070       NaN  \n",
       "2005-01-07 -0.000031       NaN  \n",
       "2005-04-07  0.000012  0.000022  \n",
       "2005-05-07  0.000020  0.000161  \n",
       "2005-06-07  0.000048  0.000536  \n",
       "2005-07-07 -0.000015  0.000373  \n",
       "2005-08-07 -0.000017  0.000052  \n",
       "2005-11-07  0.000058  0.000189  \n",
       "\n",
       "[10 rows x 34 columns]"
      ]
     },
     "execution_count": 13,
     "metadata": {},
     "output_type": "execute_result"
    }
   ],
   "source": [
    "# Construçao das Variaveis\n",
    "\n",
    "# Desvio Padrao de 5 dias\n",
    "df1[\"std5\"] = df1[\"Retorno\"].rolling(5).std()\n",
    "\n",
    "# Desvio Padrao de 10 dias\n",
    "df1[\"std10\"] = df1[\"Retorno\"].rolling(10).std()\n",
    "\n",
    "# Desvio Padrao de 15 dias\n",
    "df1[\"std15\"] = df1[\"Retorno\"].rolling(15).std()\n",
    "\n",
    "# Proporçao do corpo do candle em relacao ao range do dia\n",
    "df1[\"prop\"] = (df1[\"Fechamento\"]-df1[\"Abertura\"])/(df1[\"Maxima\"]-df1[\"Minima\"])\n",
    "\n",
    "# Direçao do dia atual\n",
    "df1[\"dir_D\"] = np.where(df1['Fechamento'] > df1['Abertura'] , 1, 0)\n",
    "\n",
    "# Direçao D-1\n",
    "df1[\"dir_D-1\"] = df1[\"dir_D\"].shift(1)\n",
    "\n",
    "# Direçao D-2\n",
    "df1[\"dir_D-2\"] = df1[\"dir_D\"].shift(2)\n",
    "\n",
    "# Direçao D-3\n",
    "df1[\"dir_D-3\"] = df1[\"dir_D\"].shift(3)\n",
    "\n",
    "# Media Movel de 15 dias std5\n",
    "df1[\"mm_std5\"] = df1[\"std5\"].rolling(15).mean()\n",
    "\n",
    "# Media Movel de 15 dias std5\n",
    "df1[\"mm_std10\"] = df1[\"std10\"].rolling(15).mean()\n",
    "\n",
    "# Media Movel de 15 dias std5\n",
    "df1[\"mm_std15\"] = df1[\"std15\"].rolling(15).mean()\n",
    "\n",
    "# RSL std5\n",
    "df1[\"RSL_std5\"] = (df1[\"std5\"]/df1[\"std5\"].rolling(15).mean())-1\n",
    "\n",
    "# RSL std10\n",
    "df1[\"RSL_std10\"] = (df1[\"std10\"]/df1[\"std10\"].rolling(15).mean())-1\n",
    "\n",
    "# RSL std15\n",
    "df1[\"RSL_std15\"] = (df1[\"std15\"]/df1[\"std15\"].rolling(15).mean())-1\n",
    "\n",
    "# Aplicando a fisica\n",
    "\n",
    "p = 5 \n",
    "\n",
    "# Velocidade de p dias\n",
    "df1[\"v\"] = (df1[\"Retorno\"] - df1[\"Retorno\"].shift(p))/p\n",
    "\n",
    "# Aceleraçao de p dias\n",
    "df1[\"a\"] = (df1[\"v\"] - df1[\"v\"].shift(p))/p\n",
    "\n",
    "# Força\n",
    "# Calculando a massa\n",
    "df1[\"m\"] = df1[\"Retorno\"].rolling(p).sum()\n",
    "df1[\"f\"] = df1[\"m\"]*df1[\"a\"]\n",
    "\n",
    "# Energia cinética\n",
    "df1[\"T\"] = 0.5*df1[\"m\"]*df1[\"v\"]*df1[\"v\"]\n",
    "\n",
    "\n",
    "# Trabalho \n",
    "# cateto_oposto\n",
    "cat_op = df1[\"Retorno\"].rolling(p).sum()-df1[\"Retorno\"].rolling(1).sum()\n",
    "cat_ad = p\n",
    "df1[\"cat\"] = cat_op/cat_ad\n",
    "df1 = df1.dropna(axis = 0)\n",
    "df1[\"w\"] = df1[\"f\"]*np.cos(np.arctan(df1[\"cat\"]))\n",
    "\n",
    "# Energia potencial\n",
    "df1[\"k\"] = cat_op*df1[\"m\"]\n",
    "\n",
    "# Torque\n",
    "df1[\"tau\"] = df1[\"f\"]*np.sin(np.arctan(df1[\"cat\"]))\n",
    "\n",
    "# Momentum\n",
    "df1[\"M\"] = df1[\"m\"]*df1[\"v\"]\n",
    "\n",
    "# Gravidade\n",
    "df1[\"g\"] = df1[\"m\"]*df1[\"Retorno\"].rolling(p).sum()/(df1[\"m\"]/df1[\"Retorno\"].rolling(p).sum())*(df1[\"m\"]/df1[\"Retorno\"].rolling(p).sum())\n",
    "\n",
    "df1.head(10)"
   ]
  },
  {
   "cell_type": "code",
   "execution_count": 14,
   "metadata": {},
   "outputs": [],
   "source": [
    "# Filtrando os valores missing\n",
    "\n",
    "df1_filtrado = df1.dropna(axis = 0) \n",
    "\n",
    "df1_filtrado= df1_filtrado.drop([\"std5\",\"std10\",\"std15\",\"mm_std5\",\"mm_std10\",\"mm_std15\"], axis = 1)"
   ]
  },
  {
   "cell_type": "code",
   "execution_count": 15,
   "metadata": {},
   "outputs": [],
   "source": [
    "corte = 10\n",
    "\n",
    "df1_filtrado[\"RSL_std5\"] = pd.qcut(df1_filtrado[\"RSL_std5\"], corte, labels = False)\n",
    "df1_filtrado[\"RSL_std10\"] = pd.qcut(df1_filtrado[\"RSL_std10\"], corte, labels = False)\n",
    "df1_filtrado[\"RSL_std15\"] = pd.qcut(df1_filtrado[\"RSL_std15\"], corte, labels = False)\n",
    "df1_filtrado[\"v\"] = pd.qcut(df1_filtrado[\"v\"], corte, labels = False)\n",
    "df1_filtrado[\"a\"] = pd.qcut(df1_filtrado[\"a\"], corte, labels = False)\n",
    "df1_filtrado[\"m\"] = pd.qcut(df1_filtrado[\"m\"], corte, labels = False)\n",
    "df1_filtrado[\"f\"] = pd.qcut(df1_filtrado[\"f\"], corte, labels = False)\n",
    "df1_filtrado[\"T\"] = pd.qcut(df1_filtrado[\"T\"], corte, labels = False)\n",
    "df1_filtrado[\"w\"] = pd.qcut(df1_filtrado[\"w\"], corte, labels = False)\n",
    "df1_filtrado[\"k\"] = pd.qcut(df1_filtrado[\"k\"], corte, labels = False)\n",
    "df1_filtrado[\"tau\"] = pd.qcut(df1_filtrado[\"tau\"], corte, labels = False)\n",
    "df1_filtrado[\"M\"] = pd.qcut(df1_filtrado[\"M\"], corte, labels = False)\n",
    "df1_filtrado[\"g\"] = pd.qcut(df1_filtrado[\"g\"], corte, labels = False)"
   ]
  },
  {
   "cell_type": "code",
   "execution_count": 16,
   "metadata": {},
   "outputs": [
    {
     "data": {
      "text/html": [
       "<div>\n",
       "<style scoped>\n",
       "    .dataframe tbody tr th:only-of-type {\n",
       "        vertical-align: middle;\n",
       "    }\n",
       "\n",
       "    .dataframe tbody tr th {\n",
       "        vertical-align: top;\n",
       "    }\n",
       "\n",
       "    .dataframe thead th {\n",
       "        text-align: right;\n",
       "    }\n",
       "</style>\n",
       "<table border=\"1\" class=\"dataframe\">\n",
       "  <thead>\n",
       "    <tr style=\"text-align: right;\">\n",
       "      <th>Alvo_Bin</th>\n",
       "      <th>-1</th>\n",
       "      <th>0</th>\n",
       "      <th>1</th>\n",
       "    </tr>\n",
       "    <tr>\n",
       "      <th>RSL_std5</th>\n",
       "      <th></th>\n",
       "      <th></th>\n",
       "      <th></th>\n",
       "    </tr>\n",
       "  </thead>\n",
       "  <tbody>\n",
       "    <tr>\n",
       "      <th>0</th>\n",
       "      <td>3.294979</td>\n",
       "      <td>2.955021</td>\n",
       "      <td>3.765690</td>\n",
       "    </tr>\n",
       "    <tr>\n",
       "      <th>1</th>\n",
       "      <td>3.817992</td>\n",
       "      <td>2.771967</td>\n",
       "      <td>3.399582</td>\n",
       "    </tr>\n",
       "    <tr>\n",
       "      <th>2</th>\n",
       "      <td>4.184100</td>\n",
       "      <td>2.588912</td>\n",
       "      <td>3.216527</td>\n",
       "    </tr>\n",
       "    <tr>\n",
       "      <th>3</th>\n",
       "      <td>3.713389</td>\n",
       "      <td>2.641213</td>\n",
       "      <td>3.661088</td>\n",
       "    </tr>\n",
       "    <tr>\n",
       "      <th>4</th>\n",
       "      <td>3.817992</td>\n",
       "      <td>2.693515</td>\n",
       "      <td>3.478033</td>\n",
       "    </tr>\n",
       "    <tr>\n",
       "      <th>5</th>\n",
       "      <td>3.687238</td>\n",
       "      <td>2.536611</td>\n",
       "      <td>3.765690</td>\n",
       "    </tr>\n",
       "    <tr>\n",
       "      <th>6</th>\n",
       "      <td>3.347280</td>\n",
       "      <td>2.981172</td>\n",
       "      <td>3.687238</td>\n",
       "    </tr>\n",
       "    <tr>\n",
       "      <th>7</th>\n",
       "      <td>3.713389</td>\n",
       "      <td>2.981172</td>\n",
       "      <td>3.294979</td>\n",
       "    </tr>\n",
       "    <tr>\n",
       "      <th>8</th>\n",
       "      <td>3.530335</td>\n",
       "      <td>2.641213</td>\n",
       "      <td>3.817992</td>\n",
       "    </tr>\n",
       "    <tr>\n",
       "      <th>9</th>\n",
       "      <td>3.687238</td>\n",
       "      <td>2.353556</td>\n",
       "      <td>3.974895</td>\n",
       "    </tr>\n",
       "  </tbody>\n",
       "</table>\n",
       "</div>"
      ],
      "text/plain": [
       "Alvo_Bin        -1         0         1\n",
       "RSL_std5                              \n",
       "0         3.294979  2.955021  3.765690\n",
       "1         3.817992  2.771967  3.399582\n",
       "2         4.184100  2.588912  3.216527\n",
       "3         3.713389  2.641213  3.661088\n",
       "4         3.817992  2.693515  3.478033\n",
       "5         3.687238  2.536611  3.765690\n",
       "6         3.347280  2.981172  3.687238\n",
       "7         3.713389  2.981172  3.294979\n",
       "8         3.530335  2.641213  3.817992\n",
       "9         3.687238  2.353556  3.974895"
      ]
     },
     "execution_count": 16,
     "metadata": {},
     "output_type": "execute_result"
    }
   ],
   "source": [
    "pd.crosstab(pd.qcut(df1[\"RSL_std5\"], corte, labels = False), df1[\"Alvo_Bin\"])/df1.shape[0]*100"
   ]
  },
  {
   "cell_type": "code",
   "execution_count": 17,
   "metadata": {},
   "outputs": [
    {
     "data": {
      "text/html": [
       "<div>\n",
       "<style scoped>\n",
       "    .dataframe tbody tr th:only-of-type {\n",
       "        vertical-align: middle;\n",
       "    }\n",
       "\n",
       "    .dataframe tbody tr th {\n",
       "        vertical-align: top;\n",
       "    }\n",
       "\n",
       "    .dataframe thead th {\n",
       "        text-align: right;\n",
       "    }\n",
       "</style>\n",
       "<table border=\"1\" class=\"dataframe\">\n",
       "  <thead>\n",
       "    <tr style=\"text-align: right;\">\n",
       "      <th>Alvo_Bin</th>\n",
       "      <th>-1</th>\n",
       "      <th>0</th>\n",
       "      <th>1</th>\n",
       "    </tr>\n",
       "    <tr>\n",
       "      <th>RSL_std5</th>\n",
       "      <th></th>\n",
       "      <th></th>\n",
       "      <th></th>\n",
       "    </tr>\n",
       "  </thead>\n",
       "  <tbody>\n",
       "    <tr>\n",
       "      <th>0</th>\n",
       "      <td>7.112971</td>\n",
       "      <td>5.726987</td>\n",
       "      <td>7.165272</td>\n",
       "    </tr>\n",
       "    <tr>\n",
       "      <th>1</th>\n",
       "      <td>7.897490</td>\n",
       "      <td>5.230126</td>\n",
       "      <td>6.877615</td>\n",
       "    </tr>\n",
       "    <tr>\n",
       "      <th>2</th>\n",
       "      <td>7.505230</td>\n",
       "      <td>5.230126</td>\n",
       "      <td>7.243724</td>\n",
       "    </tr>\n",
       "    <tr>\n",
       "      <th>3</th>\n",
       "      <td>7.060669</td>\n",
       "      <td>5.962343</td>\n",
       "      <td>6.982218</td>\n",
       "    </tr>\n",
       "    <tr>\n",
       "      <th>4</th>\n",
       "      <td>7.217573</td>\n",
       "      <td>4.994770</td>\n",
       "      <td>7.792887</td>\n",
       "    </tr>\n",
       "  </tbody>\n",
       "</table>\n",
       "</div>"
      ],
      "text/plain": [
       "Alvo_Bin        -1         0         1\n",
       "RSL_std5                              \n",
       "0         7.112971  5.726987  7.165272\n",
       "1         7.897490  5.230126  6.877615\n",
       "2         7.505230  5.230126  7.243724\n",
       "3         7.060669  5.962343  6.982218\n",
       "4         7.217573  4.994770  7.792887"
      ]
     },
     "execution_count": 17,
     "metadata": {},
     "output_type": "execute_result"
    }
   ],
   "source": [
    "pd.crosstab(pd.qcut(df1[\"RSL_std5\"], 5, labels = False), df1[\"Alvo_Bin\"])/df1.shape[0]*100"
   ]
  },
  {
   "cell_type": "code",
   "execution_count": 18,
   "metadata": {},
   "outputs": [
    {
     "data": {
      "image/png": "[encoded data removed]",
      "text/plain": [
       "<Figure size 432x288 with 1 Axes>"
      ]
     },
     "metadata": {
      "needs_background": "light"
     },
     "output_type": "display_data"
    }
   ],
   "source": [
    "plt.plot(pd.crosstab(pd.qcut(df1[\"RSL_std10\"], 20, labels = False), df1[\"Alvo_Bin\"])/df1.shape[0]*100);"
   ]
  },
  {
   "cell_type": "code",
   "execution_count": 19,
   "metadata": {},
   "outputs": [
    {
     "data": {
      "text/html": [
       "<div>\n",
       "<style scoped>\n",
       "    .dataframe tbody tr th:only-of-type {\n",
       "        vertical-align: middle;\n",
       "    }\n",
       "\n",
       "    .dataframe tbody tr th {\n",
       "        vertical-align: top;\n",
       "    }\n",
       "\n",
       "    .dataframe thead th {\n",
       "        text-align: right;\n",
       "    }\n",
       "</style>\n",
       "<table border=\"1\" class=\"dataframe\">\n",
       "  <thead>\n",
       "    <tr style=\"text-align: right;\">\n",
       "      <th></th>\n",
       "      <th>Abertura</th>\n",
       "      <th>Maxima</th>\n",
       "      <th>Minima</th>\n",
       "      <th>Fechamento</th>\n",
       "      <th>Lag1</th>\n",
       "      <th>Retorno</th>\n",
       "      <th>Alvo1</th>\n",
       "      <th>Pontos</th>\n",
       "      <th>Alvo_Bin</th>\n",
       "      <th>prop</th>\n",
       "      <th>...</th>\n",
       "      <th>a</th>\n",
       "      <th>m</th>\n",
       "      <th>f</th>\n",
       "      <th>T</th>\n",
       "      <th>cat</th>\n",
       "      <th>w</th>\n",
       "      <th>k</th>\n",
       "      <th>tau</th>\n",
       "      <th>M</th>\n",
       "      <th>g</th>\n",
       "    </tr>\n",
       "    <tr>\n",
       "      <th>Data</th>\n",
       "      <th></th>\n",
       "      <th></th>\n",
       "      <th></th>\n",
       "      <th></th>\n",
       "      <th></th>\n",
       "      <th></th>\n",
       "      <th></th>\n",
       "      <th></th>\n",
       "      <th></th>\n",
       "      <th></th>\n",
       "      <th></th>\n",
       "      <th></th>\n",
       "      <th></th>\n",
       "      <th></th>\n",
       "      <th></th>\n",
       "      <th></th>\n",
       "      <th></th>\n",
       "      <th></th>\n",
       "      <th></th>\n",
       "      <th></th>\n",
       "      <th></th>\n",
       "    </tr>\n",
       "  </thead>\n",
       "  <tbody>\n",
       "    <tr>\n",
       "      <th>2020-08-12</th>\n",
       "      <td>5121.5</td>\n",
       "      <td>5139.5</td>\n",
       "      <td>5063.0</td>\n",
       "      <td>5120.0</td>\n",
       "      <td>5172.5</td>\n",
       "      <td>0.004020</td>\n",
       "      <td>0.010254</td>\n",
       "      <td>52.5</td>\n",
       "      <td>1</td>\n",
       "      <td>-0.019608</td>\n",
       "      <td>...</td>\n",
       "      <td>9</td>\n",
       "      <td>1</td>\n",
       "      <td>0</td>\n",
       "      <td>0</td>\n",
       "      <td>-0.004200</td>\n",
       "      <td>0</td>\n",
       "      <td>7</td>\n",
       "      <td>9</td>\n",
       "      <td>0</td>\n",
       "      <td>6</td>\n",
       "    </tr>\n",
       "    <tr>\n",
       "      <th>2020-09-12</th>\n",
       "      <td>5100.5</td>\n",
       "      <td>5198.0</td>\n",
       "      <td>5087.0</td>\n",
       "      <td>5172.5</td>\n",
       "      <td>5027.5</td>\n",
       "      <td>0.010254</td>\n",
       "      <td>-0.028033</td>\n",
       "      <td>-145.0</td>\n",
       "      <td>-1</td>\n",
       "      <td>0.648649</td>\n",
       "      <td>...</td>\n",
       "      <td>4</td>\n",
       "      <td>3</td>\n",
       "      <td>5</td>\n",
       "      <td>2</td>\n",
       "      <td>-0.003837</td>\n",
       "      <td>5</td>\n",
       "      <td>5</td>\n",
       "      <td>2</td>\n",
       "      <td>1</td>\n",
       "      <td>3</td>\n",
       "    </tr>\n",
       "    <tr>\n",
       "      <th>2020-10-12</th>\n",
       "      <td>5112.0</td>\n",
       "      <td>5133.0</td>\n",
       "      <td>5016.0</td>\n",
       "      <td>5027.5</td>\n",
       "      <td>5070.5</td>\n",
       "      <td>-0.028033</td>\n",
       "      <td>0.008553</td>\n",
       "      <td>43.0</td>\n",
       "      <td>1</td>\n",
       "      <td>-0.722222</td>\n",
       "      <td>...</td>\n",
       "      <td>5</td>\n",
       "      <td>1</td>\n",
       "      <td>3</td>\n",
       "      <td>0</td>\n",
       "      <td>0.000762</td>\n",
       "      <td>3</td>\n",
       "      <td>0</td>\n",
       "      <td>4</td>\n",
       "      <td>8</td>\n",
       "      <td>7</td>\n",
       "    </tr>\n",
       "    <tr>\n",
       "      <th>2020-11-12</th>\n",
       "      <td>5055.0</td>\n",
       "      <td>5089.0</td>\n",
       "      <td>5029.5</td>\n",
       "      <td>5070.5</td>\n",
       "      <td>5117.5</td>\n",
       "      <td>0.008553</td>\n",
       "      <td>0.009269</td>\n",
       "      <td>47.0</td>\n",
       "      <td>1</td>\n",
       "      <td>0.260504</td>\n",
       "      <td>...</td>\n",
       "      <td>6</td>\n",
       "      <td>1</td>\n",
       "      <td>1</td>\n",
       "      <td>2</td>\n",
       "      <td>-0.005058</td>\n",
       "      <td>1</td>\n",
       "      <td>7</td>\n",
       "      <td>8</td>\n",
       "      <td>1</td>\n",
       "      <td>6</td>\n",
       "    </tr>\n",
       "    <tr>\n",
       "      <th>2020-12-14</th>\n",
       "      <td>5039.0</td>\n",
       "      <td>5131.0</td>\n",
       "      <td>5010.5</td>\n",
       "      <td>5117.5</td>\n",
       "      <td>5089.5</td>\n",
       "      <td>0.009269</td>\n",
       "      <td>-0.005471</td>\n",
       "      <td>-28.0</td>\n",
       "      <td>-1</td>\n",
       "      <td>0.651452</td>\n",
       "      <td>...</td>\n",
       "      <td>8</td>\n",
       "      <td>5</td>\n",
       "      <td>6</td>\n",
       "      <td>8</td>\n",
       "      <td>-0.001041</td>\n",
       "      <td>6</td>\n",
       "      <td>0</td>\n",
       "      <td>3</td>\n",
       "      <td>6</td>\n",
       "      <td>1</td>\n",
       "    </tr>\n",
       "  </tbody>\n",
       "</table>\n",
       "<p>5 rows × 28 columns</p>\n",
       "</div>"
      ],
      "text/plain": [
       "            Abertura  Maxima  Minima  Fechamento    Lag1   Retorno     Alvo1  \\\n",
       "Data                                                                           \n",
       "2020-08-12    5121.5  5139.5  5063.0      5120.0  5172.5  0.004020  0.010254   \n",
       "2020-09-12    5100.5  5198.0  5087.0      5172.5  5027.5  0.010254 -0.028033   \n",
       "2020-10-12    5112.0  5133.0  5016.0      5027.5  5070.5 -0.028033  0.008553   \n",
       "2020-11-12    5055.0  5089.0  5029.5      5070.5  5117.5  0.008553  0.009269   \n",
       "2020-12-14    5039.0  5131.0  5010.5      5117.5  5089.5  0.009269 -0.005471   \n",
       "\n",
       "            Pontos  Alvo_Bin      prop  ...  a  m  f  T       cat  w  k  tau  \\\n",
       "Data                                    ...                                    \n",
       "2020-08-12    52.5         1 -0.019608  ...  9  1  0  0 -0.004200  0  7    9   \n",
       "2020-09-12  -145.0        -1  0.648649  ...  4  3  5  2 -0.003837  5  5    2   \n",
       "2020-10-12    43.0         1 -0.722222  ...  5  1  3  0  0.000762  3  0    4   \n",
       "2020-11-12    47.0         1  0.260504  ...  6  1  1  2 -0.005058  1  7    8   \n",
       "2020-12-14   -28.0        -1  0.651452  ...  8  5  6  8 -0.001041  6  0    3   \n",
       "\n",
       "            M  g  \n",
       "Data              \n",
       "2020-08-12  0  6  \n",
       "2020-09-12  1  3  \n",
       "2020-10-12  8  7  \n",
       "2020-11-12  1  6  \n",
       "2020-12-14  6  1  \n",
       "\n",
       "[5 rows x 28 columns]"
      ]
     },
     "execution_count": 19,
     "metadata": {},
     "output_type": "execute_result"
    }
   ],
   "source": [
    "df1_filtrado.tail()"
   ]
  },
  {
   "cell_type": "code",
   "execution_count": 20,
   "metadata": {},
   "outputs": [
    {
     "data": {
      "text/plain": [
       "Index(['Abertura', 'Maxima', 'Minima', 'Fechamento', 'Lag1', 'Retorno',\n",
       "       'Alvo1', 'Pontos', 'Alvo_Bin', 'prop', 'dir_D', 'dir_D-1', 'dir_D-2',\n",
       "       'dir_D-3', 'RSL_std5', 'RSL_std10', 'RSL_std15', 'v', 'a', 'm', 'f',\n",
       "       'T', 'cat', 'w', 'k', 'tau', 'M', 'g'],\n",
       "      dtype='object')"
      ]
     },
     "execution_count": 20,
     "metadata": {},
     "output_type": "execute_result"
    }
   ],
   "source": [
    "df1_filtrado.columns"
   ]
  },
  {
   "cell_type": "code",
   "execution_count": 21,
   "metadata": {},
   "outputs": [],
   "source": [
    "df1_filtrado = df1_filtrado.drop([\"m\",\"cat\",\"M\"], axis=1)"
   ]
  },
  {
   "cell_type": "markdown",
   "metadata": {},
   "source": [
    "______________________________________________________"
   ]
  },
  {
   "cell_type": "markdown",
   "metadata": {},
   "source": [
    "### Passo 5 - Preparaçao da base para treinamento e teste"
   ]
  },
  {
   "cell_type": "code",
   "execution_count": 22,
   "metadata": {},
   "outputs": [],
   "source": [
    "# Separando os dados entre treinamento e teste\n",
    "\n",
    "# Vamos treinar o modelo de 2005 à 2012\n",
    "start_train = \"2005-08-07\"\n",
    "end_train = \"2012-12-31\"\n",
    "\n",
    "# Vamos testar o modelo de 2013 à 2020\n",
    "start_test = \"2013-01-01\"\n",
    "end_test = \"2020-12-08\"\n",
    "\n",
    "df1_train1 = df1_filtrado.loc[start_train : end_train]\n",
    "\n",
    "df1_test1 = df1_filtrado.loc[start_test : end_test]"
   ]
  },
  {
   "cell_type": "code",
   "execution_count": 23,
   "metadata": {},
   "outputs": [
    {
     "data": {
      "text/html": [
       "<div>\n",
       "<style scoped>\n",
       "    .dataframe tbody tr th:only-of-type {\n",
       "        vertical-align: middle;\n",
       "    }\n",
       "\n",
       "    .dataframe tbody tr th {\n",
       "        vertical-align: top;\n",
       "    }\n",
       "\n",
       "    .dataframe thead th {\n",
       "        text-align: right;\n",
       "    }\n",
       "</style>\n",
       "<table border=\"1\" class=\"dataframe\">\n",
       "  <thead>\n",
       "    <tr style=\"text-align: right;\">\n",
       "      <th></th>\n",
       "      <th>Abertura</th>\n",
       "      <th>Maxima</th>\n",
       "      <th>Minima</th>\n",
       "      <th>Fechamento</th>\n",
       "      <th>Lag1</th>\n",
       "      <th>Retorno</th>\n",
       "      <th>Alvo1</th>\n",
       "      <th>Pontos</th>\n",
       "      <th>Alvo_Bin</th>\n",
       "      <th>prop</th>\n",
       "      <th>...</th>\n",
       "      <th>RSL_std10</th>\n",
       "      <th>RSL_std15</th>\n",
       "      <th>v</th>\n",
       "      <th>a</th>\n",
       "      <th>f</th>\n",
       "      <th>T</th>\n",
       "      <th>w</th>\n",
       "      <th>k</th>\n",
       "      <th>tau</th>\n",
       "      <th>g</th>\n",
       "    </tr>\n",
       "    <tr>\n",
       "      <th>Data</th>\n",
       "      <th></th>\n",
       "      <th></th>\n",
       "      <th></th>\n",
       "      <th></th>\n",
       "      <th></th>\n",
       "      <th></th>\n",
       "      <th></th>\n",
       "      <th></th>\n",
       "      <th></th>\n",
       "      <th></th>\n",
       "      <th></th>\n",
       "      <th></th>\n",
       "      <th></th>\n",
       "      <th></th>\n",
       "      <th></th>\n",
       "      <th></th>\n",
       "      <th></th>\n",
       "      <th></th>\n",
       "      <th></th>\n",
       "      <th></th>\n",
       "      <th></th>\n",
       "    </tr>\n",
       "  </thead>\n",
       "  <tbody>\n",
       "    <tr>\n",
       "      <th>2013-02-01</th>\n",
       "      <td>2041.0</td>\n",
       "      <td>2056.5</td>\n",
       "      <td>2041.0</td>\n",
       "      <td>2055.5</td>\n",
       "      <td>2057.0</td>\n",
       "      <td>-0.001700</td>\n",
       "      <td>0.000730</td>\n",
       "      <td>1.5</td>\n",
       "      <td>0</td>\n",
       "      <td>0.935484</td>\n",
       "      <td>...</td>\n",
       "      <td>3</td>\n",
       "      <td>0</td>\n",
       "      <td>4</td>\n",
       "      <td>6</td>\n",
       "      <td>2</td>\n",
       "      <td>4</td>\n",
       "      <td>2</td>\n",
       "      <td>3</td>\n",
       "      <td>6</td>\n",
       "      <td>3</td>\n",
       "    </tr>\n",
       "    <tr>\n",
       "      <th>2013-03-01</th>\n",
       "      <td>2057.0</td>\n",
       "      <td>2059.5</td>\n",
       "      <td>2043.5</td>\n",
       "      <td>2057.0</td>\n",
       "      <td>2043.5</td>\n",
       "      <td>0.000730</td>\n",
       "      <td>-0.006563</td>\n",
       "      <td>-13.5</td>\n",
       "      <td>-1</td>\n",
       "      <td>0.000000</td>\n",
       "      <td>...</td>\n",
       "      <td>4</td>\n",
       "      <td>0</td>\n",
       "      <td>3</td>\n",
       "      <td>3</td>\n",
       "      <td>6</td>\n",
       "      <td>3</td>\n",
       "      <td>6</td>\n",
       "      <td>5</td>\n",
       "      <td>2</td>\n",
       "      <td>4</td>\n",
       "    </tr>\n",
       "    <tr>\n",
       "      <th>2013-04-01</th>\n",
       "      <td>2057.5</td>\n",
       "      <td>2059.0</td>\n",
       "      <td>2041.0</td>\n",
       "      <td>2043.5</td>\n",
       "      <td>2039.0</td>\n",
       "      <td>-0.006563</td>\n",
       "      <td>-0.002202</td>\n",
       "      <td>-4.5</td>\n",
       "      <td>0</td>\n",
       "      <td>-0.777778</td>\n",
       "      <td>...</td>\n",
       "      <td>3</td>\n",
       "      <td>1</td>\n",
       "      <td>7</td>\n",
       "      <td>8</td>\n",
       "      <td>2</td>\n",
       "      <td>3</td>\n",
       "      <td>2</td>\n",
       "      <td>0</td>\n",
       "      <td>3</td>\n",
       "      <td>1</td>\n",
       "    </tr>\n",
       "    <tr>\n",
       "      <th>2013-07-01</th>\n",
       "      <td>2044.0</td>\n",
       "      <td>2045.5</td>\n",
       "      <td>2033.0</td>\n",
       "      <td>2039.0</td>\n",
       "      <td>2050.0</td>\n",
       "      <td>-0.002202</td>\n",
       "      <td>0.005395</td>\n",
       "      <td>11.0</td>\n",
       "      <td>1</td>\n",
       "      <td>-0.400000</td>\n",
       "      <td>...</td>\n",
       "      <td>3</td>\n",
       "      <td>1</td>\n",
       "      <td>5</td>\n",
       "      <td>4</td>\n",
       "      <td>4</td>\n",
       "      <td>4</td>\n",
       "      <td>4</td>\n",
       "      <td>1</td>\n",
       "      <td>4</td>\n",
       "      <td>1</td>\n",
       "    </tr>\n",
       "    <tr>\n",
       "      <th>2013-08-01</th>\n",
       "      <td>2036.5</td>\n",
       "      <td>2050.0</td>\n",
       "      <td>2029.5</td>\n",
       "      <td>2050.0</td>\n",
       "      <td>2050.0</td>\n",
       "      <td>0.005395</td>\n",
       "      <td>0.000000</td>\n",
       "      <td>0.0</td>\n",
       "      <td>0</td>\n",
       "      <td>0.658537</td>\n",
       "      <td>...</td>\n",
       "      <td>4</td>\n",
       "      <td>2</td>\n",
       "      <td>4</td>\n",
       "      <td>2</td>\n",
       "      <td>6</td>\n",
       "      <td>4</td>\n",
       "      <td>6</td>\n",
       "      <td>3</td>\n",
       "      <td>2</td>\n",
       "      <td>2</td>\n",
       "    </tr>\n",
       "  </tbody>\n",
       "</table>\n",
       "<p>5 rows × 25 columns</p>\n",
       "</div>"
      ],
      "text/plain": [
       "            Abertura  Maxima  Minima  Fechamento    Lag1   Retorno     Alvo1  \\\n",
       "Data                                                                           \n",
       "2013-02-01    2041.0  2056.5  2041.0      2055.5  2057.0 -0.001700  0.000730   \n",
       "2013-03-01    2057.0  2059.5  2043.5      2057.0  2043.5  0.000730 -0.006563   \n",
       "2013-04-01    2057.5  2059.0  2041.0      2043.5  2039.0 -0.006563 -0.002202   \n",
       "2013-07-01    2044.0  2045.5  2033.0      2039.0  2050.0 -0.002202  0.005395   \n",
       "2013-08-01    2036.5  2050.0  2029.5      2050.0  2050.0  0.005395  0.000000   \n",
       "\n",
       "            Pontos  Alvo_Bin      prop  ...  RSL_std10  RSL_std15  v  a  f  T  \\\n",
       "Data                                    ...                                     \n",
       "2013-02-01     1.5         0  0.935484  ...          3          0  4  6  2  4   \n",
       "2013-03-01   -13.5        -1  0.000000  ...          4          0  3  3  6  3   \n",
       "2013-04-01    -4.5         0 -0.777778  ...          3          1  7  8  2  3   \n",
       "2013-07-01    11.0         1 -0.400000  ...          3          1  5  4  4  4   \n",
       "2013-08-01     0.0         0  0.658537  ...          4          2  4  2  6  4   \n",
       "\n",
       "            w  k  tau  g  \n",
       "Data                      \n",
       "2013-02-01  2  3    6  3  \n",
       "2013-03-01  6  5    2  4  \n",
       "2013-04-01  2  0    3  1  \n",
       "2013-07-01  4  1    4  1  \n",
       "2013-08-01  6  3    2  2  \n",
       "\n",
       "[5 rows x 25 columns]"
      ]
     },
     "execution_count": 23,
     "metadata": {},
     "output_type": "execute_result"
    }
   ],
   "source": [
    "df1_test1.head()"
   ]
  },
  {
   "cell_type": "code",
   "execution_count": 24,
   "metadata": {},
   "outputs": [
    {
     "data": {
      "text/plain": [
       "Index(['Abertura', 'Maxima', 'Minima', 'Fechamento', 'Lag1', 'Retorno',\n",
       "       'Alvo1', 'Pontos', 'Alvo_Bin', 'prop', 'dir_D', 'dir_D-1', 'dir_D-2',\n",
       "       'dir_D-3', 'RSL_std5', 'RSL_std10', 'RSL_std15', 'v', 'a', 'f', 'T',\n",
       "       'w', 'k', 'tau', 'g'],\n",
       "      dtype='object')"
      ]
     },
     "execution_count": 24,
     "metadata": {},
     "output_type": "execute_result"
    }
   ],
   "source": [
    "df1_filtrado.columns"
   ]
  },
  {
   "cell_type": "code",
   "execution_count": 25,
   "metadata": {},
   "outputs": [],
   "source": [
    "# Separando os dados com as variaveis em x e o alvo em y\n",
    " \n",
    "x_train1 = df1_train1.iloc[:, 9:24]\n",
    "y_train1 = df1_train1['Alvo_Bin'].values.reshape(-1, 1)\n",
    "\n",
    "x_test1 = df1_test1.iloc[:, 9:24]\n",
    "y_test1 = df1_test1['Alvo_Bin'].values.reshape(-1, 1)"
   ]
  },
  {
   "cell_type": "markdown",
   "metadata": {},
   "source": [
    "______________________________________________________"
   ]
  },
  {
   "cell_type": "markdown",
   "metadata": {},
   "source": [
    "### Passo 6 - Avaliaçao dos numeros de clusters necessàrios\n"
   ]
  },
  {
   "cell_type": "code",
   "execution_count": 26,
   "metadata": {
    "scrolled": false
   },
   "outputs": [],
   "source": [
    "min_clusters = 2\n",
    "max_clusters = 20\n",
    "inertias = np.zeros(shape = (max_clusters - min_clusters + 1,))"
   ]
  },
  {
   "cell_type": "code",
   "execution_count": 27,
   "metadata": {},
   "outputs": [],
   "source": [
    "for i in range(min_clusters, max_clusters + 1):\n",
    "    km = KMeans(n_clusters = i, random_state = 42)\n",
    "    km.fit(x_train1)\n",
    "    inertias[i - min_clusters] = km.inertia_"
   ]
  },
  {
   "cell_type": "code",
   "execution_count": 31,
   "metadata": {},
   "outputs": [
    {
     "data": {
      "image/png": "[encoded data removed]",
      "text/plain": [
       "<Figure size 720x432 with 1 Axes>"
      ]
     },
     "metadata": {
      "needs_background": "light"
     },
     "output_type": "display_data"
    }
   ],
   "source": [
    "plt.figure(figsize = (10, 6))\n",
    "plt.plot(range(min_clusters, max_clusters + 1), inertias, color = \"b\")\n",
    "plt.title(\"Avaliaçao do numero de clusters\")\n",
    "plt.xlabel(\"# de clusters\")\n",
    "plt.ylabel(\"Soma da distancia quadrada\")\n",
    "plt.annotate(\"# de clusters escolhido\", xy = (6, 68000), xytext = (7, 90000),\n",
    "            arrowprops = dict(facecolor = \"red\", shrink = 0.05),\n",
    "            );"
   ]
  },
  {
   "cell_type": "code",
   "execution_count": 32,
   "metadata": {},
   "outputs": [],
   "source": [
    "kmodel = KMeans(n_clusters = 6, random_state = 42)\n",
    "clusters = kmodel.fit(x_train1)"
   ]
  },
  {
   "cell_type": "code",
   "execution_count": 33,
   "metadata": {},
   "outputs": [
    {
     "data": {
      "text/plain": [
       "array([5, 0, 0, ..., 0, 4, 4])"
      ]
     },
     "execution_count": 33,
     "metadata": {},
     "output_type": "execute_result"
    }
   ],
   "source": [
    "# Acessando os clusters\n",
    "\n",
    "clusters.labels_"
   ]
  },
  {
   "cell_type": "code",
   "execution_count": 34,
   "metadata": {},
   "outputs": [],
   "source": [
    "# Aplicando os clusters na base de treinamento e na base de teste\n",
    "# Atribuido-os à base de treinamento e teste\n",
    "\n",
    "train_clusters = pd.DataFrame(clusters.labels_,columns = [\"Cluster\"])\n",
    "train_clusters[\"Label\"] = y_train1\n",
    "train_clusters[\"Alvo1\"] = df1_train1['Alvo1'].values.reshape(-1, 1)\n",
    "\n",
    "\n",
    "fitted_clusters = kmodel.predict(x_test1)\n",
    "test_clusters = pd.DataFrame(fitted_clusters,columns = [\"Cluster\"])\n",
    "test_clusters[\"Label\"] = y_test1\n",
    "test_clusters[\"Alvo1\"] = df1_test1['Alvo1'].values.reshape(-1, 1)"
   ]
  },
  {
   "cell_type": "code",
   "execution_count": 35,
   "metadata": {},
   "outputs": [
    {
     "data": {
      "text/html": [
       "<div>\n",
       "<style scoped>\n",
       "    .dataframe tbody tr th:only-of-type {\n",
       "        vertical-align: middle;\n",
       "    }\n",
       "\n",
       "    .dataframe tbody tr th {\n",
       "        vertical-align: top;\n",
       "    }\n",
       "\n",
       "    .dataframe thead th {\n",
       "        text-align: right;\n",
       "    }\n",
       "</style>\n",
       "<table border=\"1\" class=\"dataframe\">\n",
       "  <thead>\n",
       "    <tr style=\"text-align: right;\">\n",
       "      <th></th>\n",
       "      <th>Cluster</th>\n",
       "      <th>Label</th>\n",
       "      <th>Alvo1</th>\n",
       "    </tr>\n",
       "  </thead>\n",
       "  <tbody>\n",
       "    <tr>\n",
       "      <th>0</th>\n",
       "      <td>5</td>\n",
       "      <td>-1</td>\n",
       "      <td>-0.012144</td>\n",
       "    </tr>\n",
       "    <tr>\n",
       "      <th>1</th>\n",
       "      <td>0</td>\n",
       "      <td>0</td>\n",
       "      <td>-0.001696</td>\n",
       "    </tr>\n",
       "    <tr>\n",
       "      <th>2</th>\n",
       "      <td>0</td>\n",
       "      <td>1</td>\n",
       "      <td>0.006369</td>\n",
       "    </tr>\n",
       "    <tr>\n",
       "      <th>3</th>\n",
       "      <td>4</td>\n",
       "      <td>-1</td>\n",
       "      <td>-0.019108</td>\n",
       "    </tr>\n",
       "    <tr>\n",
       "      <th>4</th>\n",
       "      <td>0</td>\n",
       "      <td>-1</td>\n",
       "      <td>-0.003030</td>\n",
       "    </tr>\n",
       "  </tbody>\n",
       "</table>\n",
       "</div>"
      ],
      "text/plain": [
       "   Cluster  Label     Alvo1\n",
       "0        5     -1 -0.012144\n",
       "1        0      0 -0.001696\n",
       "2        0      1  0.006369\n",
       "3        4     -1 -0.019108\n",
       "4        0     -1 -0.003030"
      ]
     },
     "execution_count": 35,
     "metadata": {},
     "output_type": "execute_result"
    }
   ],
   "source": [
    "train_clusters.head()"
   ]
  },
  {
   "cell_type": "code",
   "execution_count": 36,
   "metadata": {},
   "outputs": [
    {
     "data": {
      "text/html": [
       "<div>\n",
       "<style scoped>\n",
       "    .dataframe tbody tr th:only-of-type {\n",
       "        vertical-align: middle;\n",
       "    }\n",
       "\n",
       "    .dataframe tbody tr th {\n",
       "        vertical-align: top;\n",
       "    }\n",
       "\n",
       "    .dataframe thead th {\n",
       "        text-align: right;\n",
       "    }\n",
       "</style>\n",
       "<table border=\"1\" class=\"dataframe\">\n",
       "  <thead>\n",
       "    <tr style=\"text-align: right;\">\n",
       "      <th></th>\n",
       "      <th>Cluster</th>\n",
       "      <th>Label</th>\n",
       "      <th>Alvo1</th>\n",
       "    </tr>\n",
       "  </thead>\n",
       "  <tbody>\n",
       "    <tr>\n",
       "      <th>0</th>\n",
       "      <td>2</td>\n",
       "      <td>0</td>\n",
       "      <td>0.000730</td>\n",
       "    </tr>\n",
       "    <tr>\n",
       "      <th>1</th>\n",
       "      <td>0</td>\n",
       "      <td>-1</td>\n",
       "      <td>-0.006563</td>\n",
       "    </tr>\n",
       "    <tr>\n",
       "      <th>2</th>\n",
       "      <td>2</td>\n",
       "      <td>0</td>\n",
       "      <td>-0.002202</td>\n",
       "    </tr>\n",
       "    <tr>\n",
       "      <th>3</th>\n",
       "      <td>2</td>\n",
       "      <td>1</td>\n",
       "      <td>0.005395</td>\n",
       "    </tr>\n",
       "    <tr>\n",
       "      <th>4</th>\n",
       "      <td>2</td>\n",
       "      <td>0</td>\n",
       "      <td>0.000000</td>\n",
       "    </tr>\n",
       "  </tbody>\n",
       "</table>\n",
       "</div>"
      ],
      "text/plain": [
       "   Cluster  Label     Alvo1\n",
       "0        2      0  0.000730\n",
       "1        0     -1 -0.006563\n",
       "2        2      0 -0.002202\n",
       "3        2      1  0.005395\n",
       "4        2      0  0.000000"
      ]
     },
     "execution_count": 36,
     "metadata": {},
     "output_type": "execute_result"
    }
   ],
   "source": [
    "test_clusters.head()"
   ]
  },
  {
   "cell_type": "code",
   "execution_count": 37,
   "metadata": {},
   "outputs": [
    {
     "data": {
      "text/html": [
       "<div>\n",
       "<style scoped>\n",
       "    .dataframe tbody tr th:only-of-type {\n",
       "        vertical-align: middle;\n",
       "    }\n",
       "\n",
       "    .dataframe tbody tr th {\n",
       "        vertical-align: top;\n",
       "    }\n",
       "\n",
       "    .dataframe thead th {\n",
       "        text-align: right;\n",
       "    }\n",
       "</style>\n",
       "<table border=\"1\" class=\"dataframe\">\n",
       "  <thead>\n",
       "    <tr style=\"text-align: right;\">\n",
       "      <th>Label</th>\n",
       "      <th>-1</th>\n",
       "      <th>0</th>\n",
       "      <th>1</th>\n",
       "    </tr>\n",
       "    <tr>\n",
       "      <th>Cluster</th>\n",
       "      <th></th>\n",
       "      <th></th>\n",
       "      <th></th>\n",
       "    </tr>\n",
       "  </thead>\n",
       "  <tbody>\n",
       "    <tr>\n",
       "      <th>0</th>\n",
       "      <td>102</td>\n",
       "      <td>97</td>\n",
       "      <td>104</td>\n",
       "    </tr>\n",
       "    <tr>\n",
       "      <th>1</th>\n",
       "      <td>107</td>\n",
       "      <td>60</td>\n",
       "      <td>95</td>\n",
       "    </tr>\n",
       "    <tr>\n",
       "      <th>2</th>\n",
       "      <td>181</td>\n",
       "      <td>190</td>\n",
       "      <td>128</td>\n",
       "    </tr>\n",
       "    <tr>\n",
       "      <th>3</th>\n",
       "      <td>102</td>\n",
       "      <td>108</td>\n",
       "      <td>107</td>\n",
       "    </tr>\n",
       "    <tr>\n",
       "      <th>4</th>\n",
       "      <td>93</td>\n",
       "      <td>63</td>\n",
       "      <td>85</td>\n",
       "    </tr>\n",
       "    <tr>\n",
       "      <th>5</th>\n",
       "      <td>86</td>\n",
       "      <td>26</td>\n",
       "      <td>77</td>\n",
       "    </tr>\n",
       "  </tbody>\n",
       "</table>\n",
       "</div>"
      ],
      "text/plain": [
       "Label     -1    0    1\n",
       "Cluster               \n",
       "0        102   97  104\n",
       "1        107   60   95\n",
       "2        181  190  128\n",
       "3        102  108  107\n",
       "4         93   63   85\n",
       "5         86   26   77"
      ]
     },
     "execution_count": 37,
     "metadata": {},
     "output_type": "execute_result"
    }
   ],
   "source": [
    "pd.crosstab(train_clusters[\"Cluster\"], train_clusters[\"Label\"])"
   ]
  },
  {
   "cell_type": "code",
   "execution_count": 38,
   "metadata": {},
   "outputs": [
    {
     "data": {
      "text/plain": [
       "Cluster\n",
       "0    0.000535\n",
       "1   -0.000230\n",
       "2   -0.000586\n",
       "3    0.000693\n",
       "4   -0.000246\n",
       "5    0.000283\n",
       "Name: Alvo1, dtype: float64"
      ]
     },
     "execution_count": 38,
     "metadata": {},
     "output_type": "execute_result"
    }
   ],
   "source": [
    "train_clusters.groupby(\"Cluster\")[\"Alvo1\"].mean()"
   ]
  },
  {
   "cell_type": "code",
   "execution_count": 39,
   "metadata": {},
   "outputs": [
    {
     "data": {
      "text/plain": [
       "Cluster\n",
       "0    0.162087\n",
       "1   -0.060139\n",
       "2   -0.292625\n",
       "3    0.219776\n",
       "4   -0.059273\n",
       "5    0.053431\n",
       "Name: Alvo1, dtype: float64"
      ]
     },
     "execution_count": 39,
     "metadata": {},
     "output_type": "execute_result"
    }
   ],
   "source": [
    "train_clusters.groupby(\"Cluster\")[\"Alvo1\"].sum()"
   ]
  },
  {
   "cell_type": "markdown",
   "metadata": {},
   "source": [
    "______________________________________________________"
   ]
  },
  {
   "cell_type": "markdown",
   "metadata": {},
   "source": [
    "### Passo 7 - Avaliaçao dos Resultados"
   ]
  },
  {
   "cell_type": "code",
   "execution_count": 40,
   "metadata": {},
   "outputs": [],
   "source": [
    "# Calculando a performance - para toda a base\n",
    "\n",
    "y_pred_all = kmodel.predict(df1_filtrado.iloc[:, 9:24])\n",
    "df1_filtrado.loc[: , \"Clusters\"] = y_pred_all"
   ]
  },
  {
   "cell_type": "code",
   "execution_count": 41,
   "metadata": {},
   "outputs": [],
   "source": [
    "df1_filtrado.loc[: , \"Previsto\"] = np.where(((df1_filtrado.loc[: , \"Clusters\"] == 0) | (df1_filtrado.loc[: , \"Clusters\"] == 3)), 1,\n",
    "                                           np.where((df1_filtrado.loc[: , \"Clusters\"] == 2),-1\n",
    "                                                   ,0))"
   ]
  },
  {
   "cell_type": "code",
   "execution_count": 42,
   "metadata": {},
   "outputs": [],
   "source": [
    "df1_filtrado.loc[: , \"Retorno_Modelo\"] = df1_filtrado.loc[: , \"Previsto\"]*df1_filtrado[\"Alvo1\"]"
   ]
  },
  {
   "cell_type": "code",
   "execution_count": 43,
   "metadata": {},
   "outputs": [],
   "source": [
    "df1_filtrado.loc[: , \"Retorno_Modelo_Acumulado\"] = df1_filtrado[\"Retorno_Modelo\"].cumsum()"
   ]
  },
  {
   "cell_type": "code",
   "execution_count": 44,
   "metadata": {},
   "outputs": [
    {
     "data": {
      "text/plain": [
       "Data\n",
       "2020-08-12    1.161336\n",
       "2020-09-12    1.189368\n",
       "2020-10-12    1.197921\n",
       "2020-11-12    1.197921\n",
       "2020-12-14    1.197921\n",
       "Name: Retorno_Modelo_Acumulado, dtype: float64"
      ]
     },
     "execution_count": 44,
     "metadata": {},
     "output_type": "execute_result"
    }
   ],
   "source": [
    "df1_filtrado.loc[: , \"Retorno_Modelo_Acumulado\"].tail()"
   ]
  },
  {
   "cell_type": "code",
   "execution_count": 45,
   "metadata": {},
   "outputs": [],
   "source": [
    "# Faz uma copia de df1_filtrado\n",
    "df_stats = df1_filtrado.copy()"
   ]
  },
  {
   "cell_type": "code",
   "execution_count": 46,
   "metadata": {},
   "outputs": [],
   "source": [
    "# Para fazer um conditional plot\n",
    "\n",
    "df1_filtrado.index.name = \"Date\"\n",
    "df1_filtrado.reset_index(inplace = True)\n",
    "\n",
    "df1_filtrado[\"Date\"] = pd.to_datetime(df1_filtrado[\"Date\"])\n",
    "\n",
    "df1_filtrado[\"train_test\"] = np.where(df1_filtrado[\"Date\"] > end_train, 1, -1)"
   ]
  },
  {
   "cell_type": "code",
   "execution_count": 47,
   "metadata": {},
   "outputs": [],
   "source": [
    "base_agregada = df1_filtrado.resample(\"M\", on = \"Date\").sum()\n",
    "\n",
    "base_agregada.loc[: , \"Retorno_Modelo_Acumulado\"] = base_agregada[\"Retorno_Modelo\"].cumsum()*100"
   ]
  },
  {
   "cell_type": "code",
   "execution_count": 48,
   "metadata": {
    "scrolled": false
   },
   "outputs": [
    {
     "data": {
      "text/html": [
       "<div>\n",
       "<style scoped>\n",
       "    .dataframe tbody tr th:only-of-type {\n",
       "        vertical-align: middle;\n",
       "    }\n",
       "\n",
       "    .dataframe tbody tr th {\n",
       "        vertical-align: top;\n",
       "    }\n",
       "\n",
       "    .dataframe thead th {\n",
       "        text-align: right;\n",
       "    }\n",
       "</style>\n",
       "<table border=\"1\" class=\"dataframe\">\n",
       "  <thead>\n",
       "    <tr style=\"text-align: right;\">\n",
       "      <th></th>\n",
       "    </tr>\n",
       "  </thead>\n",
       "  <tbody>\n",
       "  </tbody>\n",
       "</table>\n",
       "</div>"
      ],
      "text/plain": [
       "Empty DataFrame\n",
       "Columns: []\n",
       "Index: []"
      ]
     },
     "execution_count": 48,
     "metadata": {},
     "output_type": "execute_result"
    },
    {
     "data": {
      "image/png": "[encoded data removed]",
      "text/plain": [
       "<Figure size 1440x1080 with 1 Axes>"
      ]
     },
     "metadata": {
      "needs_background": "light"
     },
     "output_type": "display_data"
    }
   ],
   "source": [
    "# Plota o grafico\n",
    "fig, ax = plt.subplots(figsize = (20,15))\n",
    "\n",
    "def grafico(group):\n",
    "    color = \"black\" if (group[\"train_test\"] < 0).all() else \"blue\"\n",
    "    lw = 4.0\n",
    "    ax.plot(group.index, group.Retorno_Modelo_Acumulado, c=color, linewidth=lw)\n",
    "    plt.xlabel(\"Ano\"\n",
    "           , fontsize = 18);\n",
    "    plt.ylabel(\"Retorno Acumulado (%)\"\n",
    "           , fontsize = 18);\n",
    "    plt.title(\"K-Means - 7 anos no DOLFUT\", fontsize = 24)\n",
    "    plt.axvline( x = end_train, color='purple', linestyle = \"--\", lw = 2)\n",
    "    setup = dict(size = 16, color = \"darkgreen\")\n",
    "    setup2 = dict(size = 14, color = \"black\")\n",
    "    plt.text(\"2009-08-01\", 90, \"Treinamento: 2005-2012\", **setup)\n",
    "    plt.text(\"2017-01-01\", 80, \"Teste: 2013-2020\", **setup)\n",
    "    plt.text(\"2010-01-01\", 86.5, \"Retorno total: +120%\", **setup2)\n",
    "    plt.text(\"2010-01-01\", 83.0, \"Retorno teste: +49%\", **setup2)\n",
    "    plt.text(\"2017-03-01\", 85.5, \"www.outspokenmarket.com\", **setup2)\n",
    "\n",
    "base_agregada.groupby((base_agregada[\"train_test\"].shift() * base_agregada[\"train_test\"] < 0).cumsum()).apply(grafico)\n"
   ]
  },
  {
   "cell_type": "code",
   "execution_count": 49,
   "metadata": {},
   "outputs": [
    {
     "data": {
      "text/plain": [
       "Counter({2: 983, 1: 648, 5: 449, 0: 616, 3: 644, 4: 480})"
      ]
     },
     "execution_count": 49,
     "metadata": {},
     "output_type": "execute_result"
    }
   ],
   "source": [
    "import collections\n",
    "\n",
    "collections.Counter(y_pred_all)"
   ]
  },
  {
   "cell_type": "code",
   "execution_count": 50,
   "metadata": {},
   "outputs": [
    {
     "data": {
      "text/plain": [
       "2243"
      ]
     },
     "execution_count": 50,
     "metadata": {},
     "output_type": "execute_result"
    }
   ],
   "source": [
    "np.count_nonzero((y_pred_all == 0) | (y_pred_all == 3) | (y_pred_all == 2))"
   ]
  },
  {
   "cell_type": "code",
   "execution_count": 51,
   "metadata": {},
   "outputs": [
    {
     "data": {
      "text/plain": [
       "3820"
      ]
     },
     "execution_count": 51,
     "metadata": {},
     "output_type": "execute_result"
    }
   ],
   "source": [
    "len(y_pred_all)"
   ]
  },
  {
   "cell_type": "code",
   "execution_count": 52,
   "metadata": {},
   "outputs": [],
   "source": [
    "long = np.count_nonzero((y_pred_all == 0) | (y_pred_all == 3))\n",
    "short = np.count_nonzero(y_pred_all == 2)\n",
    "trades = np.count_nonzero((y_pred_all == 0) | (y_pred_all == 3) | (y_pred_all == 2))\n",
    "total = len(y_pred_all)"
   ]
  },
  {
   "cell_type": "code",
   "execution_count": 54,
   "metadata": {},
   "outputs": [
    {
     "name": "stdout",
     "output_type": "stream",
     "text": [
      "K-Means: DolFut - 2003 à 2020\n",
      "Outspoken Market\n",
      "--------------------------\n",
      "# Pregoes:        3820\n",
      "# Trades:         2243\n",
      "--------------------------\n",
      "Tempo em trades:  58.72 %\n",
      "Tempo em Long:    32.98 %\n",
      "Tempo em Short:   25.73 %\n",
      "--------------------------\n",
      "Trades em Long:   56.17 %\n",
      "Trades em Short:  43.83 %\n"
     ]
    }
   ],
   "source": [
    "print(\"K-Means: DolFut - 2003 à 2020\")\n",
    "print(\"Outspoken Market\")\n",
    "print(\"--------------------------\")\n",
    "print(\"# Pregoes:       \", total)\n",
    "print(\"# Trades:        \", trades)\n",
    "print(\"--------------------------\")\n",
    "print(\"Tempo em trades: \", round(trades/total*100,2),\"%\")\n",
    "print(\"Tempo em Long:   \", round(long/total*100,2),\"%\")\n",
    "print(\"Tempo em Short:  \", round(short/total*100,2),\"%\")\n",
    "print(\"--------------------------\")\n",
    "print(\"Trades em Long:  \", round(long/trades*100,2),\"%\")\n",
    "print(\"Trades em Short: \", round(short/trades*100,2),\"%\")"
   ]
  },
  {
   "cell_type": "code",
   "execution_count": 55,
   "metadata": {},
   "outputs": [
    {
     "data": {
      "text/plain": [
       "Clusters\n",
       "0    38.227070\n",
       "1     0.000000\n",
       "2    18.438902\n",
       "3    63.126171\n",
       "4     0.000000\n",
       "5     0.000000\n",
       "Name: Retorno_Modelo, dtype: float64"
      ]
     },
     "execution_count": 55,
     "metadata": {},
     "output_type": "execute_result"
    }
   ],
   "source": [
    "df_stats.groupby(\"Clusters\")[\"Retorno_Modelo\"].sum()*100"
   ]
  },
  {
   "cell_type": "code",
   "execution_count": 56,
   "metadata": {},
   "outputs": [
    {
     "data": {
      "text/plain": [
       "Cluster\n",
       "0    0.253278\n",
       "1   -0.064995\n",
       "2    0.116478\n",
       "3    0.391563\n",
       "4    0.271128\n",
       "5    0.058095\n",
       "Name: Alvo1, dtype: float64"
      ]
     },
     "execution_count": 56,
     "metadata": {},
     "output_type": "execute_result"
    }
   ],
   "source": [
    "test_clusters.groupby(\"Cluster\")[\"Alvo1\"].sum()"
   ]
  },
  {
   "cell_type": "markdown",
   "metadata": {},
   "source": [
    "______________________________________________________"
   ]
  },
  {
   "cell_type": "markdown",
   "metadata": {},
   "source": [
    "### Passo 8 - Analise bivariada"
   ]
  },
  {
   "cell_type": "code",
   "execution_count": 57,
   "metadata": {},
   "outputs": [],
   "source": [
    "df_stats_train = df_stats.loc[start_train : end_train]\n",
    "\n",
    "df_stats_test = df_stats.loc[start_test : end_test]"
   ]
  },
  {
   "cell_type": "code",
   "execution_count": 58,
   "metadata": {},
   "outputs": [
    {
     "data": {
      "text/plain": [
       "Index(['Abertura', 'Maxima', 'Minima', 'Fechamento', 'Lag1', 'Retorno',\n",
       "       'Alvo1', 'Pontos', 'Alvo_Bin', 'prop', 'dir_D', 'dir_D-1', 'dir_D-2',\n",
       "       'dir_D-3', 'RSL_std5', 'RSL_std10', 'RSL_std15', 'v', 'a', 'f', 'T',\n",
       "       'w', 'k', 'tau', 'g', 'Clusters', 'Previsto', 'Retorno_Modelo',\n",
       "       'Retorno_Modelo_Acumulado'],\n",
       "      dtype='object')"
      ]
     },
     "execution_count": 58,
     "metadata": {},
     "output_type": "execute_result"
    }
   ],
   "source": [
    "df_stats.columns"
   ]
  },
  {
   "cell_type": "code",
   "execution_count": 59,
   "metadata": {},
   "outputs": [
    {
     "data": {
      "text/html": [
       "<div>\n",
       "<style scoped>\n",
       "    .dataframe tbody tr th:only-of-type {\n",
       "        vertical-align: middle;\n",
       "    }\n",
       "\n",
       "    .dataframe tbody tr th {\n",
       "        vertical-align: top;\n",
       "    }\n",
       "\n",
       "    .dataframe thead th {\n",
       "        text-align: right;\n",
       "    }\n",
       "</style>\n",
       "<table border=\"1\" class=\"dataframe\">\n",
       "  <thead>\n",
       "    <tr style=\"text-align: right;\">\n",
       "      <th></th>\n",
       "      <th>prop</th>\n",
       "      <th>dir_D</th>\n",
       "      <th>dir_D-1</th>\n",
       "      <th>dir_D-2</th>\n",
       "      <th>dir_D-3</th>\n",
       "      <th>RSL_std5</th>\n",
       "      <th>RSL_std10</th>\n",
       "      <th>RSL_std15</th>\n",
       "      <th>v</th>\n",
       "      <th>a</th>\n",
       "      <th>f</th>\n",
       "      <th>T</th>\n",
       "      <th>w</th>\n",
       "      <th>k</th>\n",
       "      <th>tau</th>\n",
       "      <th>g</th>\n",
       "    </tr>\n",
       "    <tr>\n",
       "      <th>Clusters</th>\n",
       "      <th></th>\n",
       "      <th></th>\n",
       "      <th></th>\n",
       "      <th></th>\n",
       "      <th></th>\n",
       "      <th></th>\n",
       "      <th></th>\n",
       "      <th></th>\n",
       "      <th></th>\n",
       "      <th></th>\n",
       "      <th></th>\n",
       "      <th></th>\n",
       "      <th></th>\n",
       "      <th></th>\n",
       "      <th></th>\n",
       "      <th></th>\n",
       "    </tr>\n",
       "  </thead>\n",
       "  <tbody>\n",
       "    <tr>\n",
       "      <th>0</th>\n",
       "      <td>-0.294906</td>\n",
       "      <td>0.300330</td>\n",
       "      <td>0.346535</td>\n",
       "      <td>0.372937</td>\n",
       "      <td>0.346535</td>\n",
       "      <td>3.775578</td>\n",
       "      <td>4.333333</td>\n",
       "      <td>4.376238</td>\n",
       "      <td>1.452145</td>\n",
       "      <td>1.349835</td>\n",
       "      <td>7.666667</td>\n",
       "      <td>1.039604</td>\n",
       "      <td>7.666667</td>\n",
       "      <td>5.874587</td>\n",
       "      <td>1.323432</td>\n",
       "      <td>6.270627</td>\n",
       "    </tr>\n",
       "    <tr>\n",
       "      <th>2</th>\n",
       "      <td>-0.007753</td>\n",
       "      <td>0.468938</td>\n",
       "      <td>0.515030</td>\n",
       "      <td>0.486974</td>\n",
       "      <td>0.472946</td>\n",
       "      <td>2.719439</td>\n",
       "      <td>1.817635</td>\n",
       "      <td>2.084168</td>\n",
       "      <td>4.663327</td>\n",
       "      <td>4.611222</td>\n",
       "      <td>4.110220</td>\n",
       "      <td>4.513026</td>\n",
       "      <td>4.110220</td>\n",
       "      <td>2.567134</td>\n",
       "      <td>4.364729</td>\n",
       "      <td>2.282565</td>\n",
       "    </tr>\n",
       "    <tr>\n",
       "      <th>3</th>\n",
       "      <td>-0.081234</td>\n",
       "      <td>0.425868</td>\n",
       "      <td>0.438486</td>\n",
       "      <td>0.438486</td>\n",
       "      <td>0.492114</td>\n",
       "      <td>6.946372</td>\n",
       "      <td>6.965300</td>\n",
       "      <td>6.353312</td>\n",
       "      <td>4.100946</td>\n",
       "      <td>4.186120</td>\n",
       "      <td>3.892744</td>\n",
       "      <td>4.015773</td>\n",
       "      <td>3.892744</td>\n",
       "      <td>2.239748</td>\n",
       "      <td>4.750789</td>\n",
       "      <td>2.223975</td>\n",
       "    </tr>\n",
       "  </tbody>\n",
       "</table>\n",
       "</div>"
      ],
      "text/plain": [
       "              prop     dir_D   dir_D-1   dir_D-2   dir_D-3  RSL_std5  \\\n",
       "Clusters                                                               \n",
       "0        -0.294906  0.300330  0.346535  0.372937  0.346535  3.775578   \n",
       "2        -0.007753  0.468938  0.515030  0.486974  0.472946  2.719439   \n",
       "3        -0.081234  0.425868  0.438486  0.438486  0.492114  6.946372   \n",
       "\n",
       "          RSL_std10  RSL_std15         v         a         f         T  \\\n",
       "Clusters                                                                 \n",
       "0          4.333333   4.376238  1.452145  1.349835  7.666667  1.039604   \n",
       "2          1.817635   2.084168  4.663327  4.611222  4.110220  4.513026   \n",
       "3          6.965300   6.353312  4.100946  4.186120  3.892744  4.015773   \n",
       "\n",
       "                 w         k       tau         g  \n",
       "Clusters                                          \n",
       "0         7.666667  5.874587  1.323432  6.270627  \n",
       "2         4.110220  2.567134  4.364729  2.282565  \n",
       "3         3.892744  2.239748  4.750789  2.223975  "
      ]
     },
     "execution_count": 59,
     "metadata": {},
     "output_type": "execute_result"
    }
   ],
   "source": [
    "df_stats_train[df_stats_train.Clusters.isin([0,3,2])].groupby(\"Clusters\")['prop', 'dir_D', 'dir_D-1', 'dir_D-2',\n",
    "       'dir_D-3', 'RSL_std5', 'RSL_std10', 'RSL_std15', 'v', 'a', 'f', 'T',\n",
    "       'w', 'k', 'tau', 'g'].mean()"
   ]
  },
  {
   "cell_type": "code",
   "execution_count": 60,
   "metadata": {},
   "outputs": [
    {
     "data": {
      "text/html": [
       "<div>\n",
       "<style scoped>\n",
       "    .dataframe tbody tr th:only-of-type {\n",
       "        vertical-align: middle;\n",
       "    }\n",
       "\n",
       "    .dataframe tbody tr th {\n",
       "        vertical-align: top;\n",
       "    }\n",
       "\n",
       "    .dataframe thead th {\n",
       "        text-align: right;\n",
       "    }\n",
       "</style>\n",
       "<table border=\"1\" class=\"dataframe\">\n",
       "  <thead>\n",
       "    <tr style=\"text-align: right;\">\n",
       "      <th></th>\n",
       "      <th>prop</th>\n",
       "      <th>dir_D</th>\n",
       "      <th>dir_D-1</th>\n",
       "      <th>dir_D-2</th>\n",
       "      <th>dir_D-3</th>\n",
       "      <th>RSL_std5</th>\n",
       "      <th>RSL_std10</th>\n",
       "      <th>RSL_std15</th>\n",
       "      <th>v</th>\n",
       "      <th>a</th>\n",
       "      <th>f</th>\n",
       "      <th>T</th>\n",
       "      <th>w</th>\n",
       "      <th>k</th>\n",
       "      <th>tau</th>\n",
       "      <th>g</th>\n",
       "    </tr>\n",
       "    <tr>\n",
       "      <th>Clusters</th>\n",
       "      <th></th>\n",
       "      <th></th>\n",
       "      <th></th>\n",
       "      <th></th>\n",
       "      <th></th>\n",
       "      <th></th>\n",
       "      <th></th>\n",
       "      <th></th>\n",
       "      <th></th>\n",
       "      <th></th>\n",
       "      <th></th>\n",
       "      <th></th>\n",
       "      <th></th>\n",
       "      <th></th>\n",
       "      <th></th>\n",
       "      <th></th>\n",
       "    </tr>\n",
       "  </thead>\n",
       "  <tbody>\n",
       "    <tr>\n",
       "      <th>0</th>\n",
       "      <td>-0.317041</td>\n",
       "      <td>0.264706</td>\n",
       "      <td>0.352941</td>\n",
       "      <td>0.359477</td>\n",
       "      <td>0.326797</td>\n",
       "      <td>4.022876</td>\n",
       "      <td>4.392157</td>\n",
       "      <td>4.385621</td>\n",
       "      <td>1.444444</td>\n",
       "      <td>1.310458</td>\n",
       "      <td>7.732026</td>\n",
       "      <td>1.003268</td>\n",
       "      <td>7.732026</td>\n",
       "      <td>5.911765</td>\n",
       "      <td>1.454248</td>\n",
       "      <td>6.30719</td>\n",
       "    </tr>\n",
       "    <tr>\n",
       "      <th>2</th>\n",
       "      <td>0.019188</td>\n",
       "      <td>0.518750</td>\n",
       "      <td>0.522917</td>\n",
       "      <td>0.497917</td>\n",
       "      <td>0.550000</td>\n",
       "      <td>2.614583</td>\n",
       "      <td>1.972917</td>\n",
       "      <td>2.304167</td>\n",
       "      <td>4.658333</td>\n",
       "      <td>4.535417</td>\n",
       "      <td>4.066667</td>\n",
       "      <td>4.970833</td>\n",
       "      <td>4.066667</td>\n",
       "      <td>2.654167</td>\n",
       "      <td>4.433333</td>\n",
       "      <td>2.50625</td>\n",
       "    </tr>\n",
       "    <tr>\n",
       "      <th>3</th>\n",
       "      <td>-0.072823</td>\n",
       "      <td>0.450000</td>\n",
       "      <td>0.478125</td>\n",
       "      <td>0.503125</td>\n",
       "      <td>0.512500</td>\n",
       "      <td>6.825000</td>\n",
       "      <td>6.843750</td>\n",
       "      <td>6.281250</td>\n",
       "      <td>3.928125</td>\n",
       "      <td>3.950000</td>\n",
       "      <td>4.134375</td>\n",
       "      <td>3.978125</td>\n",
       "      <td>4.134375</td>\n",
       "      <td>2.259375</td>\n",
       "      <td>4.775000</td>\n",
       "      <td>2.61875</td>\n",
       "    </tr>\n",
       "  </tbody>\n",
       "</table>\n",
       "</div>"
      ],
      "text/plain": [
       "              prop     dir_D   dir_D-1   dir_D-2   dir_D-3  RSL_std5  \\\n",
       "Clusters                                                               \n",
       "0        -0.317041  0.264706  0.352941  0.359477  0.326797  4.022876   \n",
       "2         0.019188  0.518750  0.522917  0.497917  0.550000  2.614583   \n",
       "3        -0.072823  0.450000  0.478125  0.503125  0.512500  6.825000   \n",
       "\n",
       "          RSL_std10  RSL_std15         v         a         f         T  \\\n",
       "Clusters                                                                 \n",
       "0          4.392157   4.385621  1.444444  1.310458  7.732026  1.003268   \n",
       "2          1.972917   2.304167  4.658333  4.535417  4.066667  4.970833   \n",
       "3          6.843750   6.281250  3.928125  3.950000  4.134375  3.978125   \n",
       "\n",
       "                 w         k       tau        g  \n",
       "Clusters                                         \n",
       "0         7.732026  5.911765  1.454248  6.30719  \n",
       "2         4.066667  2.654167  4.433333  2.50625  \n",
       "3         4.134375  2.259375  4.775000  2.61875  "
      ]
     },
     "execution_count": 60,
     "metadata": {},
     "output_type": "execute_result"
    }
   ],
   "source": [
    "df_stats_test[df_stats_test.Clusters.isin([0,3,2])].groupby(\"Clusters\")['prop', 'dir_D', 'dir_D-1', 'dir_D-2',\n",
    "       'dir_D-3', 'RSL_std5', 'RSL_std10', 'RSL_std15', 'v', 'a', 'f', 'T',\n",
    "       'w', 'k', 'tau', 'g'].mean()"
   ]
  },
  {
   "cell_type": "code",
   "execution_count": null,
   "metadata": {},
   "outputs": [],
   "source": []
  },
  {
   "cell_type": "code",
   "execution_count": 61,
   "metadata": {},
   "outputs": [],
   "source": [
    "# Separando os dados com as variaveis em x e o alvo em y\n",
    " \n",
    "x_train1 = df_stats_train.iloc[:, 9:16]\n",
    "y_train1 = df_stats_train['Alvo_Bin'].values.reshape(-1, 1)\n",
    "\n",
    "x_test1 = df_stats_test.iloc[:, 9:16]\n",
    "y_test1 = df_stats_test['Alvo_Bin'].values.reshape(-1, 1)"
   ]
  },
  {
   "cell_type": "markdown",
   "metadata": {},
   "source": [
    "______________________________________________________"
   ]
  },
  {
   "cell_type": "markdown",
   "metadata": {},
   "source": [
    "### Passo 9 - Retreinamento do K-means\n"
   ]
  },
  {
   "cell_type": "code",
   "execution_count": 62,
   "metadata": {
    "scrolled": false
   },
   "outputs": [],
   "source": [
    "min_clusters = 2\n",
    "max_clusters = 20\n",
    "inertias = np.zeros(shape = (max_clusters - min_clusters + 1,))"
   ]
  },
  {
   "cell_type": "code",
   "execution_count": 63,
   "metadata": {},
   "outputs": [],
   "source": [
    "for i in range(min_clusters, max_clusters + 1):\n",
    "    km = KMeans(n_clusters = i, random_state = 42)\n",
    "    km.fit(x_train1)\n",
    "    inertias[i - min_clusters] = km.inertia_"
   ]
  },
  {
   "cell_type": "code",
   "execution_count": 64,
   "metadata": {},
   "outputs": [
    {
     "data": {
      "image/png": "[encoded data removed]",
      "text/plain": [
       "<Figure size 720x432 with 1 Axes>"
      ]
     },
     "metadata": {
      "needs_background": "light"
     },
     "output_type": "display_data"
    }
   ],
   "source": [
    "plt.figure(figsize = (10, 6))\n",
    "plt.plot(range(min_clusters, max_clusters + 1), inertias, color = \"b\")\n",
    "plt.title(\"Avaliaçao do numero de clusters\")\n",
    "plt.xlabel(\"# de clusters\")\n",
    "plt.ylabel(\"Soma da distancia quadrada\")\n",
    "plt.annotate(\"# de clusters escolhido\", xy = (7, 6000), xytext = (7.5, 7000),\n",
    "            arrowprops = dict(facecolor = \"red\", shrink = 0.05),\n",
    "            );"
   ]
  },
  {
   "cell_type": "code",
   "execution_count": 65,
   "metadata": {},
   "outputs": [],
   "source": [
    "kmodel = KMeans(n_clusters = 6, random_state = 42)\n",
    "clusters = kmodel.fit(x_train1)"
   ]
  },
  {
   "cell_type": "code",
   "execution_count": 66,
   "metadata": {},
   "outputs": [
    {
     "data": {
      "text/plain": [
       "array([2, 1, 5, ..., 2, 2, 1])"
      ]
     },
     "execution_count": 66,
     "metadata": {},
     "output_type": "execute_result"
    }
   ],
   "source": [
    "# Acessando os clusters\n",
    "\n",
    "clusters.labels_"
   ]
  },
  {
   "cell_type": "code",
   "execution_count": 67,
   "metadata": {},
   "outputs": [],
   "source": [
    "# Aplicando os clusters na base de treinamento e na base de teste\n",
    "# Atribuido-os à base de treinamento e teste\n",
    "\n",
    "train_clusters = pd.DataFrame(clusters.labels_,columns = [\"Cluster\"])\n",
    "train_clusters[\"Label\"] = y_train1\n",
    "train_clusters[\"Alvo1\"] = df1_train1['Alvo1'].values.reshape(-1, 1)\n",
    "\n",
    "\n",
    "fitted_clusters = kmodel.predict(x_test1)\n",
    "test_clusters = pd.DataFrame(fitted_clusters,columns = [\"Cluster\"])\n",
    "test_clusters[\"Label\"] = y_test1\n",
    "test_clusters[\"Alvo1\"] = df1_test1['Alvo1'].values.reshape(-1, 1)"
   ]
  },
  {
   "cell_type": "code",
   "execution_count": 68,
   "metadata": {},
   "outputs": [
    {
     "data": {
      "text/html": [
       "<div>\n",
       "<style scoped>\n",
       "    .dataframe tbody tr th:only-of-type {\n",
       "        vertical-align: middle;\n",
       "    }\n",
       "\n",
       "    .dataframe tbody tr th {\n",
       "        vertical-align: top;\n",
       "    }\n",
       "\n",
       "    .dataframe thead th {\n",
       "        text-align: right;\n",
       "    }\n",
       "</style>\n",
       "<table border=\"1\" class=\"dataframe\">\n",
       "  <thead>\n",
       "    <tr style=\"text-align: right;\">\n",
       "      <th>Label</th>\n",
       "      <th>-1</th>\n",
       "      <th>0</th>\n",
       "      <th>1</th>\n",
       "    </tr>\n",
       "    <tr>\n",
       "      <th>Cluster</th>\n",
       "      <th></th>\n",
       "      <th></th>\n",
       "      <th></th>\n",
       "    </tr>\n",
       "  </thead>\n",
       "  <tbody>\n",
       "    <tr>\n",
       "      <th>0</th>\n",
       "      <td>163</td>\n",
       "      <td>129</td>\n",
       "      <td>127</td>\n",
       "    </tr>\n",
       "    <tr>\n",
       "      <th>1</th>\n",
       "      <td>78</td>\n",
       "      <td>58</td>\n",
       "      <td>61</td>\n",
       "    </tr>\n",
       "    <tr>\n",
       "      <th>2</th>\n",
       "      <td>132</td>\n",
       "      <td>121</td>\n",
       "      <td>107</td>\n",
       "    </tr>\n",
       "    <tr>\n",
       "      <th>3</th>\n",
       "      <td>132</td>\n",
       "      <td>76</td>\n",
       "      <td>133</td>\n",
       "    </tr>\n",
       "    <tr>\n",
       "      <th>4</th>\n",
       "      <td>76</td>\n",
       "      <td>74</td>\n",
       "      <td>86</td>\n",
       "    </tr>\n",
       "    <tr>\n",
       "      <th>5</th>\n",
       "      <td>90</td>\n",
       "      <td>86</td>\n",
       "      <td>82</td>\n",
       "    </tr>\n",
       "  </tbody>\n",
       "</table>\n",
       "</div>"
      ],
      "text/plain": [
       "Label     -1    0    1\n",
       "Cluster               \n",
       "0        163  129  127\n",
       "1         78   58   61\n",
       "2        132  121  107\n",
       "3        132   76  133\n",
       "4         76   74   86\n",
       "5         90   86   82"
      ]
     },
     "execution_count": 68,
     "metadata": {},
     "output_type": "execute_result"
    }
   ],
   "source": [
    "pd.crosstab(train_clusters[\"Cluster\"], train_clusters[\"Label\"])"
   ]
  },
  {
   "cell_type": "code",
   "execution_count": 69,
   "metadata": {},
   "outputs": [
    {
     "data": {
      "text/plain": [
       "Cluster\n",
       "0   -0.072615\n",
       "1   -0.103731\n",
       "2   -0.218418\n",
       "3    0.323700\n",
       "4    0.144395\n",
       "5   -0.050075\n",
       "Name: Alvo1, dtype: float64"
      ]
     },
     "execution_count": 69,
     "metadata": {},
     "output_type": "execute_result"
    }
   ],
   "source": [
    "train_clusters.groupby(\"Cluster\")[\"Alvo1\"].sum()"
   ]
  },
  {
   "cell_type": "markdown",
   "metadata": {},
   "source": [
    "______________________________________________________"
   ]
  },
  {
   "cell_type": "markdown",
   "metadata": {},
   "source": [
    "### Passo 10 - Re-avaliaçao dos Resultados"
   ]
  },
  {
   "cell_type": "code",
   "execution_count": 70,
   "metadata": {},
   "outputs": [],
   "source": [
    "# Calculando a performance - para toda a base\n",
    "\n",
    "y_pred_all = kmodel.predict(df_stats.iloc[:, 9:16])\n",
    "df_stats.loc[: , \"Clusters\"] = y_pred_all"
   ]
  },
  {
   "cell_type": "code",
   "execution_count": 71,
   "metadata": {},
   "outputs": [],
   "source": [
    "df_stats.loc[: , \"Previsto\"] = np.where(((df_stats.loc[: , \"Clusters\"] == 3) ), 1,\n",
    "                                           np.where((df_stats.loc[: , \"Clusters\"] == 2),-1\n",
    "                                                   ,0))"
   ]
  },
  {
   "cell_type": "code",
   "execution_count": 72,
   "metadata": {},
   "outputs": [],
   "source": [
    "df_stats.loc[: , \"Retorno_Modelo\"] = df_stats.loc[: , \"Previsto\"]*df_stats[\"Alvo1\"]"
   ]
  },
  {
   "cell_type": "code",
   "execution_count": 73,
   "metadata": {},
   "outputs": [],
   "source": [
    "df_stats.loc[: , \"Retorno_Modelo_Acumulado\"] = df_stats[\"Retorno_Modelo\"].cumsum()"
   ]
  },
  {
   "cell_type": "code",
   "execution_count": 74,
   "metadata": {},
   "outputs": [
    {
     "data": {
      "text/plain": [
       "Data\n",
       "2020-08-12    1.044040\n",
       "2020-09-12    1.072072\n",
       "2020-10-12    1.080625\n",
       "2020-11-12    1.089895\n",
       "2020-12-14    1.084423\n",
       "Name: Retorno_Modelo_Acumulado, dtype: float64"
      ]
     },
     "execution_count": 74,
     "metadata": {},
     "output_type": "execute_result"
    }
   ],
   "source": [
    "df_stats.loc[: , \"Retorno_Modelo_Acumulado\"].tail()"
   ]
  },
  {
   "cell_type": "code",
   "execution_count": 75,
   "metadata": {},
   "outputs": [],
   "source": [
    "# Para fazer um conditional plot\n",
    "\n",
    "df_stats.index.name = \"Date\"\n",
    "df_stats.reset_index(inplace = True)\n",
    "\n",
    "df_stats[\"Date\"] = pd.to_datetime(df_stats[\"Date\"])\n",
    "\n",
    "df_stats[\"train_test\"] = np.where(df_stats[\"Date\"] > end_train, 1, -1)"
   ]
  },
  {
   "cell_type": "code",
   "execution_count": 76,
   "metadata": {},
   "outputs": [],
   "source": [
    "base_agregada = df_stats.resample(\"M\", on = \"Date\").sum()\n",
    "\n",
    "base_agregada.loc[: , \"Retorno_Modelo_Acumulado\"] = base_agregada[\"Retorno_Modelo\"].cumsum()*100"
   ]
  },
  {
   "cell_type": "code",
   "execution_count": 77,
   "metadata": {
    "scrolled": false
   },
   "outputs": [
    {
     "data": {
      "text/html": [
       "<div>\n",
       "<style scoped>\n",
       "    .dataframe tbody tr th:only-of-type {\n",
       "        vertical-align: middle;\n",
       "    }\n",
       "\n",
       "    .dataframe tbody tr th {\n",
       "        vertical-align: top;\n",
       "    }\n",
       "\n",
       "    .dataframe thead th {\n",
       "        text-align: right;\n",
       "    }\n",
       "</style>\n",
       "<table border=\"1\" class=\"dataframe\">\n",
       "  <thead>\n",
       "    <tr style=\"text-align: right;\">\n",
       "      <th></th>\n",
       "    </tr>\n",
       "  </thead>\n",
       "  <tbody>\n",
       "  </tbody>\n",
       "</table>\n",
       "</div>"
      ],
      "text/plain": [
       "Empty DataFrame\n",
       "Columns: []\n",
       "Index: []"
      ]
     },
     "execution_count": 77,
     "metadata": {},
     "output_type": "execute_result"
    },
    {
     "data": {
      "image/png": "[encoded data removed]",
      "text/plain": [
       "<Figure size 1440x1080 with 1 Axes>"
      ]
     },
     "metadata": {
      "needs_background": "light"
     },
     "output_type": "display_data"
    }
   ],
   "source": [
    "# Plota o grafico\n",
    "fig, ax = plt.subplots(figsize = (20,15))\n",
    "\n",
    "def grafico(group):\n",
    "    color = \"black\" if (group[\"train_test\"] < 0).all() else \"blue\"\n",
    "    lw = 4.0\n",
    "    ax.plot(group.index, group.Retorno_Modelo_Acumulado, c=color, linewidth=lw)\n",
    "    plt.xlabel(\"Ano\"\n",
    "           , fontsize = 18);\n",
    "    plt.ylabel(\"Retorno Acumulado (%)\"\n",
    "           , fontsize = 18);\n",
    "    plt.title(\"K-Means - 7 anos no DOLFUT\", fontsize = 24)\n",
    "    plt.axvline( x = end_train, color='purple', linestyle = \"--\", lw = 2)\n",
    "    setup = dict(size = 16, color = \"darkgreen\")\n",
    "    setup2 = dict(size = 14, color = \"black\")\n",
    "    plt.text(\"2009-08-01\", 80, \"Treinamento: 2005-2012\", **setup)\n",
    "    plt.text(\"2017-01-01\", 70, \"Teste: 2013-2020\", **setup)\n",
    "    plt.text(\"2010-01-01\", 76.5, \"Retorno total: +108%\", **setup2)\n",
    "    plt.text(\"2010-01-01\", 73.0, \"Retorno teste: +56%\", **setup2)\n",
    "    plt.text(\"2017-03-01\", 75.5, \"www.outspokenmarket.com\", **setup2)\n",
    "\n",
    "base_agregada.groupby((base_agregada[\"train_test\"].shift() * base_agregada[\"train_test\"] < 0).cumsum()).apply(grafico)\n"
   ]
  },
  {
   "cell_type": "code",
   "execution_count": null,
   "metadata": {},
   "outputs": [],
   "source": [
    "test_clusters.groupby(\"Cluster\")[\"Alvo1\"].sum()"
   ]
  }
 ],
 "metadata": {
  "kernelspec": {
   "display_name": "Python 3",
   "language": "python",
   "name": "python3"
  },
  "language_info": {
   "codemirror_mode": {
    "name": "ipython",
    "version": 3
   },
   "file_extension": ".py",
   "mimetype": "text/x-python",
   "name": "python",
   "nbconvert_exporter": "python",
   "pygments_lexer": "ipython3",
   "version": "3.8.5"
  }
 },
 "nbformat": 4,
 "nbformat_minor": 2
}
